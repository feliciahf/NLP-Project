{
  "nbformat": 4,
  "nbformat_minor": 0,
  "metadata": {
    "colab": {
      "name": "NBbigrams_Scikit.ipynb",
      "provenance": [],
      "authorship_tag": "ABX9TyMQiRA/pD/wB76l4auyTR12",
      "include_colab_link": true
    },
    "kernelspec": {
      "name": "python3",
      "display_name": "Python 3"
    }
  },
  "cells": [
    {
      "cell_type": "markdown",
      "metadata": {
        "id": "view-in-github",
        "colab_type": "text"
      },
      "source": [
        "<a href=\"https://colab.research.google.com/github/feliciahf/NLP-Project/blob/main/NBbigrams_Scikit.ipynb\" target=\"_parent\"><img src=\"https://colab.research.google.com/assets/colab-badge.svg\" alt=\"Open In Colab\"/></a>"
      ]
    },
    {
      "cell_type": "markdown",
      "metadata": {
        "id": "5jCbiyarkF-T"
      },
      "source": [
        "# Bigrams"
      ]
    },
    {
      "cell_type": "markdown",
      "metadata": {
        "id": "oWgc64umoGCx"
      },
      "source": [
        "## Importing Data"
      ]
    },
    {
      "cell_type": "code",
      "metadata": {
        "colab": {
          "base_uri": "https://localhost:8080/"
        },
        "id": "kWhS3JSpjfM_",
        "outputId": "96e1c8d2-4f5b-45f2-a6cf-1116cfbda275"
      },
      "source": [
        "# mount Google Drive\n",
        "from google.colab import  drive\n",
        "drive.mount('/drive')"
      ],
      "execution_count": 1,
      "outputs": [
        {
          "output_type": "stream",
          "text": [
            "Mounted at /drive\n"
          ],
          "name": "stdout"
        }
      ]
    },
    {
      "cell_type": "code",
      "metadata": {
        "id": "10ZUSaWNkLgK"
      },
      "source": [
        "# import file from Google Drive\n",
        "import pandas as pd\n",
        "df = pd.read_csv('/drive/My Drive/book32listing.csv',encoding='latin1', header=None)"
      ],
      "execution_count": 2,
      "outputs": []
    },
    {
      "cell_type": "code",
      "metadata": {
        "colab": {
          "base_uri": "https://localhost:8080/"
        },
        "id": "6Usxgc-WkOb1",
        "outputId": "8e35ee36-1a81-48c3-c5db-ba5fc7bdb3e3"
      },
      "source": [
        "# drop columns that are not needed\n",
        "#df = pd.read_csv(\"book32listing.csv\", encoding='latin1', header=None)\n",
        "df1 = df[[3,6,5]] # only columns with titles and genres\n",
        "df1.columns = ['title', 'genre', 'label']\n",
        "print(df1)"
      ],
      "execution_count": 73,
      "outputs": [
        {
          "output_type": "stream",
          "text": [
            "                                                    title      genre  label\n",
            "0                         Mom's Family Wall Calendar 2016  Calendars      3\n",
            "1                         Doug the Pug 2016 Wall Calendar  Calendars      3\n",
            "2       Moleskine 2016 Weekly Notebook, 12M, Large, Bl...  Calendars      3\n",
            "3                 365 Cats Color Page-A-Day Calendar 2016  Calendars      3\n",
            "4                    Sierra Club Engagement Calendar 2016  Calendars      3\n",
            "...                                                   ...        ...    ...\n",
            "207567  ADC the Map People Washington D.C.: Street Map...     Travel     29\n",
            "207568  Washington, D.C., Then and Now: 69 Sites Photo...     Travel     29\n",
            "207569  The Unofficial Guide to Washington, D.C. (Unof...     Travel     29\n",
            "207570      Washington, D.C. For Dummies (Dummies Travel)     Travel     29\n",
            "207571  Fodor's Where to Weekend Around Boston, 1st Ed...     Travel     29\n",
            "\n",
            "[207572 rows x 3 columns]\n"
          ],
          "name": "stdout"
        }
      ]
    },
    {
      "cell_type": "markdown",
      "metadata": {
        "id": "An9VSuJcoIvo"
      },
      "source": [
        "## Preprocessing"
      ]
    },
    {
      "cell_type": "code",
      "metadata": {
        "colab": {
          "base_uri": "https://localhost:8080/"
        },
        "id": "jtOO0D9zmueI",
        "outputId": "1a2ee25c-cf9c-43ec-b605-5edad400341e"
      },
      "source": [
        "# case collapsing\n",
        "df1['title'] = df1.title.map(lambda x: x.lower())"
      ],
      "execution_count": 75,
      "outputs": [
        {
          "output_type": "stream",
          "text": [
            "/usr/local/lib/python3.6/dist-packages/ipykernel_launcher.py:2: SettingWithCopyWarning: \n",
            "A value is trying to be set on a copy of a slice from a DataFrame.\n",
            "Try using .loc[row_indexer,col_indexer] = value instead\n",
            "\n",
            "See the caveats in the documentation: https://pandas.pydata.org/pandas-docs/stable/user_guide/indexing.html#returning-a-view-versus-a-copy\n",
            "  \n"
          ],
          "name": "stderr"
        }
      ]
    },
    {
      "cell_type": "code",
      "metadata": {
        "colab": {
          "base_uri": "https://localhost:8080/"
        },
        "id": "sK6QVs2Cm6wU",
        "outputId": "f2c7ea39-dec6-4cff-f7a6-414f2ce65f14"
      },
      "source": [
        "# remove punctuation\n",
        "df1['title'] = df1.title.str.replace('[^\\w\\s]', '')"
      ],
      "execution_count": 76,
      "outputs": [
        {
          "output_type": "stream",
          "text": [
            "/usr/local/lib/python3.6/dist-packages/ipykernel_launcher.py:2: SettingWithCopyWarning: \n",
            "A value is trying to be set on a copy of a slice from a DataFrame.\n",
            "Try using .loc[row_indexer,col_indexer] = value instead\n",
            "\n",
            "See the caveats in the documentation: https://pandas.pydata.org/pandas-docs/stable/user_guide/indexing.html#returning-a-view-versus-a-copy\n",
            "  \n"
          ],
          "name": "stderr"
        }
      ]
    },
    {
      "cell_type": "code",
      "metadata": {
        "id": "YFMMtuN_nwlF"
      },
      "source": [
        "# transform data into occurrences\n",
        "from sklearn.feature_extraction.text import CountVectorizer\n",
        "\n",
        "count_vect = CountVectorizer(analyzer='char', ngram_range=(2, 2))\n",
        "counts = count_vect.fit_transform(df1['title'])"
      ],
      "execution_count": 77,
      "outputs": []
    },
    {
      "cell_type": "code",
      "metadata": {
        "id": "yBTLWpMXn8zW"
      },
      "source": [
        "# tf-idf\n",
        "from sklearn.feature_extraction.text import TfidfTransformer\n",
        "\n",
        "transformer = TfidfTransformer().fit(counts)\n",
        "\n",
        "counts = transformer.transform(counts)"
      ],
      "execution_count": 78,
      "outputs": []
    },
    {
      "cell_type": "markdown",
      "metadata": {
        "id": "LnPdMjc_oAo-"
      },
      "source": [
        "## Training NB Model"
      ]
    },
    {
      "cell_type": "code",
      "metadata": {
        "id": "kBeA4Hekn-WU"
      },
      "source": [
        "# split data into train (80%) and test (20%)\n",
        "from sklearn.model_selection import train_test_split\n",
        "\n",
        "X_train, X_test, y_train, y_test = train_test_split(counts, df1['label'], test_size=0.2, random_state=69)"
      ],
      "execution_count": 79,
      "outputs": []
    },
    {
      "cell_type": "code",
      "metadata": {
        "id": "guqCm4hmoNVU"
      },
      "source": [
        "from sklearn.naive_bayes import MultinomialNB\n",
        "\n",
        "model = MultinomialNB().fit(X_train, y_train)"
      ],
      "execution_count": 80,
      "outputs": []
    },
    {
      "cell_type": "markdown",
      "metadata": {
        "id": "G7aGg7RqobWU"
      },
      "source": [
        "## Evaluating NB Model"
      ]
    },
    {
      "cell_type": "code",
      "metadata": {
        "colab": {
          "base_uri": "https://localhost:8080/"
        },
        "id": "L_jLzz1UoZLe",
        "outputId": "d28981af-c462-4121-ded9-250a3c7844a4"
      },
      "source": [
        "# accuracy\n",
        "import numpy as np\n",
        "\n",
        "predicted = model.predict(X_test)\n",
        "\n",
        "print(np.mean(predicted == y_test))"
      ],
      "execution_count": 81,
      "outputs": [
        {
          "output_type": "stream",
          "text": [
            "0.3315187281705408\n"
          ],
          "name": "stdout"
        }
      ]
    },
    {
      "cell_type": "code",
      "metadata": {
        "colab": {
          "base_uri": "https://localhost:8080/"
        },
        "id": "H8VqPrMQodw-",
        "outputId": "5015d9db-0c5c-4bf5-9c18-ff96717b5cef"
      },
      "source": [
        "# confusion matrix\n",
        "from sklearn.metrics import confusion_matrix\n",
        "\n",
        "print(confusion_matrix(y_test, predicted))"
      ],
      "execution_count": 82,
      "outputs": [
        {
          "output_type": "stream",
          "text": [
            "[[  49    0   80 ...  335    0    0]\n",
            " [   0    8   27 ...  219    0    0]\n",
            " [   2    0  735 ...  269    0    0]\n",
            " ...\n",
            " [   9    1   46 ... 2836    1    0]\n",
            " [   0    1   20 ...   53    2    0]\n",
            " [   0    0   68 ...   56    0    0]]\n"
          ],
          "name": "stdout"
        }
      ]
    },
    {
      "cell_type": "code",
      "metadata": {
        "id": "VdStjJxzokxN",
        "colab": {
          "base_uri": "https://localhost:8080/"
        },
        "outputId": "12c1eb05-1756-45db-e07a-77b1d2cf3578"
      },
      "source": [
        "# examine class distribution\n",
        "y_test.value_counts()"
      ],
      "execution_count": 83,
      "outputs": [
        {
          "output_type": "execute_result",
          "data": {
            "text/plain": [
              "29    3663\n",
              "4     2740\n",
              "16    2485\n",
              "11    2397\n",
              "2     1990\n",
              "8     1953\n",
              "23    1858\n",
              "9     1826\n",
              "7     1737\n",
              "6     1617\n",
              "15    1545\n",
              "27    1488\n",
              "21    1472\n",
              "14    1460\n",
              "13    1347\n",
              "12    1344\n",
              "0     1308\n",
              "26    1232\n",
              "22     893\n",
              "1      837\n",
              "24     733\n",
              "20     660\n",
              "19     634\n",
              "28     609\n",
              "5      598\n",
              "25     565\n",
              "18     510\n",
              "3      500\n",
              "10     485\n",
              "17     429\n",
              "31     326\n",
              "30     274\n",
              "Name: label, dtype: int64"
            ]
          },
          "metadata": {
            "tags": []
          },
          "execution_count": 83
        }
      ]
    },
    {
      "cell_type": "code",
      "metadata": {
        "id": "cMSQDVb53-o-"
      },
      "source": [
        ""
      ],
      "execution_count": null,
      "outputs": []
    }
  ]
}