{
  "nbformat": 4,
  "nbformat_minor": 0,
  "metadata": {
    "colab": {
      "name": "NBlemma_Scikit.ipynb",
      "provenance": [],
      "collapsed_sections": [],
      "authorship_tag": "ABX9TyNQf0Rlum1k8PbNe+jvfdDx",
      "include_colab_link": true
    },
    "kernelspec": {
      "name": "python3",
      "display_name": "Python 3"
    }
  },
  "cells": [
    {
      "cell_type": "markdown",
      "metadata": {
        "id": "view-in-github",
        "colab_type": "text"
      },
      "source": [
        "<a href=\"https://colab.research.google.com/github/feliciahf/NLP-Project/blob/main/NBlemma_Scikit.ipynb\" target=\"_parent\"><img src=\"https://colab.research.google.com/assets/colab-badge.svg\" alt=\"Open In Colab\"/></a>"
      ]
    },
    {
      "cell_type": "markdown",
      "metadata": {
        "id": "5jCbiyarkF-T"
      },
      "source": [
        "# Lemmatization"
      ]
    },
    {
      "cell_type": "markdown",
      "metadata": {
        "id": "oWgc64umoGCx"
      },
      "source": [
        "## Importing Data"
      ]
    },
    {
      "cell_type": "code",
      "metadata": {
        "colab": {
          "base_uri": "https://localhost:8080/"
        },
        "id": "kWhS3JSpjfM_",
        "outputId": "ea7326f4-d06a-42ee-f849-80a30fb4aedc"
      },
      "source": [
        "# mount Google Drive\n",
        "from google.colab import  drive\n",
        "drive.mount('/drive')"
      ],
      "execution_count": 1,
      "outputs": [
        {
          "output_type": "stream",
          "text": [
            "Mounted at /drive\n"
          ],
          "name": "stdout"
        }
      ]
    },
    {
      "cell_type": "code",
      "metadata": {
        "id": "10ZUSaWNkLgK"
      },
      "source": [
        "# import file from Google Drive\n",
        "import pandas as pd\n",
        "df = pd.read_csv('/drive/My Drive/book32listing.csv',encoding='latin1', header=None)"
      ],
      "execution_count": 2,
      "outputs": []
    },
    {
      "cell_type": "code",
      "metadata": {
        "colab": {
          "base_uri": "https://localhost:8080/"
        },
        "id": "6Usxgc-WkOb1",
        "outputId": "ffd13b52-a9c3-4403-bd31-4b13874bac2d"
      },
      "source": [
        "# drop columns that are not needed\n",
        "#df = pd.read_csv(\"book32listing.csv\", encoding='latin1', header=None)\n",
        "df1 = df[[3,6,5]] # only columns with titles and genres\n",
        "df1.columns = ['title', 'genre', 'label']\n",
        "print(df1)"
      ],
      "execution_count": 3,
      "outputs": [
        {
          "output_type": "stream",
          "text": [
            "                                                    title      genre  label\n",
            "0                         Mom's Family Wall Calendar 2016  Calendars      3\n",
            "1                         Doug the Pug 2016 Wall Calendar  Calendars      3\n",
            "2       Moleskine 2016 Weekly Notebook, 12M, Large, Bl...  Calendars      3\n",
            "3                 365 Cats Color Page-A-Day Calendar 2016  Calendars      3\n",
            "4                    Sierra Club Engagement Calendar 2016  Calendars      3\n",
            "...                                                   ...        ...    ...\n",
            "207567  ADC the Map People Washington D.C.: Street Map...     Travel     29\n",
            "207568  Washington, D.C., Then and Now: 69 Sites Photo...     Travel     29\n",
            "207569  The Unofficial Guide to Washington, D.C. (Unof...     Travel     29\n",
            "207570      Washington, D.C. For Dummies (Dummies Travel)     Travel     29\n",
            "207571  Fodor's Where to Weekend Around Boston, 1st Ed...     Travel     29\n",
            "\n",
            "[207572 rows x 3 columns]\n"
          ],
          "name": "stdout"
        }
      ]
    },
    {
      "cell_type": "markdown",
      "metadata": {
        "id": "An9VSuJcoIvo"
      },
      "source": [
        "## Preprocessing"
      ]
    },
    {
      "cell_type": "code",
      "metadata": {
        "colab": {
          "base_uri": "https://localhost:8080/"
        },
        "id": "jtOO0D9zmueI",
        "outputId": "3ba49859-d987-447c-ad5f-7c6e6ba3e9c1"
      },
      "source": [
        "# case collapsing\n",
        "df1['title'] = df1.title.map(lambda x: x.lower())"
      ],
      "execution_count": 4,
      "outputs": [
        {
          "output_type": "stream",
          "text": [
            "/usr/local/lib/python3.6/dist-packages/ipykernel_launcher.py:2: SettingWithCopyWarning: \n",
            "A value is trying to be set on a copy of a slice from a DataFrame.\n",
            "Try using .loc[row_indexer,col_indexer] = value instead\n",
            "\n",
            "See the caveats in the documentation: https://pandas.pydata.org/pandas-docs/stable/user_guide/indexing.html#returning-a-view-versus-a-copy\n",
            "  \n"
          ],
          "name": "stderr"
        }
      ]
    },
    {
      "cell_type": "code",
      "metadata": {
        "colab": {
          "base_uri": "https://localhost:8080/"
        },
        "id": "sK6QVs2Cm6wU",
        "outputId": "e1d2701c-83a9-438e-f021-9b5a30167bd5"
      },
      "source": [
        "# remove punctuation\n",
        "df1['title'] = df1.title.str.replace('[^\\w\\s]', '')"
      ],
      "execution_count": 5,
      "outputs": [
        {
          "output_type": "stream",
          "text": [
            "/usr/local/lib/python3.6/dist-packages/ipykernel_launcher.py:2: SettingWithCopyWarning: \n",
            "A value is trying to be set on a copy of a slice from a DataFrame.\n",
            "Try using .loc[row_indexer,col_indexer] = value instead\n",
            "\n",
            "See the caveats in the documentation: https://pandas.pydata.org/pandas-docs/stable/user_guide/indexing.html#returning-a-view-versus-a-copy\n",
            "  \n"
          ],
          "name": "stderr"
        }
      ]
    },
    {
      "cell_type": "code",
      "metadata": {
        "id": "tOtjrHIGnJZn",
        "outputId": "64e2910f-cbfe-42ea-b6b5-7604fdeb830d",
        "colab": {
          "base_uri": "https://localhost:8080/"
        }
      },
      "source": [
        "# import tokenizer\n",
        "import nltk\n",
        "from nltk.tokenize import word_tokenize\n",
        "nltk.download('punkt')"
      ],
      "execution_count": 6,
      "outputs": [
        {
          "output_type": "stream",
          "text": [
            "[nltk_data] Downloading package punkt to /root/nltk_data...\n",
            "[nltk_data]   Unzipping tokenizers/punkt.zip.\n"
          ],
          "name": "stdout"
        },
        {
          "output_type": "execute_result",
          "data": {
            "text/plain": [
              "True"
            ]
          },
          "metadata": {
            "tags": []
          },
          "execution_count": 6
        }
      ]
    },
    {
      "cell_type": "code",
      "metadata": {
        "colab": {
          "base_uri": "https://localhost:8080/"
        },
        "id": "Kqg87HeunKsm",
        "outputId": "d78e2ea8-1c33-46a2-e378-296c59fab788"
      },
      "source": [
        "# tokenization\n",
        "df1['title'] = df1['title'].apply(nltk.word_tokenize)"
      ],
      "execution_count": 7,
      "outputs": [
        {
          "output_type": "stream",
          "text": [
            "/usr/local/lib/python3.6/dist-packages/ipykernel_launcher.py:2: SettingWithCopyWarning: \n",
            "A value is trying to be set on a copy of a slice from a DataFrame.\n",
            "Try using .loc[row_indexer,col_indexer] = value instead\n",
            "\n",
            "See the caveats in the documentation: https://pandas.pydata.org/pandas-docs/stable/user_guide/indexing.html#returning-a-view-versus-a-copy\n",
            "  \n"
          ],
          "name": "stderr"
        }
      ]
    },
    {
      "cell_type": "code",
      "metadata": {
        "id": "wcO9t5LI4G0i",
        "outputId": "892cf084-6f9d-459d-a16e-f87071049b0d",
        "colab": {
          "base_uri": "https://localhost:8080/"
        }
      },
      "source": [
        "nltk.download('wordnet')"
      ],
      "execution_count": 9,
      "outputs": [
        {
          "output_type": "stream",
          "text": [
            "[nltk_data] Downloading package wordnet to /root/nltk_data...\n",
            "[nltk_data]   Unzipping corpora/wordnet.zip.\n"
          ],
          "name": "stdout"
        },
        {
          "output_type": "execute_result",
          "data": {
            "text/plain": [
              "True"
            ]
          },
          "metadata": {
            "tags": []
          },
          "execution_count": 9
        }
      ]
    },
    {
      "cell_type": "code",
      "metadata": {
        "colab": {
          "base_uri": "https://localhost:8080/"
        },
        "id": "LSn4XTI0nbNP",
        "outputId": "0eae67c9-b530-457c-ee45-def88b70d9ea"
      },
      "source": [
        "# lemmatization\n",
        "from nltk.stem import WordNetLemmatizer\n",
        "\n",
        "lemmatizer = WordNetLemmatizer()\n",
        " \n",
        "df1['title'] = df1['title'].apply(lambda x: [lemmatizer.lemmatize(y) for y in x])"
      ],
      "execution_count": 10,
      "outputs": [
        {
          "output_type": "stream",
          "text": [
            "/usr/local/lib/python3.6/dist-packages/ipykernel_launcher.py:6: SettingWithCopyWarning: \n",
            "A value is trying to be set on a copy of a slice from a DataFrame.\n",
            "Try using .loc[row_indexer,col_indexer] = value instead\n",
            "\n",
            "See the caveats in the documentation: https://pandas.pydata.org/pandas-docs/stable/user_guide/indexing.html#returning-a-view-versus-a-copy\n",
            "  \n"
          ],
          "name": "stderr"
        }
      ]
    },
    {
      "cell_type": "code",
      "metadata": {
        "colab": {
          "base_uri": "https://localhost:8080/"
        },
        "id": "YFMMtuN_nwlF",
        "outputId": "25dca5d6-b953-42f6-858b-ed6ec7bbe426"
      },
      "source": [
        "# transform data into occurrences\n",
        "from sklearn.feature_extraction.text import CountVectorizer\n",
        "\n",
        "# This converts the list of words into space-separated strings\n",
        "df1['title'] = df1['title'].apply(lambda x: ' '.join(x))\n",
        "\n",
        "count_vect = CountVectorizer()\n",
        "counts = count_vect.fit_transform(df1['title'])"
      ],
      "execution_count": 11,
      "outputs": [
        {
          "output_type": "stream",
          "text": [
            "/usr/local/lib/python3.6/dist-packages/ipykernel_launcher.py:5: SettingWithCopyWarning: \n",
            "A value is trying to be set on a copy of a slice from a DataFrame.\n",
            "Try using .loc[row_indexer,col_indexer] = value instead\n",
            "\n",
            "See the caveats in the documentation: https://pandas.pydata.org/pandas-docs/stable/user_guide/indexing.html#returning-a-view-versus-a-copy\n",
            "  \"\"\"\n"
          ],
          "name": "stderr"
        }
      ]
    },
    {
      "cell_type": "code",
      "metadata": {
        "id": "yBTLWpMXn8zW"
      },
      "source": [
        "# tf-idf\n",
        "from sklearn.feature_extraction.text import TfidfTransformer\n",
        "\n",
        "transformer = TfidfTransformer().fit(counts)\n",
        "counts = transformer.transform(counts)"
      ],
      "execution_count": 12,
      "outputs": []
    },
    {
      "cell_type": "markdown",
      "metadata": {
        "id": "LnPdMjc_oAo-"
      },
      "source": [
        "## Training NB Model"
      ]
    },
    {
      "cell_type": "code",
      "metadata": {
        "id": "kBeA4Hekn-WU"
      },
      "source": [
        "# split data into train (80%) and test (20%)\n",
        "from sklearn.model_selection import train_test_split\n",
        "\n",
        "X_train, X_test, y_train, y_test = train_test_split(counts, df1['label'], test_size=0.2, random_state=69)"
      ],
      "execution_count": 13,
      "outputs": []
    },
    {
      "cell_type": "code",
      "metadata": {
        "id": "guqCm4hmoNVU"
      },
      "source": [
        "from sklearn.naive_bayes import MultinomialNB\n",
        "\n",
        "model = MultinomialNB().fit(X_train, y_train)"
      ],
      "execution_count": 14,
      "outputs": []
    },
    {
      "cell_type": "markdown",
      "metadata": {
        "id": "G7aGg7RqobWU"
      },
      "source": [
        "## Evaluating NB Model"
      ]
    },
    {
      "cell_type": "code",
      "metadata": {
        "colab": {
          "base_uri": "https://localhost:8080/"
        },
        "id": "L_jLzz1UoZLe",
        "outputId": "7e886f64-82d0-416b-89ff-9e91b6f41f4b"
      },
      "source": [
        "# accuracy\n",
        "import numpy as np\n",
        "\n",
        "predicted = model.predict(X_test)\n",
        "print(np.mean(predicted == y_test))"
      ],
      "execution_count": 15,
      "outputs": [
        {
          "output_type": "stream",
          "text": [
            "0.5445501625918343\n"
          ],
          "name": "stdout"
        }
      ]
    },
    {
      "cell_type": "code",
      "metadata": {
        "colab": {
          "base_uri": "https://localhost:8080/"
        },
        "id": "mRewZHJd5Zgq",
        "outputId": "e1da5ad8-2262-42dd-dfb9-c39be3507cf1"
      },
      "source": [
        "# compute overall accuracy, precision, recall, f1 scores\n",
        "from sklearn.metrics import accuracy_score\n",
        "from sklearn.metrics import precision_score\n",
        "from sklearn.metrics import recall_score\n",
        "from sklearn.metrics import f1_score\n",
        "\n",
        "print('Accuracy: ', accuracy_score(y_test, predicted))\n",
        "print('Precision: ', precision_score(y_test, predicted, average='weighted', zero_division=1))\n",
        "print('Recall: ', recall_score(y_test, predicted, average='weighted', zero_division=1))\n",
        "print('F1:', f1_score(y_test, predicted, average='weighted'))"
      ],
      "execution_count": 16,
      "outputs": [
        {
          "output_type": "stream",
          "text": [
            "Accuracy:  0.5445501625918343\n",
            "Precision:  0.6477135302959284\n",
            "Recall:  0.5445501625918343\n",
            "F1: 0.5060259538699764\n"
          ],
          "name": "stdout"
        }
      ]
    },
    {
      "cell_type": "code",
      "metadata": {
        "colab": {
          "base_uri": "https://localhost:8080/"
        },
        "id": "geHdPblQ5bvp",
        "outputId": "6fd99bb6-aea7-459c-b1bb-581429a1253c"
      },
      "source": [
        "# compute accuracy, precision, recall, f1 scores by genre\n",
        "\n",
        "from sklearn.metrics import precision_recall_fscore_support as score\n",
        "\n",
        "# precision, recall, fscore, support separated by genre\n",
        "precision, recall, fscore, support = score(y_test, predicted)\n",
        "\n",
        "df_acc = pd.DataFrame()\n",
        "df_acc['precision']=pd.Series(precision)\n",
        "df_acc['recall']=pd.Series(recall)\n",
        "df_acc['fscore']=pd.Series(fscore)\n",
        "df_acc['support']=pd.Series(support)\n",
        "\n",
        "print(df_acc)\n",
        "# indexing corresponds to genre IDs/labels"
      ],
      "execution_count": 17,
      "outputs": [
        {
          "output_type": "stream",
          "text": [
            "    precision    recall    fscore  support\n",
            "0    0.747807  0.260703  0.386621     1308\n",
            "1    0.645833  0.037037  0.070056      837\n",
            "2    0.524390  0.756281  0.619342     1990\n",
            "3    0.912281  0.728000  0.809789      500\n",
            "4    0.336946  0.771533  0.469048     2740\n",
            "5    0.960000  0.160535  0.275072      598\n",
            "6    0.821053  0.723562  0.769231     1617\n",
            "7    0.828874  0.766839  0.796651     1737\n",
            "8    0.627721  0.723502  0.672217     1953\n",
            "9    0.527495  0.709200  0.604999     1826\n",
            "10   0.964286  0.111340  0.199630      485\n",
            "11   0.424832  0.765123  0.546321     2397\n",
            "12   0.591859  0.400298  0.477585     1344\n",
            "13   0.699045  0.325909  0.444557     1347\n",
            "14   0.771304  0.607534  0.679693     1460\n",
            "15   0.525826  0.329450  0.405094     1545\n",
            "16   0.604580  0.796781  0.687500     2485\n",
            "17   0.928571  0.030303  0.058691      429\n",
            "18   1.000000  0.009804  0.019417      510\n",
            "19   0.947368  0.028391  0.055130      634\n",
            "20   0.770115  0.101515  0.179384      660\n",
            "21   0.681655  0.514946  0.586687     1472\n",
            "22   0.888298  0.187010  0.308973      893\n",
            "23   0.655747  0.592573  0.622561     1858\n",
            "24   0.926702  0.241473  0.383117      733\n",
            "25   0.666667  0.003540  0.007042      565\n",
            "26   0.814480  0.292208  0.430108     1232\n",
            "27   0.588915  0.171371  0.265487     1488\n",
            "28   0.941953  0.586207  0.722672      609\n",
            "29   0.440082  0.933388  0.598146     3663\n",
            "30   1.000000  0.003650  0.007273      274\n",
            "31   1.000000  0.015337  0.030211      326\n"
          ],
          "name": "stdout"
        }
      ]
    },
    {
      "cell_type": "code",
      "metadata": {
        "colab": {
          "base_uri": "https://localhost:8080/"
        },
        "id": "H8VqPrMQodw-",
        "outputId": "3173c55d-43ff-4d5b-fd60-0ccc4fe47ea9"
      },
      "source": [
        "# confusion matrix\n",
        "from sklearn.metrics import confusion_matrix\n",
        "\n",
        "print(confusion_matrix(y_test, predicted))"
      ],
      "execution_count": 18,
      "outputs": [
        {
          "output_type": "stream",
          "text": [
            "[[ 341    0   61 ...  258    0    0]\n",
            " [   4   31   25 ...  257    0    0]\n",
            " [   5    0 1505 ...   92    0    0]\n",
            " ...\n",
            " [   3    0   22 ... 3419    0    0]\n",
            " [   3    0   12 ...   57    1    0]\n",
            " [   0    0   89 ...   13    0    5]]\n"
          ],
          "name": "stdout"
        }
      ]
    },
    {
      "cell_type": "code",
      "metadata": {
        "id": "VdStjJxzokxN",
        "outputId": "2d676e1b-70cc-40ea-a32c-9a88f574c035",
        "colab": {
          "base_uri": "https://localhost:8080/"
        }
      },
      "source": [
        "# examine class distribution\n",
        "y_test.value_counts()"
      ],
      "execution_count": 19,
      "outputs": [
        {
          "output_type": "execute_result",
          "data": {
            "text/plain": [
              "29    3663\n",
              "4     2740\n",
              "16    2485\n",
              "11    2397\n",
              "2     1990\n",
              "8     1953\n",
              "23    1858\n",
              "9     1826\n",
              "7     1737\n",
              "6     1617\n",
              "15    1545\n",
              "27    1488\n",
              "21    1472\n",
              "14    1460\n",
              "13    1347\n",
              "12    1344\n",
              "0     1308\n",
              "26    1232\n",
              "22     893\n",
              "1      837\n",
              "24     733\n",
              "20     660\n",
              "19     634\n",
              "28     609\n",
              "5      598\n",
              "25     565\n",
              "18     510\n",
              "3      500\n",
              "10     485\n",
              "17     429\n",
              "31     326\n",
              "30     274\n",
              "Name: label, dtype: int64"
            ]
          },
          "metadata": {
            "tags": []
          },
          "execution_count": 19
        }
      ]
    }
  ]
}