{
  "nbformat": 4,
  "nbformat_minor": 0,
  "metadata": {
    "colab": {
      "name": "NB_Scikit.ipynb",
      "provenance": [],
      "collapsed_sections": [],
      "authorship_tag": "ABX9TyPfujUnQwIFlEDdPxVU3sM+",
      "include_colab_link": true
    },
    "kernelspec": {
      "name": "python3",
      "display_name": "Python 3"
    }
  },
  "cells": [
    {
      "cell_type": "markdown",
      "metadata": {
        "id": "view-in-github",
        "colab_type": "text"
      },
      "source": [
        "<a href=\"https://colab.research.google.com/github/feliciahf/NLP-Project/blob/main/NB_Scikit.ipynb\" target=\"_parent\"><img src=\"https://colab.research.google.com/assets/colab-badge.svg\" alt=\"Open In Colab\"/></a>"
      ]
    },
    {
      "cell_type": "markdown",
      "metadata": {
        "id": "5jCbiyarkF-T"
      },
      "source": [
        "# Multinomial Naive Bayes"
      ]
    },
    {
      "cell_type": "markdown",
      "metadata": {
        "id": "oWgc64umoGCx"
      },
      "source": [
        "## Importing Data"
      ]
    },
    {
      "cell_type": "code",
      "metadata": {
        "colab": {
          "base_uri": "https://localhost:8080/"
        },
        "id": "kWhS3JSpjfM_",
        "outputId": "b3103c6f-3574-4d8d-ae15-09b87bad746a"
      },
      "source": [
        "# mount Google Drive\n",
        "from google.colab import  drive\n",
        "drive.mount('/drive')"
      ],
      "execution_count": 1,
      "outputs": [
        {
          "output_type": "stream",
          "text": [
            "Mounted at /drive\n"
          ],
          "name": "stdout"
        }
      ]
    },
    {
      "cell_type": "code",
      "metadata": {
        "id": "10ZUSaWNkLgK"
      },
      "source": [
        "# import file from Google Drive\n",
        "import pandas as pd\n",
        "df = pd.read_csv('/drive/My Drive/book32listing.csv',encoding='latin1', header=None)"
      ],
      "execution_count": 2,
      "outputs": []
    },
    {
      "cell_type": "code",
      "metadata": {
        "colab": {
          "base_uri": "https://localhost:8080/"
        },
        "id": "6Usxgc-WkOb1",
        "outputId": "0c657f47-cb9f-464c-9224-a2f7e20f9e42"
      },
      "source": [
        "# drop columns that are not needed\n",
        "#df = pd.read_csv(\"book32listing.csv\", encoding='latin1', header=None)\n",
        "df1 = df[[3,6,5]] # only columns with titles and genres\n",
        "df1.columns = ['title', 'genre', 'label']\n",
        "print(df1)"
      ],
      "execution_count": 3,
      "outputs": [
        {
          "output_type": "stream",
          "text": [
            "                                                    title      genre  label\n",
            "0                         Mom's Family Wall Calendar 2016  Calendars      3\n",
            "1                         Doug the Pug 2016 Wall Calendar  Calendars      3\n",
            "2       Moleskine 2016 Weekly Notebook, 12M, Large, Bl...  Calendars      3\n",
            "3                 365 Cats Color Page-A-Day Calendar 2016  Calendars      3\n",
            "4                    Sierra Club Engagement Calendar 2016  Calendars      3\n",
            "...                                                   ...        ...    ...\n",
            "207567  ADC the Map People Washington D.C.: Street Map...     Travel     29\n",
            "207568  Washington, D.C., Then and Now: 69 Sites Photo...     Travel     29\n",
            "207569  The Unofficial Guide to Washington, D.C. (Unof...     Travel     29\n",
            "207570      Washington, D.C. For Dummies (Dummies Travel)     Travel     29\n",
            "207571  Fodor's Where to Weekend Around Boston, 1st Ed...     Travel     29\n",
            "\n",
            "[207572 rows x 3 columns]\n"
          ],
          "name": "stdout"
        }
      ]
    },
    {
      "cell_type": "markdown",
      "metadata": {
        "id": "An9VSuJcoIvo"
      },
      "source": [
        "## Preprocessing"
      ]
    },
    {
      "cell_type": "code",
      "metadata": {
        "colab": {
          "base_uri": "https://localhost:8080/"
        },
        "id": "jtOO0D9zmueI",
        "outputId": "be28c030-d3dc-46a9-d5a0-0ae1e4c35238"
      },
      "source": [
        "# case collapsing\n",
        "df1['title'] = df1.title.map(lambda x: x.lower())"
      ],
      "execution_count": 4,
      "outputs": [
        {
          "output_type": "stream",
          "text": [
            "/usr/local/lib/python3.6/dist-packages/ipykernel_launcher.py:2: SettingWithCopyWarning: \n",
            "A value is trying to be set on a copy of a slice from a DataFrame.\n",
            "Try using .loc[row_indexer,col_indexer] = value instead\n",
            "\n",
            "See the caveats in the documentation: https://pandas.pydata.org/pandas-docs/stable/user_guide/indexing.html#returning-a-view-versus-a-copy\n",
            "  \n"
          ],
          "name": "stderr"
        }
      ]
    },
    {
      "cell_type": "code",
      "metadata": {
        "colab": {
          "base_uri": "https://localhost:8080/"
        },
        "id": "sK6QVs2Cm6wU",
        "outputId": "7ac2f432-7895-49fa-eb3e-e3d302539a96"
      },
      "source": [
        "# remove punctuation\n",
        "df1['title'] = df1.title.str.replace('[^\\w\\s]', '')"
      ],
      "execution_count": 5,
      "outputs": [
        {
          "output_type": "stream",
          "text": [
            "/usr/local/lib/python3.6/dist-packages/ipykernel_launcher.py:2: SettingWithCopyWarning: \n",
            "A value is trying to be set on a copy of a slice from a DataFrame.\n",
            "Try using .loc[row_indexer,col_indexer] = value instead\n",
            "\n",
            "See the caveats in the documentation: https://pandas.pydata.org/pandas-docs/stable/user_guide/indexing.html#returning-a-view-versus-a-copy\n",
            "  \n"
          ],
          "name": "stderr"
        }
      ]
    },
    {
      "cell_type": "code",
      "metadata": {
        "id": "tOtjrHIGnJZn",
        "colab": {
          "base_uri": "https://localhost:8080/"
        },
        "outputId": "06e4b07c-3cce-4be8-ec58-04ea8b40d31b"
      },
      "source": [
        "import nltk\n",
        "from nltk.tokenize import word_tokenize\n",
        "nltk.download('punkt')"
      ],
      "execution_count": 6,
      "outputs": [
        {
          "output_type": "stream",
          "text": [
            "[nltk_data] Downloading package punkt to /root/nltk_data...\n",
            "[nltk_data]   Unzipping tokenizers/punkt.zip.\n"
          ],
          "name": "stdout"
        },
        {
          "output_type": "execute_result",
          "data": {
            "text/plain": [
              "True"
            ]
          },
          "metadata": {
            "tags": []
          },
          "execution_count": 6
        }
      ]
    },
    {
      "cell_type": "code",
      "metadata": {
        "colab": {
          "base_uri": "https://localhost:8080/"
        },
        "id": "Kqg87HeunKsm",
        "outputId": "710a428b-5d43-41b1-a75d-893e862302e0"
      },
      "source": [
        "# tokenization\n",
        "df1['title'] = df1['title'].apply(nltk.word_tokenize)"
      ],
      "execution_count": 7,
      "outputs": [
        {
          "output_type": "stream",
          "text": [
            "/usr/local/lib/python3.6/dist-packages/ipykernel_launcher.py:2: SettingWithCopyWarning: \n",
            "A value is trying to be set on a copy of a slice from a DataFrame.\n",
            "Try using .loc[row_indexer,col_indexer] = value instead\n",
            "\n",
            "See the caveats in the documentation: https://pandas.pydata.org/pandas-docs/stable/user_guide/indexing.html#returning-a-view-versus-a-copy\n",
            "  \n"
          ],
          "name": "stderr"
        }
      ]
    },
    {
      "cell_type": "code",
      "metadata": {
        "colab": {
          "base_uri": "https://localhost:8080/"
        },
        "id": "YFMMtuN_nwlF",
        "outputId": "289df976-c3cf-4d47-9ac4-88b6155cb3df"
      },
      "source": [
        "# transform data into occurrences\n",
        "from sklearn.feature_extraction.text import CountVectorizer\n",
        "\n",
        "# This converts the list of words into space-separated strings\n",
        "df1['title'] = df1['title'].apply(lambda x: ' '.join(x))\n",
        "\n",
        "count_vect = CountVectorizer()\n",
        "counts = count_vect.fit_transform(df1['title'])"
      ],
      "execution_count": 8,
      "outputs": [
        {
          "output_type": "stream",
          "text": [
            "/usr/local/lib/python3.6/dist-packages/ipykernel_launcher.py:5: SettingWithCopyWarning: \n",
            "A value is trying to be set on a copy of a slice from a DataFrame.\n",
            "Try using .loc[row_indexer,col_indexer] = value instead\n",
            "\n",
            "See the caveats in the documentation: https://pandas.pydata.org/pandas-docs/stable/user_guide/indexing.html#returning-a-view-versus-a-copy\n",
            "  \"\"\"\n"
          ],
          "name": "stderr"
        }
      ]
    },
    {
      "cell_type": "code",
      "metadata": {
        "id": "yBTLWpMXn8zW"
      },
      "source": [
        "# tf-idf\n",
        "from sklearn.feature_extraction.text import TfidfTransformer\n",
        "\n",
        "transformer = TfidfTransformer().fit(counts)\n",
        "\n",
        "counts = transformer.transform(counts)"
      ],
      "execution_count": 9,
      "outputs": []
    },
    {
      "cell_type": "markdown",
      "metadata": {
        "id": "LnPdMjc_oAo-"
      },
      "source": [
        "## Training NB Model"
      ]
    },
    {
      "cell_type": "code",
      "metadata": {
        "id": "kBeA4Hekn-WU"
      },
      "source": [
        "# split data into train (80%) and test (20%)\n",
        "from sklearn.model_selection import train_test_split\n",
        "\n",
        "X_train, X_test, y_train, y_test = train_test_split(counts, df1['label'], test_size=0.2, random_state=69)"
      ],
      "execution_count": 10,
      "outputs": []
    },
    {
      "cell_type": "code",
      "metadata": {
        "id": "guqCm4hmoNVU"
      },
      "source": [
        "from sklearn.naive_bayes import MultinomialNB\n",
        "\n",
        "model = MultinomialNB().fit(X_train, y_train)"
      ],
      "execution_count": 11,
      "outputs": []
    },
    {
      "cell_type": "markdown",
      "metadata": {
        "id": "G7aGg7RqobWU"
      },
      "source": [
        "## Evaluating NB Model"
      ]
    },
    {
      "cell_type": "code",
      "metadata": {
        "colab": {
          "base_uri": "https://localhost:8080/"
        },
        "id": "L_jLzz1UoZLe",
        "outputId": "b9a27864-0e2d-4b46-b9b7-ac4c7932691c"
      },
      "source": [
        "# accuracy\n",
        "import numpy as np\n",
        "\n",
        "predicted = model.predict(X_test)\n",
        "\n",
        "print(np.mean(predicted == y_test))"
      ],
      "execution_count": 12,
      "outputs": [
        {
          "output_type": "stream",
          "text": [
            "0.544285198121161\n"
          ],
          "name": "stdout"
        }
      ]
    },
    {
      "cell_type": "code",
      "metadata": {
        "colab": {
          "base_uri": "https://localhost:8080/"
        },
        "id": "MEYjZy445eDO",
        "outputId": "76af3a73-bc3c-4642-d7a0-2e1d8d76d498"
      },
      "source": [
        "# compute overall accuracy, precision, recall, f1 scores\n",
        "from sklearn.metrics import accuracy_score\n",
        "from sklearn.metrics import precision_score\n",
        "from sklearn.metrics import recall_score\n",
        "from sklearn.metrics import f1_score\n",
        "\n",
        "print('Accuracy: ', accuracy_score(y_test, predicted))\n",
        "print('Precision: ', precision_score(y_test, predicted, average='weighted', zero_division=1))\n",
        "print('Recall: ', recall_score(y_test, predicted, average='weighted', zero_division=1))\n",
        "print('F1:', f1_score(y_test, predicted, average='weighted'))"
      ],
      "execution_count": 13,
      "outputs": [
        {
          "output_type": "stream",
          "text": [
            "Accuracy:  0.544285198121161\n",
            "Precision:  0.6447742332900409\n",
            "Recall:  0.544285198121161\n",
            "F1: 0.5061149240160508\n"
          ],
          "name": "stdout"
        }
      ]
    },
    {
      "cell_type": "code",
      "metadata": {
        "colab": {
          "base_uri": "https://localhost:8080/"
        },
        "id": "z7ZT6hFy5hgw",
        "outputId": "d7114a24-63a8-443d-b096-67981a10c88e"
      },
      "source": [
        "# compute accuracy, precision, recall, f1 scores by genre\n",
        "\n",
        "from sklearn.metrics import precision_recall_fscore_support as score\n",
        "\n",
        "# precision, recall, fscore, support separated by genre\n",
        "precision, recall, fscore, support = score(y_test, predicted)\n",
        "\n",
        "df_acc = pd.DataFrame()\n",
        "df_acc['precision']=pd.Series(precision)\n",
        "df_acc['recall']=pd.Series(recall)\n",
        "df_acc['fscore']=pd.Series(fscore)\n",
        "df_acc['support']=pd.Series(support)\n",
        "\n",
        "print(df_acc)\n",
        "# indexing corresponds to genre ID in original data"
      ],
      "execution_count": 14,
      "outputs": [
        {
          "output_type": "stream",
          "text": [
            "    precision    recall    fscore  support\n",
            "0    0.763920  0.262232  0.390438     1308\n",
            "1    0.538462  0.025090  0.047945      837\n",
            "2    0.526874  0.748744  0.618514     1990\n",
            "3    0.913151  0.736000  0.815061      500\n",
            "4    0.342926  0.774088  0.475294     2740\n",
            "5    0.935780  0.170569  0.288543      598\n",
            "6    0.819454  0.724181  0.768877     1617\n",
            "7    0.829894  0.763961  0.795564     1737\n",
            "8    0.631603  0.716334  0.671305     1953\n",
            "9    0.527482  0.704272  0.603189     1826\n",
            "10   0.949153  0.115464  0.205882      485\n",
            "11   0.423853  0.770964  0.546988     2397\n",
            "12   0.600439  0.406994  0.485144     1344\n",
            "13   0.708197  0.320713  0.441492     1347\n",
            "14   0.775742  0.608904  0.682272     1460\n",
            "15   0.520197  0.341748  0.412500     1545\n",
            "16   0.603854  0.794366  0.686131     2485\n",
            "17   0.933333  0.032634  0.063063      429\n",
            "18   1.000000  0.011765  0.023256      510\n",
            "19   1.000000  0.031546  0.061162      634\n",
            "20   0.786517  0.106061  0.186916      660\n",
            "21   0.675479  0.503397  0.576878     1472\n",
            "22   0.872449  0.191489  0.314050      893\n",
            "23   0.649970  0.579656  0.612802     1858\n",
            "24   0.919598  0.249659  0.392704      733\n",
            "25   0.500000  0.001770  0.003527      565\n",
            "26   0.841608  0.288961  0.430211     1232\n",
            "27   0.593533  0.172715  0.267569     1488\n",
            "28   0.935897  0.599343  0.730731      609\n",
            "29   0.432740  0.935299  0.591710     3663\n",
            "30   1.000000  0.003650  0.007273      274\n",
            "31   1.000000  0.018405  0.036145      326\n"
          ],
          "name": "stdout"
        }
      ]
    },
    {
      "cell_type": "code",
      "metadata": {
        "colab": {
          "base_uri": "https://localhost:8080/"
        },
        "id": "H8VqPrMQodw-",
        "outputId": "ed2a9bc2-5a96-47e9-f1a1-9562f57979cd"
      },
      "source": [
        "# confusion matrix\n",
        "from sklearn.metrics import confusion_matrix\n",
        "\n",
        "print(confusion_matrix(y_test, predicted))"
      ],
      "execution_count": 15,
      "outputs": [
        {
          "output_type": "stream",
          "text": [
            "[[ 343    0   60 ...  277    0    0]\n",
            " [   7   21   30 ...  265    0    0]\n",
            " [   5    0 1490 ...  101    0    0]\n",
            " ...\n",
            " [   2    0   17 ... 3426    0    0]\n",
            " [   2    0   13 ...   56    1    0]\n",
            " [   0    0   88 ...   15    0    6]]\n"
          ],
          "name": "stdout"
        }
      ]
    },
    {
      "cell_type": "code",
      "metadata": {
        "id": "VdStjJxzokxN",
        "outputId": "dfbe21d6-579a-41aa-cd8a-4d3c8076bc49",
        "colab": {
          "base_uri": "https://localhost:8080/"
        }
      },
      "source": [
        "# examine class distribution\n",
        "y_test.value_counts()"
      ],
      "execution_count": 16,
      "outputs": [
        {
          "output_type": "execute_result",
          "data": {
            "text/plain": [
              "29    3663\n",
              "4     2740\n",
              "16    2485\n",
              "11    2397\n",
              "2     1990\n",
              "8     1953\n",
              "23    1858\n",
              "9     1826\n",
              "7     1737\n",
              "6     1617\n",
              "15    1545\n",
              "27    1488\n",
              "21    1472\n",
              "14    1460\n",
              "13    1347\n",
              "12    1344\n",
              "0     1308\n",
              "26    1232\n",
              "22     893\n",
              "1      837\n",
              "24     733\n",
              "20     660\n",
              "19     634\n",
              "28     609\n",
              "5      598\n",
              "25     565\n",
              "18     510\n",
              "3      500\n",
              "10     485\n",
              "17     429\n",
              "31     326\n",
              "30     274\n",
              "Name: label, dtype: int64"
            ]
          },
          "metadata": {
            "tags": []
          },
          "execution_count": 16
        }
      ]
    }
  ]
}