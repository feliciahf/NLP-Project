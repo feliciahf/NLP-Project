{
  "nbformat": 4,
  "nbformat_minor": 0,
  "metadata": {
    "colab": {
      "name": "NB_Scikit.ipynb",
      "provenance": [],
      "collapsed_sections": [],
      "authorship_tag": "ABX9TyNeBkm65INIQkkSwFQPgNd4",
      "include_colab_link": true
    },
    "kernelspec": {
      "name": "python3",
      "display_name": "Python 3"
    }
  },
  "cells": [
    {
      "cell_type": "markdown",
      "metadata": {
        "id": "view-in-github",
        "colab_type": "text"
      },
      "source": [
        "<a href=\"https://colab.research.google.com/github/feliciahf/NLP-Project/blob/main/NB_Scikit.ipynb\" target=\"_parent\"><img src=\"https://colab.research.google.com/assets/colab-badge.svg\" alt=\"Open In Colab\"/></a>"
      ]
    },
    {
      "cell_type": "markdown",
      "metadata": {
        "id": "5jCbiyarkF-T"
      },
      "source": [
        "# Multinomial Naive Bayes"
      ]
    },
    {
      "cell_type": "markdown",
      "metadata": {
        "id": "oWgc64umoGCx"
      },
      "source": [
        "## Importing Data"
      ]
    },
    {
      "cell_type": "code",
      "metadata": {
        "colab": {
          "base_uri": "https://localhost:8080/"
        },
        "id": "kWhS3JSpjfM_",
        "outputId": "eb010a00-b1bf-46e5-854d-c3a8c5f2d5ca"
      },
      "source": [
        "# mount Google Drive\n",
        "from google.colab import  drive\n",
        "drive.mount('/drive')"
      ],
      "execution_count": 1,
      "outputs": [
        {
          "output_type": "stream",
          "text": [
            "Mounted at /drive\n"
          ],
          "name": "stdout"
        }
      ]
    },
    {
      "cell_type": "code",
      "metadata": {
        "id": "10ZUSaWNkLgK"
      },
      "source": [
        "# import file from Google Drive\n",
        "import pandas as pd\n",
        "df = pd.read_csv('/drive/My Drive/book32listing.csv',encoding='latin1', header=None)"
      ],
      "execution_count": 2,
      "outputs": []
    },
    {
      "cell_type": "code",
      "metadata": {
        "colab": {
          "base_uri": "https://localhost:8080/"
        },
        "id": "6Usxgc-WkOb1",
        "outputId": "e6cb1c1a-966a-4304-e09c-a57965a4c78e"
      },
      "source": [
        "# drop columns that are not needed\n",
        "#df = pd.read_csv(\"book32listing.csv\", encoding='latin1', header=None)\n",
        "df1 = df[[3,6,5]] # only columns with titles and genres\n",
        "df1.columns = ['title', 'genre', 'label']\n",
        "print(df1)"
      ],
      "execution_count": 3,
      "outputs": [
        {
          "output_type": "stream",
          "text": [
            "                                                    title      genre  label\n",
            "0                         Mom's Family Wall Calendar 2016  Calendars      3\n",
            "1                         Doug the Pug 2016 Wall Calendar  Calendars      3\n",
            "2       Moleskine 2016 Weekly Notebook, 12M, Large, Bl...  Calendars      3\n",
            "3                 365 Cats Color Page-A-Day Calendar 2016  Calendars      3\n",
            "4                    Sierra Club Engagement Calendar 2016  Calendars      3\n",
            "...                                                   ...        ...    ...\n",
            "207567  ADC the Map People Washington D.C.: Street Map...     Travel     29\n",
            "207568  Washington, D.C., Then and Now: 69 Sites Photo...     Travel     29\n",
            "207569  The Unofficial Guide to Washington, D.C. (Unof...     Travel     29\n",
            "207570      Washington, D.C. For Dummies (Dummies Travel)     Travel     29\n",
            "207571  Fodor's Where to Weekend Around Boston, 1st Ed...     Travel     29\n",
            "\n",
            "[207572 rows x 3 columns]\n"
          ],
          "name": "stdout"
        }
      ]
    },
    {
      "cell_type": "markdown",
      "metadata": {
        "id": "An9VSuJcoIvo"
      },
      "source": [
        "## Preprocessing"
      ]
    },
    {
      "cell_type": "code",
      "metadata": {
        "colab": {
          "base_uri": "https://localhost:8080/"
        },
        "id": "jtOO0D9zmueI",
        "outputId": "0c96ce97-aa26-4133-aaf2-8949973e476c"
      },
      "source": [
        "# case collapsing\n",
        "df1['title'] = df1.title.map(lambda x: x.lower())"
      ],
      "execution_count": 7,
      "outputs": [
        {
          "output_type": "stream",
          "text": [
            "/usr/local/lib/python3.6/dist-packages/ipykernel_launcher.py:2: SettingWithCopyWarning: \n",
            "A value is trying to be set on a copy of a slice from a DataFrame.\n",
            "Try using .loc[row_indexer,col_indexer] = value instead\n",
            "\n",
            "See the caveats in the documentation: https://pandas.pydata.org/pandas-docs/stable/user_guide/indexing.html#returning-a-view-versus-a-copy\n",
            "  \n"
          ],
          "name": "stderr"
        }
      ]
    },
    {
      "cell_type": "code",
      "metadata": {
        "colab": {
          "base_uri": "https://localhost:8080/"
        },
        "id": "sK6QVs2Cm6wU",
        "outputId": "7a3d7545-b714-4d1d-cb72-756112ee4f36"
      },
      "source": [
        "# remove punctuation\n",
        "df1['title'] = df1.title.str.replace('[^\\w\\s]', '')"
      ],
      "execution_count": 8,
      "outputs": [
        {
          "output_type": "stream",
          "text": [
            "/usr/local/lib/python3.6/dist-packages/ipykernel_launcher.py:2: SettingWithCopyWarning: \n",
            "A value is trying to be set on a copy of a slice from a DataFrame.\n",
            "Try using .loc[row_indexer,col_indexer] = value instead\n",
            "\n",
            "See the caveats in the documentation: https://pandas.pydata.org/pandas-docs/stable/user_guide/indexing.html#returning-a-view-versus-a-copy\n",
            "  \n"
          ],
          "name": "stderr"
        }
      ]
    },
    {
      "cell_type": "code",
      "metadata": {
        "id": "tOtjrHIGnJZn",
        "colab": {
          "base_uri": "https://localhost:8080/"
        },
        "outputId": "2fe2eeb7-585e-46ff-f7bd-b7673fd6bf62"
      },
      "source": [
        "import nltk\n",
        "from nltk.tokenize import word_tokenize\n",
        "nltk.download('punkt')"
      ],
      "execution_count": 9,
      "outputs": [
        {
          "output_type": "stream",
          "text": [
            "[nltk_data] Downloading package punkt to /root/nltk_data...\n",
            "[nltk_data]   Unzipping tokenizers/punkt.zip.\n"
          ],
          "name": "stdout"
        },
        {
          "output_type": "execute_result",
          "data": {
            "text/plain": [
              "True"
            ]
          },
          "metadata": {
            "tags": []
          },
          "execution_count": 9
        }
      ]
    },
    {
      "cell_type": "code",
      "metadata": {
        "colab": {
          "base_uri": "https://localhost:8080/"
        },
        "id": "Kqg87HeunKsm",
        "outputId": "1d4ad2c5-4caa-4134-97f9-0432be844485"
      },
      "source": [
        "# tokenization\n",
        "df1['title'] = df1['title'].apply(nltk.word_tokenize)"
      ],
      "execution_count": 10,
      "outputs": [
        {
          "output_type": "stream",
          "text": [
            "/usr/local/lib/python3.6/dist-packages/ipykernel_launcher.py:2: SettingWithCopyWarning: \n",
            "A value is trying to be set on a copy of a slice from a DataFrame.\n",
            "Try using .loc[row_indexer,col_indexer] = value instead\n",
            "\n",
            "See the caveats in the documentation: https://pandas.pydata.org/pandas-docs/stable/user_guide/indexing.html#returning-a-view-versus-a-copy\n",
            "  \n"
          ],
          "name": "stderr"
        }
      ]
    },
    {
      "cell_type": "code",
      "metadata": {
        "colab": {
          "base_uri": "https://localhost:8080/"
        },
        "id": "YFMMtuN_nwlF",
        "outputId": "8a527a92-93fc-4c7d-fc05-8424e11cf2e3"
      },
      "source": [
        "# transform data into occurrences\n",
        "from sklearn.feature_extraction.text import CountVectorizer\n",
        "\n",
        "# This converts the list of words into space-separated strings\n",
        "df1['title'] = df1['title'].apply(lambda x: ' '.join(x))\n",
        "\n",
        "count_vect = CountVectorizer()\n",
        "counts = count_vect.fit_transform(df1['title'])"
      ],
      "execution_count": 11,
      "outputs": [
        {
          "output_type": "stream",
          "text": [
            "/usr/local/lib/python3.6/dist-packages/ipykernel_launcher.py:5: SettingWithCopyWarning: \n",
            "A value is trying to be set on a copy of a slice from a DataFrame.\n",
            "Try using .loc[row_indexer,col_indexer] = value instead\n",
            "\n",
            "See the caveats in the documentation: https://pandas.pydata.org/pandas-docs/stable/user_guide/indexing.html#returning-a-view-versus-a-copy\n",
            "  \"\"\"\n"
          ],
          "name": "stderr"
        }
      ]
    },
    {
      "cell_type": "code",
      "metadata": {
        "id": "yBTLWpMXn8zW"
      },
      "source": [
        "# tf-idf\n",
        "from sklearn.feature_extraction.text import TfidfTransformer\n",
        "\n",
        "transformer = TfidfTransformer().fit(counts)\n",
        "\n",
        "counts = transformer.transform(counts)"
      ],
      "execution_count": 12,
      "outputs": []
    },
    {
      "cell_type": "markdown",
      "metadata": {
        "id": "LnPdMjc_oAo-"
      },
      "source": [
        "## Training NB Model"
      ]
    },
    {
      "cell_type": "code",
      "metadata": {
        "id": "kBeA4Hekn-WU"
      },
      "source": [
        "# split data into train (80%) and test (20%)\n",
        "from sklearn.model_selection import train_test_split\n",
        "\n",
        "X_train, X_test, y_train, y_test = train_test_split(counts, df1['label'], test_size=0.2, random_state=69)"
      ],
      "execution_count": 13,
      "outputs": []
    },
    {
      "cell_type": "code",
      "metadata": {
        "id": "guqCm4hmoNVU"
      },
      "source": [
        "from sklearn.naive_bayes import MultinomialNB\n",
        "\n",
        "model = MultinomialNB().fit(X_train, y_train)"
      ],
      "execution_count": 14,
      "outputs": []
    },
    {
      "cell_type": "markdown",
      "metadata": {
        "id": "G7aGg7RqobWU"
      },
      "source": [
        "## Evaluating NB Model"
      ]
    },
    {
      "cell_type": "code",
      "metadata": {
        "colab": {
          "base_uri": "https://localhost:8080/"
        },
        "id": "L_jLzz1UoZLe",
        "outputId": "96aacd72-1f81-4003-ca93-76359bb915cf"
      },
      "source": [
        "# accuracy\n",
        "import numpy as np\n",
        "\n",
        "predicted = model.predict(X_test)\n",
        "\n",
        "print(np.mean(predicted == y_test))"
      ],
      "execution_count": 15,
      "outputs": [
        {
          "output_type": "stream",
          "text": [
            "0.544285198121161\n"
          ],
          "name": "stdout"
        }
      ]
    },
    {
      "cell_type": "code",
      "metadata": {
        "colab": {
          "base_uri": "https://localhost:8080/"
        },
        "id": "H8VqPrMQodw-",
        "outputId": "5fbaacf9-e609-4428-8dee-3c159b2e3557"
      },
      "source": [
        "# confusion matrix\n",
        "from sklearn.metrics import confusion_matrix\n",
        "\n",
        "print(confusion_matrix(y_test, predicted))"
      ],
      "execution_count": 16,
      "outputs": [
        {
          "output_type": "stream",
          "text": [
            "[[ 343    0   60 ...  277    0    0]\n",
            " [   7   21   30 ...  265    0    0]\n",
            " [   5    0 1490 ...  101    0    0]\n",
            " ...\n",
            " [   2    0   17 ... 3426    0    0]\n",
            " [   2    0   13 ...   56    1    0]\n",
            " [   0    0   88 ...   15    0    6]]\n"
          ],
          "name": "stdout"
        }
      ]
    },
    {
      "cell_type": "code",
      "metadata": {
        "id": "VdStjJxzokxN"
      },
      "source": [
        "# examine class distribution\n",
        "y_test.value_counts()"
      ],
      "execution_count": null,
      "outputs": []
    }
  ]
}