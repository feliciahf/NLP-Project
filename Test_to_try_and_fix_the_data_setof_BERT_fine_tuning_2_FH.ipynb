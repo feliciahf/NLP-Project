{
  "nbformat": 4,
  "nbformat_minor": 0,
  "metadata": {
    "colab": {
      "name": "Copy of Test to try and fix the data setof BERT fine tuning 2.ipynb",
      "provenance": [],
      "collapsed_sections": [
        "Qalq6NBntco4"
      ],
      "include_colab_link": true
    },
    "kernelspec": {
      "name": "python3",
      "display_name": "Python 3"
    },
    "accelerator": "GPU",
    "widgets": {
      "application/vnd.jupyter.widget-state+json": {
        "7ea65a9f13814f4b99a5125a73002b08": {
          "model_module": "@jupyter-widgets/controls",
          "model_name": "HBoxModel",
          "state": {
            "_view_name": "HBoxView",
            "_dom_classes": [],
            "_model_name": "HBoxModel",
            "_view_module": "@jupyter-widgets/controls",
            "_model_module_version": "1.5.0",
            "_view_count": null,
            "_view_module_version": "1.5.0",
            "box_style": "",
            "layout": "IPY_MODEL_eb56ba1cfa6d4ca888b0e6645d0d0037",
            "_model_module": "@jupyter-widgets/controls",
            "children": [
              "IPY_MODEL_9c404d1bb80d464e9f5bc640ac013845",
              "IPY_MODEL_b2710d751b4d416988ab29b2d1e59906"
            ]
          }
        },
        "eb56ba1cfa6d4ca888b0e6645d0d0037": {
          "model_module": "@jupyter-widgets/base",
          "model_name": "LayoutModel",
          "state": {
            "_view_name": "LayoutView",
            "grid_template_rows": null,
            "right": null,
            "justify_content": null,
            "_view_module": "@jupyter-widgets/base",
            "overflow": null,
            "_model_module_version": "1.2.0",
            "_view_count": null,
            "flex_flow": null,
            "width": null,
            "min_width": null,
            "border": null,
            "align_items": null,
            "bottom": null,
            "_model_module": "@jupyter-widgets/base",
            "top": null,
            "grid_column": null,
            "overflow_y": null,
            "overflow_x": null,
            "grid_auto_flow": null,
            "grid_area": null,
            "grid_template_columns": null,
            "flex": null,
            "_model_name": "LayoutModel",
            "justify_items": null,
            "grid_row": null,
            "max_height": null,
            "align_content": null,
            "visibility": null,
            "align_self": null,
            "height": null,
            "min_height": null,
            "padding": null,
            "grid_auto_rows": null,
            "grid_gap": null,
            "max_width": null,
            "order": null,
            "_view_module_version": "1.2.0",
            "grid_template_areas": null,
            "object_position": null,
            "object_fit": null,
            "grid_auto_columns": null,
            "margin": null,
            "display": null,
            "left": null
          }
        },
        "9c404d1bb80d464e9f5bc640ac013845": {
          "model_module": "@jupyter-widgets/controls",
          "model_name": "FloatProgressModel",
          "state": {
            "_view_name": "ProgressView",
            "style": "IPY_MODEL_a0df2808721746e78f2ffc26b465cab3",
            "_dom_classes": [],
            "description": "Downloading: 100%",
            "_model_name": "FloatProgressModel",
            "bar_style": "success",
            "max": 231508,
            "_view_module": "@jupyter-widgets/controls",
            "_model_module_version": "1.5.0",
            "value": 231508,
            "_view_count": null,
            "_view_module_version": "1.5.0",
            "orientation": "horizontal",
            "min": 0,
            "description_tooltip": null,
            "_model_module": "@jupyter-widgets/controls",
            "layout": "IPY_MODEL_00467bad304e40478f88ac6a7b042ead"
          }
        },
        "b2710d751b4d416988ab29b2d1e59906": {
          "model_module": "@jupyter-widgets/controls",
          "model_name": "HTMLModel",
          "state": {
            "_view_name": "HTMLView",
            "style": "IPY_MODEL_cddc296f49004381bcc0c63df85e16ee",
            "_dom_classes": [],
            "description": "",
            "_model_name": "HTMLModel",
            "placeholder": "​",
            "_view_module": "@jupyter-widgets/controls",
            "_model_module_version": "1.5.0",
            "value": " 232k/232k [00:00&lt;00:00, 2.09MB/s]",
            "_view_count": null,
            "_view_module_version": "1.5.0",
            "description_tooltip": null,
            "_model_module": "@jupyter-widgets/controls",
            "layout": "IPY_MODEL_0d638bd2a50441a39ea53ff0fde49c2d"
          }
        },
        "a0df2808721746e78f2ffc26b465cab3": {
          "model_module": "@jupyter-widgets/controls",
          "model_name": "ProgressStyleModel",
          "state": {
            "_view_name": "StyleView",
            "_model_name": "ProgressStyleModel",
            "description_width": "initial",
            "_view_module": "@jupyter-widgets/base",
            "_model_module_version": "1.5.0",
            "_view_count": null,
            "_view_module_version": "1.2.0",
            "bar_color": null,
            "_model_module": "@jupyter-widgets/controls"
          }
        },
        "00467bad304e40478f88ac6a7b042ead": {
          "model_module": "@jupyter-widgets/base",
          "model_name": "LayoutModel",
          "state": {
            "_view_name": "LayoutView",
            "grid_template_rows": null,
            "right": null,
            "justify_content": null,
            "_view_module": "@jupyter-widgets/base",
            "overflow": null,
            "_model_module_version": "1.2.0",
            "_view_count": null,
            "flex_flow": null,
            "width": null,
            "min_width": null,
            "border": null,
            "align_items": null,
            "bottom": null,
            "_model_module": "@jupyter-widgets/base",
            "top": null,
            "grid_column": null,
            "overflow_y": null,
            "overflow_x": null,
            "grid_auto_flow": null,
            "grid_area": null,
            "grid_template_columns": null,
            "flex": null,
            "_model_name": "LayoutModel",
            "justify_items": null,
            "grid_row": null,
            "max_height": null,
            "align_content": null,
            "visibility": null,
            "align_self": null,
            "height": null,
            "min_height": null,
            "padding": null,
            "grid_auto_rows": null,
            "grid_gap": null,
            "max_width": null,
            "order": null,
            "_view_module_version": "1.2.0",
            "grid_template_areas": null,
            "object_position": null,
            "object_fit": null,
            "grid_auto_columns": null,
            "margin": null,
            "display": null,
            "left": null
          }
        },
        "cddc296f49004381bcc0c63df85e16ee": {
          "model_module": "@jupyter-widgets/controls",
          "model_name": "DescriptionStyleModel",
          "state": {
            "_view_name": "StyleView",
            "_model_name": "DescriptionStyleModel",
            "description_width": "",
            "_view_module": "@jupyter-widgets/base",
            "_model_module_version": "1.5.0",
            "_view_count": null,
            "_view_module_version": "1.2.0",
            "_model_module": "@jupyter-widgets/controls"
          }
        },
        "0d638bd2a50441a39ea53ff0fde49c2d": {
          "model_module": "@jupyter-widgets/base",
          "model_name": "LayoutModel",
          "state": {
            "_view_name": "LayoutView",
            "grid_template_rows": null,
            "right": null,
            "justify_content": null,
            "_view_module": "@jupyter-widgets/base",
            "overflow": null,
            "_model_module_version": "1.2.0",
            "_view_count": null,
            "flex_flow": null,
            "width": null,
            "min_width": null,
            "border": null,
            "align_items": null,
            "bottom": null,
            "_model_module": "@jupyter-widgets/base",
            "top": null,
            "grid_column": null,
            "overflow_y": null,
            "overflow_x": null,
            "grid_auto_flow": null,
            "grid_area": null,
            "grid_template_columns": null,
            "flex": null,
            "_model_name": "LayoutModel",
            "justify_items": null,
            "grid_row": null,
            "max_height": null,
            "align_content": null,
            "visibility": null,
            "align_self": null,
            "height": null,
            "min_height": null,
            "padding": null,
            "grid_auto_rows": null,
            "grid_gap": null,
            "max_width": null,
            "order": null,
            "_view_module_version": "1.2.0",
            "grid_template_areas": null,
            "object_position": null,
            "object_fit": null,
            "grid_auto_columns": null,
            "margin": null,
            "display": null,
            "left": null
          }
        },
        "3b2726a48fd3408bba7d3e1926ebcbe0": {
          "model_module": "@jupyter-widgets/controls",
          "model_name": "HBoxModel",
          "state": {
            "_view_name": "HBoxView",
            "_dom_classes": [],
            "_model_name": "HBoxModel",
            "_view_module": "@jupyter-widgets/controls",
            "_model_module_version": "1.5.0",
            "_view_count": null,
            "_view_module_version": "1.5.0",
            "box_style": "",
            "layout": "IPY_MODEL_740ee8e31dec4bd9a0106e86405a8faa",
            "_model_module": "@jupyter-widgets/controls",
            "children": [
              "IPY_MODEL_d19a7331484f423c90839faceee407bf",
              "IPY_MODEL_52750d2f36a343a68ad311e8ee162c22"
            ]
          }
        },
        "740ee8e31dec4bd9a0106e86405a8faa": {
          "model_module": "@jupyter-widgets/base",
          "model_name": "LayoutModel",
          "state": {
            "_view_name": "LayoutView",
            "grid_template_rows": null,
            "right": null,
            "justify_content": null,
            "_view_module": "@jupyter-widgets/base",
            "overflow": null,
            "_model_module_version": "1.2.0",
            "_view_count": null,
            "flex_flow": null,
            "width": null,
            "min_width": null,
            "border": null,
            "align_items": null,
            "bottom": null,
            "_model_module": "@jupyter-widgets/base",
            "top": null,
            "grid_column": null,
            "overflow_y": null,
            "overflow_x": null,
            "grid_auto_flow": null,
            "grid_area": null,
            "grid_template_columns": null,
            "flex": null,
            "_model_name": "LayoutModel",
            "justify_items": null,
            "grid_row": null,
            "max_height": null,
            "align_content": null,
            "visibility": null,
            "align_self": null,
            "height": null,
            "min_height": null,
            "padding": null,
            "grid_auto_rows": null,
            "grid_gap": null,
            "max_width": null,
            "order": null,
            "_view_module_version": "1.2.0",
            "grid_template_areas": null,
            "object_position": null,
            "object_fit": null,
            "grid_auto_columns": null,
            "margin": null,
            "display": null,
            "left": null
          }
        },
        "d19a7331484f423c90839faceee407bf": {
          "model_module": "@jupyter-widgets/controls",
          "model_name": "FloatProgressModel",
          "state": {
            "_view_name": "ProgressView",
            "style": "IPY_MODEL_28646124f0e64e1e8aadced273c8573d",
            "_dom_classes": [],
            "description": "Downloading: 100%",
            "_model_name": "FloatProgressModel",
            "bar_style": "success",
            "max": 433,
            "_view_module": "@jupyter-widgets/controls",
            "_model_module_version": "1.5.0",
            "value": 433,
            "_view_count": null,
            "_view_module_version": "1.5.0",
            "orientation": "horizontal",
            "min": 0,
            "description_tooltip": null,
            "_model_module": "@jupyter-widgets/controls",
            "layout": "IPY_MODEL_65ff2ce6a93b46228604e6a606194f1e"
          }
        },
        "52750d2f36a343a68ad311e8ee162c22": {
          "model_module": "@jupyter-widgets/controls",
          "model_name": "HTMLModel",
          "state": {
            "_view_name": "HTMLView",
            "style": "IPY_MODEL_a6cce46a66f6470882430b31208d06d5",
            "_dom_classes": [],
            "description": "",
            "_model_name": "HTMLModel",
            "placeholder": "​",
            "_view_module": "@jupyter-widgets/controls",
            "_model_module_version": "1.5.0",
            "value": " 433/433 [00:00&lt;00:00, 3.22kB/s]",
            "_view_count": null,
            "_view_module_version": "1.5.0",
            "description_tooltip": null,
            "_model_module": "@jupyter-widgets/controls",
            "layout": "IPY_MODEL_1fe2b87ab98f49bab1e879484aacf386"
          }
        },
        "28646124f0e64e1e8aadced273c8573d": {
          "model_module": "@jupyter-widgets/controls",
          "model_name": "ProgressStyleModel",
          "state": {
            "_view_name": "StyleView",
            "_model_name": "ProgressStyleModel",
            "description_width": "initial",
            "_view_module": "@jupyter-widgets/base",
            "_model_module_version": "1.5.0",
            "_view_count": null,
            "_view_module_version": "1.2.0",
            "bar_color": null,
            "_model_module": "@jupyter-widgets/controls"
          }
        },
        "65ff2ce6a93b46228604e6a606194f1e": {
          "model_module": "@jupyter-widgets/base",
          "model_name": "LayoutModel",
          "state": {
            "_view_name": "LayoutView",
            "grid_template_rows": null,
            "right": null,
            "justify_content": null,
            "_view_module": "@jupyter-widgets/base",
            "overflow": null,
            "_model_module_version": "1.2.0",
            "_view_count": null,
            "flex_flow": null,
            "width": null,
            "min_width": null,
            "border": null,
            "align_items": null,
            "bottom": null,
            "_model_module": "@jupyter-widgets/base",
            "top": null,
            "grid_column": null,
            "overflow_y": null,
            "overflow_x": null,
            "grid_auto_flow": null,
            "grid_area": null,
            "grid_template_columns": null,
            "flex": null,
            "_model_name": "LayoutModel",
            "justify_items": null,
            "grid_row": null,
            "max_height": null,
            "align_content": null,
            "visibility": null,
            "align_self": null,
            "height": null,
            "min_height": null,
            "padding": null,
            "grid_auto_rows": null,
            "grid_gap": null,
            "max_width": null,
            "order": null,
            "_view_module_version": "1.2.0",
            "grid_template_areas": null,
            "object_position": null,
            "object_fit": null,
            "grid_auto_columns": null,
            "margin": null,
            "display": null,
            "left": null
          }
        },
        "a6cce46a66f6470882430b31208d06d5": {
          "model_module": "@jupyter-widgets/controls",
          "model_name": "DescriptionStyleModel",
          "state": {
            "_view_name": "StyleView",
            "_model_name": "DescriptionStyleModel",
            "description_width": "",
            "_view_module": "@jupyter-widgets/base",
            "_model_module_version": "1.5.0",
            "_view_count": null,
            "_view_module_version": "1.2.0",
            "_model_module": "@jupyter-widgets/controls"
          }
        },
        "1fe2b87ab98f49bab1e879484aacf386": {
          "model_module": "@jupyter-widgets/base",
          "model_name": "LayoutModel",
          "state": {
            "_view_name": "LayoutView",
            "grid_template_rows": null,
            "right": null,
            "justify_content": null,
            "_view_module": "@jupyter-widgets/base",
            "overflow": null,
            "_model_module_version": "1.2.0",
            "_view_count": null,
            "flex_flow": null,
            "width": null,
            "min_width": null,
            "border": null,
            "align_items": null,
            "bottom": null,
            "_model_module": "@jupyter-widgets/base",
            "top": null,
            "grid_column": null,
            "overflow_y": null,
            "overflow_x": null,
            "grid_auto_flow": null,
            "grid_area": null,
            "grid_template_columns": null,
            "flex": null,
            "_model_name": "LayoutModel",
            "justify_items": null,
            "grid_row": null,
            "max_height": null,
            "align_content": null,
            "visibility": null,
            "align_self": null,
            "height": null,
            "min_height": null,
            "padding": null,
            "grid_auto_rows": null,
            "grid_gap": null,
            "max_width": null,
            "order": null,
            "_view_module_version": "1.2.0",
            "grid_template_areas": null,
            "object_position": null,
            "object_fit": null,
            "grid_auto_columns": null,
            "margin": null,
            "display": null,
            "left": null
          }
        },
        "a45ad6d846e944b4b7b401b56f0f752c": {
          "model_module": "@jupyter-widgets/controls",
          "model_name": "HBoxModel",
          "state": {
            "_view_name": "HBoxView",
            "_dom_classes": [],
            "_model_name": "HBoxModel",
            "_view_module": "@jupyter-widgets/controls",
            "_model_module_version": "1.5.0",
            "_view_count": null,
            "_view_module_version": "1.5.0",
            "box_style": "",
            "layout": "IPY_MODEL_005ac1f0cc7f4953a251ca4605d82e19",
            "_model_module": "@jupyter-widgets/controls",
            "children": [
              "IPY_MODEL_bcaef1f8803646dbb7ece2c4c7d2fd39",
              "IPY_MODEL_4f705d27405a47f7bb70bbeb6ff23842"
            ]
          }
        },
        "005ac1f0cc7f4953a251ca4605d82e19": {
          "model_module": "@jupyter-widgets/base",
          "model_name": "LayoutModel",
          "state": {
            "_view_name": "LayoutView",
            "grid_template_rows": null,
            "right": null,
            "justify_content": null,
            "_view_module": "@jupyter-widgets/base",
            "overflow": null,
            "_model_module_version": "1.2.0",
            "_view_count": null,
            "flex_flow": null,
            "width": null,
            "min_width": null,
            "border": null,
            "align_items": null,
            "bottom": null,
            "_model_module": "@jupyter-widgets/base",
            "top": null,
            "grid_column": null,
            "overflow_y": null,
            "overflow_x": null,
            "grid_auto_flow": null,
            "grid_area": null,
            "grid_template_columns": null,
            "flex": null,
            "_model_name": "LayoutModel",
            "justify_items": null,
            "grid_row": null,
            "max_height": null,
            "align_content": null,
            "visibility": null,
            "align_self": null,
            "height": null,
            "min_height": null,
            "padding": null,
            "grid_auto_rows": null,
            "grid_gap": null,
            "max_width": null,
            "order": null,
            "_view_module_version": "1.2.0",
            "grid_template_areas": null,
            "object_position": null,
            "object_fit": null,
            "grid_auto_columns": null,
            "margin": null,
            "display": null,
            "left": null
          }
        },
        "bcaef1f8803646dbb7ece2c4c7d2fd39": {
          "model_module": "@jupyter-widgets/controls",
          "model_name": "FloatProgressModel",
          "state": {
            "_view_name": "ProgressView",
            "style": "IPY_MODEL_bbe9459c779d4a95b5f7160d0036a70a",
            "_dom_classes": [],
            "description": "Downloading: 100%",
            "_model_name": "FloatProgressModel",
            "bar_style": "success",
            "max": 440473133,
            "_view_module": "@jupyter-widgets/controls",
            "_model_module_version": "1.5.0",
            "value": 440473133,
            "_view_count": null,
            "_view_module_version": "1.5.0",
            "orientation": "horizontal",
            "min": 0,
            "description_tooltip": null,
            "_model_module": "@jupyter-widgets/controls",
            "layout": "IPY_MODEL_417d842be319468f84fccd60405867d4"
          }
        },
        "4f705d27405a47f7bb70bbeb6ff23842": {
          "model_module": "@jupyter-widgets/controls",
          "model_name": "HTMLModel",
          "state": {
            "_view_name": "HTMLView",
            "style": "IPY_MODEL_cd67d39243c04027ae45bfe89efb7d3f",
            "_dom_classes": [],
            "description": "",
            "_model_name": "HTMLModel",
            "placeholder": "​",
            "_view_module": "@jupyter-widgets/controls",
            "_model_module_version": "1.5.0",
            "value": " 440M/440M [00:06&lt;00:00, 70.0MB/s]",
            "_view_count": null,
            "_view_module_version": "1.5.0",
            "description_tooltip": null,
            "_model_module": "@jupyter-widgets/controls",
            "layout": "IPY_MODEL_b1f7216c86b242b59365e7fc8d4b0c1e"
          }
        },
        "bbe9459c779d4a95b5f7160d0036a70a": {
          "model_module": "@jupyter-widgets/controls",
          "model_name": "ProgressStyleModel",
          "state": {
            "_view_name": "StyleView",
            "_model_name": "ProgressStyleModel",
            "description_width": "initial",
            "_view_module": "@jupyter-widgets/base",
            "_model_module_version": "1.5.0",
            "_view_count": null,
            "_view_module_version": "1.2.0",
            "bar_color": null,
            "_model_module": "@jupyter-widgets/controls"
          }
        },
        "417d842be319468f84fccd60405867d4": {
          "model_module": "@jupyter-widgets/base",
          "model_name": "LayoutModel",
          "state": {
            "_view_name": "LayoutView",
            "grid_template_rows": null,
            "right": null,
            "justify_content": null,
            "_view_module": "@jupyter-widgets/base",
            "overflow": null,
            "_model_module_version": "1.2.0",
            "_view_count": null,
            "flex_flow": null,
            "width": null,
            "min_width": null,
            "border": null,
            "align_items": null,
            "bottom": null,
            "_model_module": "@jupyter-widgets/base",
            "top": null,
            "grid_column": null,
            "overflow_y": null,
            "overflow_x": null,
            "grid_auto_flow": null,
            "grid_area": null,
            "grid_template_columns": null,
            "flex": null,
            "_model_name": "LayoutModel",
            "justify_items": null,
            "grid_row": null,
            "max_height": null,
            "align_content": null,
            "visibility": null,
            "align_self": null,
            "height": null,
            "min_height": null,
            "padding": null,
            "grid_auto_rows": null,
            "grid_gap": null,
            "max_width": null,
            "order": null,
            "_view_module_version": "1.2.0",
            "grid_template_areas": null,
            "object_position": null,
            "object_fit": null,
            "grid_auto_columns": null,
            "margin": null,
            "display": null,
            "left": null
          }
        },
        "cd67d39243c04027ae45bfe89efb7d3f": {
          "model_module": "@jupyter-widgets/controls",
          "model_name": "DescriptionStyleModel",
          "state": {
            "_view_name": "StyleView",
            "_model_name": "DescriptionStyleModel",
            "description_width": "",
            "_view_module": "@jupyter-widgets/base",
            "_model_module_version": "1.5.0",
            "_view_count": null,
            "_view_module_version": "1.2.0",
            "_model_module": "@jupyter-widgets/controls"
          }
        },
        "b1f7216c86b242b59365e7fc8d4b0c1e": {
          "model_module": "@jupyter-widgets/base",
          "model_name": "LayoutModel",
          "state": {
            "_view_name": "LayoutView",
            "grid_template_rows": null,
            "right": null,
            "justify_content": null,
            "_view_module": "@jupyter-widgets/base",
            "overflow": null,
            "_model_module_version": "1.2.0",
            "_view_count": null,
            "flex_flow": null,
            "width": null,
            "min_width": null,
            "border": null,
            "align_items": null,
            "bottom": null,
            "_model_module": "@jupyter-widgets/base",
            "top": null,
            "grid_column": null,
            "overflow_y": null,
            "overflow_x": null,
            "grid_auto_flow": null,
            "grid_area": null,
            "grid_template_columns": null,
            "flex": null,
            "_model_name": "LayoutModel",
            "justify_items": null,
            "grid_row": null,
            "max_height": null,
            "align_content": null,
            "visibility": null,
            "align_self": null,
            "height": null,
            "min_height": null,
            "padding": null,
            "grid_auto_rows": null,
            "grid_gap": null,
            "max_width": null,
            "order": null,
            "_view_module_version": "1.2.0",
            "grid_template_areas": null,
            "object_position": null,
            "object_fit": null,
            "grid_auto_columns": null,
            "margin": null,
            "display": null,
            "left": null
          }
        }
      }
    }
  },
  "cells": [
    {
      "cell_type": "markdown",
      "metadata": {
        "id": "view-in-github",
        "colab_type": "text"
      },
      "source": [
        "<a href=\"https://colab.research.google.com/github/feliciahf/NLP-Project/blob/main/Test_to_try_and_fix_the_data_setof_BERT_fine_tuning_2_FH.ipynb\" target=\"_parent\"><img src=\"https://colab.research.google.com/assets/colab-badge.svg\" alt=\"Open In Colab\"/></a>"
      ]
    },
    {
      "cell_type": "markdown",
      "metadata": {
        "id": "MBY9RkO0uiya"
      },
      "source": [
        "##1. Setup"
      ]
    },
    {
      "cell_type": "markdown",
      "metadata": {
        "id": "KaWiQ0F1uuod"
      },
      "source": [
        "#1.1. Using Colab GPU for Training \n",
        "\n",
        "Google Colab offers free GPUs and TPUs! Since we'll be training a large neural network it's best to take advantage of this (in this case we'll attach a GPU), otherwise training will take a very long time.\n",
        "A GPU can be added by going to the menu and selecting:\n",
        "Edit 🡒 Notebook Settings 🡒 Hardware accelerator 🡒 (GPU)\n",
        "Then run the following cell to confirm that the GPU is detected."
      ]
    },
    {
      "cell_type": "code",
      "metadata": {
        "colab": {
          "base_uri": "https://localhost:8080/"
        },
        "id": "5-wdagkmtToC",
        "outputId": "96c31823-272c-4eff-c7f4-ffb6b75733cd"
      },
      "source": [
        "import tensorflow as tf\n",
        "\n",
        "# Get the GPU device name.\n",
        "device_name = tf.test.gpu_device_name()\n",
        "\n",
        "# The device name should look like the following:\n",
        "if device_name == '/device:GPU:0':\n",
        "    print('Found GPU at: {}'.format(device_name))\n",
        "else:\n",
        "    raise SystemError('GPU device not found')"
      ],
      "execution_count": 1,
      "outputs": [
        {
          "output_type": "stream",
          "text": [
            "Found GPU at: /device:GPU:0\n"
          ],
          "name": "stdout"
        }
      ]
    },
    {
      "cell_type": "markdown",
      "metadata": {
        "id": "y9R5dYEPvF_N"
      },
      "source": [
        "In order for torch to use the GPU, we need to identify and specify the GPU as the device. Later, in our training loop, we will load data onto the device."
      ]
    },
    {
      "cell_type": "code",
      "metadata": {
        "colab": {
          "base_uri": "https://localhost:8080/"
        },
        "id": "TKWlHidpu6Sv",
        "outputId": "ca43fe57-2e04-4eb0-b7b6-4aeaec6889e6"
      },
      "source": [
        "import torch\n",
        "\n",
        "# If there's a GPU available...\n",
        "if torch.cuda.is_available():    \n",
        "\n",
        "    # Tell PyTorch to use the GPU.    \n",
        "    device = torch.device(\"cuda\")\n",
        "\n",
        "    print('There are %d GPU(s) available.' % torch.cuda.device_count())\n",
        "\n",
        "    print('We will use the GPU:', torch.cuda.get_device_name(0))\n",
        "\n",
        "# If not...\n",
        "else:\n",
        "    print('No GPU available, using the CPU instead.')\n",
        "    device = torch.device(\"cpu\")"
      ],
      "execution_count": 2,
      "outputs": [
        {
          "output_type": "stream",
          "text": [
            "There are 1 GPU(s) available.\n",
            "We will use the GPU: Tesla T4\n"
          ],
          "name": "stdout"
        }
      ]
    },
    {
      "cell_type": "markdown",
      "metadata": {
        "id": "o60heH0CvPPb"
      },
      "source": [
        "## 1.2. Installing the Hugging Face Library"
      ]
    },
    {
      "cell_type": "markdown",
      "metadata": {
        "id": "02sc5Ky4vfWb"
      },
      "source": [
        "Next, let's install the transformers package from Hugging Face which will give us a pytorch interface for working with BERT. (This library contains interfaces for other pretrained language models like OpenAI's GPT and GPT-2.) We've selected the pytorch interface because it strikes a nice balance between the high-level APIs (which are easy to use but don't provide insight into how things work) and tensorflow code (which contains lots of details but often sidetracks us into lessons about tensorflow, when the purpose here is BERT!).\n",
        "At the moment, the Hugging Face library seems to be the most widely accepted and powerful pytorch interface for working with BERT. In addition to supporting a variety of different pre-trained transformer models, the library also includes pre-built modifications of these models suited to your specific task. For example, in this tutorial we will use BertForSequenceClassification.\n",
        "The library also includes task-specific classes for token classification, question answering, next sentence prediciton, etc. Using these pre-built classes simplifies the process of modifying BERT for your purposes."
      ]
    },
    {
      "cell_type": "code",
      "metadata": {
        "colab": {
          "base_uri": "https://localhost:8080/"
        },
        "id": "WOmCPftVvJy5",
        "outputId": "0f7b22da-24aa-4488-8576-9321f0372959"
      },
      "source": [
        "!pip install transformers"
      ],
      "execution_count": 3,
      "outputs": [
        {
          "output_type": "stream",
          "text": [
            "Collecting transformers\n",
            "\u001b[?25l  Downloading https://files.pythonhosted.org/packages/3a/83/e74092e7f24a08d751aa59b37a9fc572b2e4af3918cb66f7766c3affb1b4/transformers-3.5.1-py3-none-any.whl (1.3MB)\n",
            "\u001b[K     |████████████████████████████████| 1.3MB 10.6MB/s \n",
            "\u001b[?25hCollecting sentencepiece==0.1.91\n",
            "\u001b[?25l  Downloading https://files.pythonhosted.org/packages/d4/a4/d0a884c4300004a78cca907a6ff9a5e9fe4f090f5d95ab341c53d28cbc58/sentencepiece-0.1.91-cp36-cp36m-manylinux1_x86_64.whl (1.1MB)\n",
            "\u001b[K     |████████████████████████████████| 1.1MB 48.6MB/s \n",
            "\u001b[?25hRequirement already satisfied: numpy in /usr/local/lib/python3.6/dist-packages (from transformers) (1.18.5)\n",
            "Requirement already satisfied: packaging in /usr/local/lib/python3.6/dist-packages (from transformers) (20.4)\n",
            "Requirement already satisfied: tqdm>=4.27 in /usr/local/lib/python3.6/dist-packages (from transformers) (4.41.1)\n",
            "Requirement already satisfied: dataclasses; python_version < \"3.7\" in /usr/local/lib/python3.6/dist-packages (from transformers) (0.8)\n",
            "Collecting sacremoses\n",
            "\u001b[?25l  Downloading https://files.pythonhosted.org/packages/7d/34/09d19aff26edcc8eb2a01bed8e98f13a1537005d31e95233fd48216eed10/sacremoses-0.0.43.tar.gz (883kB)\n",
            "\u001b[K     |████████████████████████████████| 890kB 51.6MB/s \n",
            "\u001b[?25hRequirement already satisfied: requests in /usr/local/lib/python3.6/dist-packages (from transformers) (2.23.0)\n",
            "Requirement already satisfied: regex!=2019.12.17 in /usr/local/lib/python3.6/dist-packages (from transformers) (2019.12.20)\n",
            "Requirement already satisfied: filelock in /usr/local/lib/python3.6/dist-packages (from transformers) (3.0.12)\n",
            "Collecting tokenizers==0.9.3\n",
            "\u001b[?25l  Downloading https://files.pythonhosted.org/packages/4c/34/b39eb9994bc3c999270b69c9eea40ecc6f0e97991dba28282b9fd32d44ee/tokenizers-0.9.3-cp36-cp36m-manylinux1_x86_64.whl (2.9MB)\n",
            "\u001b[K     |████████████████████████████████| 2.9MB 54.3MB/s \n",
            "\u001b[?25hRequirement already satisfied: protobuf in /usr/local/lib/python3.6/dist-packages (from transformers) (3.12.4)\n",
            "Requirement already satisfied: six in /usr/local/lib/python3.6/dist-packages (from packaging->transformers) (1.15.0)\n",
            "Requirement already satisfied: pyparsing>=2.0.2 in /usr/local/lib/python3.6/dist-packages (from packaging->transformers) (2.4.7)\n",
            "Requirement already satisfied: click in /usr/local/lib/python3.6/dist-packages (from sacremoses->transformers) (7.1.2)\n",
            "Requirement already satisfied: joblib in /usr/local/lib/python3.6/dist-packages (from sacremoses->transformers) (0.17.0)\n",
            "Requirement already satisfied: urllib3!=1.25.0,!=1.25.1,<1.26,>=1.21.1 in /usr/local/lib/python3.6/dist-packages (from requests->transformers) (1.24.3)\n",
            "Requirement already satisfied: idna<3,>=2.5 in /usr/local/lib/python3.6/dist-packages (from requests->transformers) (2.10)\n",
            "Requirement already satisfied: certifi>=2017.4.17 in /usr/local/lib/python3.6/dist-packages (from requests->transformers) (2020.11.8)\n",
            "Requirement already satisfied: chardet<4,>=3.0.2 in /usr/local/lib/python3.6/dist-packages (from requests->transformers) (3.0.4)\n",
            "Requirement already satisfied: setuptools in /usr/local/lib/python3.6/dist-packages (from protobuf->transformers) (50.3.2)\n",
            "Building wheels for collected packages: sacremoses\n",
            "  Building wheel for sacremoses (setup.py) ... \u001b[?25l\u001b[?25hdone\n",
            "  Created wheel for sacremoses: filename=sacremoses-0.0.43-cp36-none-any.whl size=893257 sha256=f4e94acb88172037da1d7d14085723d9f96959b0a9ee7ff23141ecdfb7d6bfa2\n",
            "  Stored in directory: /root/.cache/pip/wheels/29/3c/fd/7ce5c3f0666dab31a50123635e6fb5e19ceb42ce38d4e58f45\n",
            "Successfully built sacremoses\n",
            "Installing collected packages: sentencepiece, sacremoses, tokenizers, transformers\n",
            "Successfully installed sacremoses-0.0.43 sentencepiece-0.1.91 tokenizers-0.9.3 transformers-3.5.1\n"
          ],
          "name": "stdout"
        }
      ]
    },
    {
      "cell_type": "markdown",
      "metadata": {
        "id": "Qca0DSpcv08v"
      },
      "source": [
        "## 2.1. Download & Extract"
      ]
    },
    {
      "cell_type": "markdown",
      "metadata": {
        "id": "-4PulPniv8T_"
      },
      "source": [
        "We'll use the wget package to download the dataset to the Colab instance's file system."
      ]
    },
    {
      "cell_type": "code",
      "metadata": {
        "colab": {
          "base_uri": "https://localhost:8080/"
        },
        "id": "MzcN5zmjviV-",
        "outputId": "a7dafb91-ada5-4f67-b5f9-56ee9095d187"
      },
      "source": [
        "!pip install transformers"
      ],
      "execution_count": null,
      "outputs": [
        {
          "output_type": "stream",
          "text": [
            "Requirement already satisfied: transformers in /usr/local/lib/python3.6/dist-packages (3.5.1)\n",
            "Requirement already satisfied: regex!=2019.12.17 in /usr/local/lib/python3.6/dist-packages (from transformers) (2019.12.20)\n",
            "Requirement already satisfied: protobuf in /usr/local/lib/python3.6/dist-packages (from transformers) (3.12.4)\n",
            "Requirement already satisfied: numpy in /usr/local/lib/python3.6/dist-packages (from transformers) (1.18.5)\n",
            "Requirement already satisfied: requests in /usr/local/lib/python3.6/dist-packages (from transformers) (2.23.0)\n",
            "Requirement already satisfied: packaging in /usr/local/lib/python3.6/dist-packages (from transformers) (20.4)\n",
            "Requirement already satisfied: tokenizers==0.9.3 in /usr/local/lib/python3.6/dist-packages (from transformers) (0.9.3)\n",
            "Requirement already satisfied: dataclasses; python_version < \"3.7\" in /usr/local/lib/python3.6/dist-packages (from transformers) (0.8)\n",
            "Requirement already satisfied: sacremoses in /usr/local/lib/python3.6/dist-packages (from transformers) (0.0.43)\n",
            "Requirement already satisfied: sentencepiece==0.1.91 in /usr/local/lib/python3.6/dist-packages (from transformers) (0.1.91)\n",
            "Requirement already satisfied: filelock in /usr/local/lib/python3.6/dist-packages (from transformers) (3.0.12)\n",
            "Requirement already satisfied: tqdm>=4.27 in /usr/local/lib/python3.6/dist-packages (from transformers) (4.41.1)\n",
            "Requirement already satisfied: six>=1.9 in /usr/local/lib/python3.6/dist-packages (from protobuf->transformers) (1.15.0)\n",
            "Requirement already satisfied: setuptools in /usr/local/lib/python3.6/dist-packages (from protobuf->transformers) (50.3.2)\n",
            "Requirement already satisfied: urllib3!=1.25.0,!=1.25.1,<1.26,>=1.21.1 in /usr/local/lib/python3.6/dist-packages (from requests->transformers) (1.24.3)\n",
            "Requirement already satisfied: certifi>=2017.4.17 in /usr/local/lib/python3.6/dist-packages (from requests->transformers) (2020.11.8)\n",
            "Requirement already satisfied: chardet<4,>=3.0.2 in /usr/local/lib/python3.6/dist-packages (from requests->transformers) (3.0.4)\n",
            "Requirement already satisfied: idna<3,>=2.5 in /usr/local/lib/python3.6/dist-packages (from requests->transformers) (2.10)\n",
            "Requirement already satisfied: pyparsing>=2.0.2 in /usr/local/lib/python3.6/dist-packages (from packaging->transformers) (2.4.7)\n",
            "Requirement already satisfied: joblib in /usr/local/lib/python3.6/dist-packages (from sacremoses->transformers) (0.17.0)\n",
            "Requirement already satisfied: click in /usr/local/lib/python3.6/dist-packages (from sacremoses->transformers) (7.1.2)\n"
          ],
          "name": "stdout"
        }
      ]
    },
    {
      "cell_type": "code",
      "metadata": {
        "colab": {
          "base_uri": "https://localhost:8080/"
        },
        "id": "Nis2r9PXv-6i",
        "outputId": "a9be41a0-e651-4c6a-ff83-e393976de848"
      },
      "source": [
        "!pip install PyDrive"
      ],
      "execution_count": 4,
      "outputs": [
        {
          "output_type": "stream",
          "text": [
            "Requirement already satisfied: PyDrive in /usr/local/lib/python3.6/dist-packages (1.3.1)\n",
            "Requirement already satisfied: PyYAML>=3.0 in /usr/local/lib/python3.6/dist-packages (from PyDrive) (3.13)\n",
            "Requirement already satisfied: oauth2client>=4.0.0 in /usr/local/lib/python3.6/dist-packages (from PyDrive) (4.1.3)\n",
            "Requirement already satisfied: google-api-python-client>=1.2 in /usr/local/lib/python3.6/dist-packages (from PyDrive) (1.7.12)\n",
            "Requirement already satisfied: httplib2>=0.9.1 in /usr/local/lib/python3.6/dist-packages (from oauth2client>=4.0.0->PyDrive) (0.17.4)\n",
            "Requirement already satisfied: pyasn1>=0.1.7 in /usr/local/lib/python3.6/dist-packages (from oauth2client>=4.0.0->PyDrive) (0.4.8)\n",
            "Requirement already satisfied: six>=1.6.1 in /usr/local/lib/python3.6/dist-packages (from oauth2client>=4.0.0->PyDrive) (1.15.0)\n",
            "Requirement already satisfied: rsa>=3.1.4 in /usr/local/lib/python3.6/dist-packages (from oauth2client>=4.0.0->PyDrive) (4.6)\n",
            "Requirement already satisfied: pyasn1-modules>=0.0.5 in /usr/local/lib/python3.6/dist-packages (from oauth2client>=4.0.0->PyDrive) (0.2.8)\n",
            "Requirement already satisfied: google-auth-httplib2>=0.0.3 in /usr/local/lib/python3.6/dist-packages (from google-api-python-client>=1.2->PyDrive) (0.0.4)\n",
            "Requirement already satisfied: google-auth>=1.4.1 in /usr/local/lib/python3.6/dist-packages (from google-api-python-client>=1.2->PyDrive) (1.17.2)\n",
            "Requirement already satisfied: uritemplate<4dev,>=3.0.0 in /usr/local/lib/python3.6/dist-packages (from google-api-python-client>=1.2->PyDrive) (3.0.1)\n",
            "Requirement already satisfied: cachetools<5.0,>=2.0.0 in /usr/local/lib/python3.6/dist-packages (from google-auth>=1.4.1->google-api-python-client>=1.2->PyDrive) (4.1.1)\n",
            "Requirement already satisfied: setuptools>=40.3.0 in /usr/local/lib/python3.6/dist-packages (from google-auth>=1.4.1->google-api-python-client>=1.2->PyDrive) (50.3.2)\n"
          ],
          "name": "stdout"
        }
      ]
    },
    {
      "cell_type": "code",
      "metadata": {
        "id": "UxNwCoKqw-N8"
      },
      "source": [
        "from pydrive.auth import GoogleAuth\n",
        "from pydrive.drive import GoogleDrive\n",
        "from google.colab import auth\n",
        "from oauth2client.client import GoogleCredentials"
      ],
      "execution_count": 5,
      "outputs": []
    },
    {
      "cell_type": "code",
      "metadata": {
        "id": "n_F5621_yQI_"
      },
      "source": [
        "auth.authenticate_user()\n",
        "gauth = GoogleAuth()\n",
        "gauth.credentials = GoogleCredentials.get_application_default()\n",
        "drive = GoogleDrive(gauth)"
      ],
      "execution_count": 6,
      "outputs": []
    },
    {
      "cell_type": "code",
      "metadata": {
        "id": "D-Lf5_WUyUhR"
      },
      "source": [
        "downloaded = drive.CreateFile({'id':\"17ss8X9ydtD7DEQM3dsDIYvTHX1Nwmv2V\"})   # replace the id with id of file you want to access\n",
        "downloaded.GetContentFile('book32listing.csv')        # replace the file name with your file"
      ],
      "execution_count": 7,
      "outputs": []
    },
    {
      "cell_type": "code",
      "metadata": {
        "colab": {
          "base_uri": "https://localhost:8080/"
        },
        "id": "bqKB-uz9J-wq",
        "outputId": "ff534c84-5740-409e-f862-0b556b2fdac8"
      },
      "source": [
        "\n",
        "import pandas as pd\n",
        "import numpy as np\n",
        "\n",
        "df = pd.read_csv('book32listing.csv',encoding='latin1', header=None)\n",
        "df1 = df[[3,6,5]] # only columns with titles and genres and the genreid\n",
        "df1.columns = ['Title', 'Genre', \"GenreID\"]\n",
        "df1['split'] = np.random.randn(df.shape[0],1)\n",
        "\n",
        "\n",
        "msk = np.random.rand(len(df1)) <= 0.8\n",
        "\n",
        "train = df1[msk]\n",
        "train = train.drop(columns='split')\n",
        "test = df1[~msk]\n",
        "test = test.drop(columns='split')\n",
        "\n",
        "print(train)"
      ],
      "execution_count": 8,
      "outputs": [
        {
          "output_type": "stream",
          "text": [
            "                                                    Title      Genre  GenreID\n",
            "1                         Doug the Pug 2016 Wall Calendar  Calendars        3\n",
            "3                 365 Cats Color Page-A-Day Calendar 2016  Calendars        3\n",
            "4                    Sierra Club Engagement Calendar 2016  Calendars        3\n",
            "5                    Sierra Club Wilderness Calendar 2016  Calendars        3\n",
            "6       Thomas Kinkade: The Disney Dreams Collection 2...  Calendars        3\n",
            "...                                                   ...        ...      ...\n",
            "207567  ADC the Map People Washington D.C.: Street Map...     Travel       29\n",
            "207568  Washington, D.C., Then and Now: 69 Sites Photo...     Travel       29\n",
            "207569  The Unofficial Guide to Washington, D.C. (Unof...     Travel       29\n",
            "207570      Washington, D.C. For Dummies (Dummies Travel)     Travel       29\n",
            "207571  Fodor's Where to Weekend Around Boston, 1st Ed...     Travel       29\n",
            "\n",
            "[166218 rows x 3 columns]\n"
          ],
          "name": "stdout"
        },
        {
          "output_type": "stream",
          "text": [
            "/usr/local/lib/python3.6/dist-packages/ipykernel_launcher.py:8: SettingWithCopyWarning: \n",
            "A value is trying to be set on a copy of a slice from a DataFrame.\n",
            "Try using .loc[row_indexer,col_indexer] = value instead\n",
            "\n",
            "See the caveats in the documentation: https://pandas.pydata.org/pandas-docs/stable/user_guide/indexing.html#returning-a-view-versus-a-copy\n",
            "  \n"
          ],
          "name": "stderr"
        }
      ]
    },
    {
      "cell_type": "code",
      "metadata": {
        "id": "S10lm-pjtDe6"
      },
      "source": [
        "train.to_csv('train.csv', index=False)\n",
        "test.to_csv('test.csv', index=False)\n"
      ],
      "execution_count": 9,
      "outputs": []
    },
    {
      "cell_type": "markdown",
      "metadata": {
        "id": "MF6E3h2gB6pA"
      },
      "source": [
        "## Split the dataset into train-test\n"
      ]
    },
    {
      "cell_type": "code",
      "metadata": {
        "id": "KTMX1XohE3zS",
        "colab": {
          "base_uri": "https://localhost:8080/",
          "height": 232
        },
        "outputId": "58235472-bb8c-4604-e9b2-3c7cf62ce439"
      },
      "source": [
        "# split the data into train and test set\n",
        "train, test = train_test_split(df1, test_size=0.2, random_state=42, shuffle=True)\n",
        "\n",
        "df1.train_size = int(0.8 * len(df1))\n",
        "df1.test_size = len(df1) - train_size\n"
      ],
      "execution_count": 18,
      "outputs": [
        {
          "output_type": "error",
          "ename": "NameError",
          "evalue": "ignored",
          "traceback": [
            "\u001b[0;31m---------------------------------------------------------------------------\u001b[0m",
            "\u001b[0;31mNameError\u001b[0m                                 Traceback (most recent call last)",
            "\u001b[0;32m<ipython-input-18-e272fbddffa2>\u001b[0m in \u001b[0;36m<module>\u001b[0;34m()\u001b[0m\n\u001b[1;32m      1\u001b[0m \u001b[0;31m# split the data into train and test set\u001b[0m\u001b[0;34m\u001b[0m\u001b[0;34m\u001b[0m\u001b[0;34m\u001b[0m\u001b[0m\n\u001b[0;32m----> 2\u001b[0;31m \u001b[0mtrain\u001b[0m\u001b[0;34m,\u001b[0m \u001b[0mtest\u001b[0m \u001b[0;34m=\u001b[0m \u001b[0mtrain_test_split\u001b[0m\u001b[0;34m(\u001b[0m\u001b[0mdf1\u001b[0m\u001b[0;34m,\u001b[0m \u001b[0mtest_size\u001b[0m\u001b[0;34m=\u001b[0m\u001b[0;36m0.2\u001b[0m\u001b[0;34m,\u001b[0m \u001b[0mrandom_state\u001b[0m\u001b[0;34m=\u001b[0m\u001b[0;36m42\u001b[0m\u001b[0;34m,\u001b[0m \u001b[0mshuffle\u001b[0m\u001b[0;34m=\u001b[0m\u001b[0;32mTrue\u001b[0m\u001b[0;34m)\u001b[0m\u001b[0;34m\u001b[0m\u001b[0;34m\u001b[0m\u001b[0m\n\u001b[0m\u001b[1;32m      3\u001b[0m \u001b[0;34m\u001b[0m\u001b[0m\n\u001b[1;32m      4\u001b[0m \u001b[0mdf1\u001b[0m\u001b[0;34m.\u001b[0m\u001b[0mtrain_size\u001b[0m \u001b[0;34m=\u001b[0m \u001b[0mint\u001b[0m\u001b[0;34m(\u001b[0m\u001b[0;36m0.8\u001b[0m \u001b[0;34m*\u001b[0m \u001b[0mlen\u001b[0m\u001b[0;34m(\u001b[0m\u001b[0mdf1\u001b[0m\u001b[0;34m)\u001b[0m\u001b[0;34m)\u001b[0m\u001b[0;34m\u001b[0m\u001b[0;34m\u001b[0m\u001b[0m\n\u001b[1;32m      5\u001b[0m \u001b[0mdf1\u001b[0m\u001b[0;34m.\u001b[0m\u001b[0mtest_size\u001b[0m \u001b[0;34m=\u001b[0m \u001b[0mlen\u001b[0m\u001b[0;34m(\u001b[0m\u001b[0mdf1\u001b[0m\u001b[0;34m)\u001b[0m \u001b[0;34m-\u001b[0m \u001b[0mtrain_size\u001b[0m\u001b[0;34m\u001b[0m\u001b[0;34m\u001b[0m\u001b[0m\n",
            "\u001b[0;31mNameError\u001b[0m: name 'train_test_split' is not defined"
          ]
        }
      ]
    },
    {
      "cell_type": "markdown",
      "metadata": {
        "id": "jA94GM5XynFW"
      },
      "source": [
        "##2.2. Parse\n"
      ]
    },
    {
      "cell_type": "markdown",
      "metadata": {
        "id": "zmyOU4Exyt_e"
      },
      "source": [
        "We can see from the file names that both tokenized and raw versions of the data are available.\n",
        "We can't use the pre-tokenized version because, in order to apply the pre-trained BERT, we must use the tokenizer provided by the model. This is because (1) the model has a specific, fixed vocabulary and (2) the BERT tokenizer has a particular way of handling out-of-vocabulary words.\n",
        "\n",
        "We'll use pandas to parse the \"in-domain\" training set and look at a few of its properties and data points."
      ]
    },
    {
      "cell_type": "code",
      "metadata": {
        "colab": {
          "base_uri": "https://localhost:8080/",
          "height": 393
        },
        "id": "umpY7TevzWKl",
        "outputId": "1e28d8d8-f60e-43e2-c19c-d600ccd260d2"
      },
      "source": [
        "# Report the number of titles.\n",
        "print('Number of training titles: {:,}\\n'.format(train.shape[0]))\n",
        "\n",
        "# Display 10 random rows from the data.\n",
        "train.sample(10)"
      ],
      "execution_count": 10,
      "outputs": [
        {
          "output_type": "stream",
          "text": [
            "Number of training titles: 166,218\n",
            "\n"
          ],
          "name": "stdout"
        },
        {
          "output_type": "execute_result",
          "data": {
            "text/html": [
              "<div>\n",
              "<style scoped>\n",
              "    .dataframe tbody tr th:only-of-type {\n",
              "        vertical-align: middle;\n",
              "    }\n",
              "\n",
              "    .dataframe tbody tr th {\n",
              "        vertical-align: top;\n",
              "    }\n",
              "\n",
              "    .dataframe thead th {\n",
              "        text-align: right;\n",
              "    }\n",
              "</style>\n",
              "<table border=\"1\" class=\"dataframe\">\n",
              "  <thead>\n",
              "    <tr style=\"text-align: right;\">\n",
              "      <th></th>\n",
              "      <th>Title</th>\n",
              "      <th>Genre</th>\n",
              "      <th>GenreID</th>\n",
              "    </tr>\n",
              "  </thead>\n",
              "  <tbody>\n",
              "    <tr>\n",
              "      <th>27786</th>\n",
              "      <td>Argonautika: The Voyage of Jason and the Argon...</td>\n",
              "      <td>Literature &amp; Fiction</td>\n",
              "      <td>15</td>\n",
              "    </tr>\n",
              "    <tr>\n",
              "      <th>5373</th>\n",
              "      <td>Gakuen Polizi Vol. 2</td>\n",
              "      <td>Comics &amp; Graphic Novels</td>\n",
              "      <td>5</td>\n",
              "    </tr>\n",
              "    <tr>\n",
              "      <th>177508</th>\n",
              "      <td>All Animals Big and Small Coloring Book (Super...</td>\n",
              "      <td>Children's Books</td>\n",
              "      <td>4</td>\n",
              "    </tr>\n",
              "    <tr>\n",
              "      <th>23555</th>\n",
              "      <td>Fanatic Forms: Fantasy Football Forms: Handy f...</td>\n",
              "      <td>Humor &amp; Entertainment</td>\n",
              "      <td>13</td>\n",
              "    </tr>\n",
              "    <tr>\n",
              "      <th>187262</th>\n",
              "      <td>All Natural Spa Lab (toy and book)</td>\n",
              "      <td>Children's Books</td>\n",
              "      <td>4</td>\n",
              "    </tr>\n",
              "    <tr>\n",
              "      <th>70945</th>\n",
              "      <td>The Beginning of Heaven and Earth Has No Name:...</td>\n",
              "      <td>Computers &amp; Technology</td>\n",
              "      <td>6</td>\n",
              "    </tr>\n",
              "    <tr>\n",
              "      <th>51727</th>\n",
              "      <td>Growing the Northeast Garden</td>\n",
              "      <td>Crafts, Hobbies &amp; Home</td>\n",
              "      <td>8</td>\n",
              "    </tr>\n",
              "    <tr>\n",
              "      <th>145914</th>\n",
              "      <td>Concise Bible Atlas: A Geographical Survey of ...</td>\n",
              "      <td>Christian Books &amp; Bibles</td>\n",
              "      <td>9</td>\n",
              "    </tr>\n",
              "    <tr>\n",
              "      <th>21089</th>\n",
              "      <td>Woody Allen: A Retrospective</td>\n",
              "      <td>Humor &amp; Entertainment</td>\n",
              "      <td>13</td>\n",
              "    </tr>\n",
              "    <tr>\n",
              "      <th>104363</th>\n",
              "      <td>A Journey Into the Deaf-World</td>\n",
              "      <td>Health, Fitness &amp; Dieting</td>\n",
              "      <td>11</td>\n",
              "    </tr>\n",
              "  </tbody>\n",
              "</table>\n",
              "</div>"
            ],
            "text/plain": [
              "                                                    Title  ... GenreID\n",
              "27786   Argonautika: The Voyage of Jason and the Argon...  ...      15\n",
              "5373                                 Gakuen Polizi Vol. 2  ...       5\n",
              "177508  All Animals Big and Small Coloring Book (Super...  ...       4\n",
              "23555   Fanatic Forms: Fantasy Football Forms: Handy f...  ...      13\n",
              "187262                 All Natural Spa Lab (toy and book)  ...       4\n",
              "70945   The Beginning of Heaven and Earth Has No Name:...  ...       6\n",
              "51727                        Growing the Northeast Garden  ...       8\n",
              "145914  Concise Bible Atlas: A Geographical Survey of ...  ...       9\n",
              "21089                        Woody Allen: A Retrospective  ...      13\n",
              "104363                      A Journey Into the Deaf-World  ...      11\n",
              "\n",
              "[10 rows x 3 columns]"
            ]
          },
          "metadata": {
            "tags": []
          },
          "execution_count": 10
        }
      ]
    },
    {
      "cell_type": "markdown",
      "metadata": {
        "id": "1_KMmB--z0Wp"
      },
      "source": [
        "Let's extract the sentences and labels of our training set as numpy ndarrays."
      ]
    },
    {
      "cell_type": "code",
      "metadata": {
        "id": "I0r9Wzuiy5fI"
      },
      "source": [
        "# Get the lists of titles and their genreID.\n",
        "\n",
        "titles = train['Title'].values # list of all titles\n",
        "genreID = train['GenreID'].values # list of all genre ids"
      ],
      "execution_count": 11,
      "outputs": []
    },
    {
      "cell_type": "code",
      "metadata": {
        "colab": {
          "base_uri": "https://localhost:8080/"
        },
        "id": "jpeLkw_xsMX-",
        "outputId": "1a6ede82-bcf7-4b08-8b2a-5a81b5985909"
      },
      "source": [
        "titles"
      ],
      "execution_count": 12,
      "outputs": [
        {
          "output_type": "execute_result",
          "data": {
            "text/plain": [
              "array(['Doug the Pug 2016 Wall Calendar',\n",
              "       '365 Cats Color Page-A-Day Calendar 2016',\n",
              "       'Sierra Club Engagement Calendar 2016', ...,\n",
              "       'The Unofficial Guide to Washington, D.C. (Unofficial Guides)',\n",
              "       'Washington, D.C. For Dummies (Dummies Travel)',\n",
              "       \"Fodor's Where to Weekend Around Boston, 1st Edition (Special-Interest Titles)\"],\n",
              "      dtype=object)"
            ]
          },
          "metadata": {
            "tags": []
          },
          "execution_count": 12
        }
      ]
    },
    {
      "cell_type": "markdown",
      "metadata": {
        "id": "lsx-4Ps20RIr"
      },
      "source": [
        "# 3. Tokenization & Input Formatting\n",
        "\n",
        "In this section, we'll transform our dataset into the format that BERT can be trained on."
      ]
    },
    {
      "cell_type": "markdown",
      "metadata": {
        "id": "3OddtuFF0XwJ"
      },
      "source": [
        "## 3.1. BERT Tokenizer"
      ]
    },
    {
      "cell_type": "markdown",
      "metadata": {
        "id": "LxtXb84I0Yn9"
      },
      "source": [
        "To feed our text to BERT, it must be split into tokens, and then these tokens must be mapped to their index in the tokenizer vocabulary.\n",
        "The tokenization must be performed by the tokenizer included with BERT--the below cell will download this for us. We'll be using the \"uncased\" version here."
      ]
    },
    {
      "cell_type": "code",
      "metadata": {
        "colab": {
          "base_uri": "https://localhost:8080/",
          "height": 83,
          "referenced_widgets": [
            "7ea65a9f13814f4b99a5125a73002b08",
            "eb56ba1cfa6d4ca888b0e6645d0d0037",
            "9c404d1bb80d464e9f5bc640ac013845",
            "b2710d751b4d416988ab29b2d1e59906",
            "a0df2808721746e78f2ffc26b465cab3",
            "00467bad304e40478f88ac6a7b042ead",
            "cddc296f49004381bcc0c63df85e16ee",
            "0d638bd2a50441a39ea53ff0fde49c2d"
          ]
        },
        "id": "BdNpdN5Hz_z5",
        "outputId": "84233667-688b-4c93-d49f-4cdd988c9118"
      },
      "source": [
        "from transformers import BertTokenizer\n",
        "\n",
        "# Load the BERT tokenizer.\n",
        "print('Loading BERT tokenizer...')\n",
        "tokenizer = BertTokenizer.from_pretrained('bert-base-uncased', do_lower_case=True)"
      ],
      "execution_count": 13,
      "outputs": [
        {
          "output_type": "stream",
          "text": [
            "Loading BERT tokenizer...\n"
          ],
          "name": "stdout"
        },
        {
          "output_type": "display_data",
          "data": {
            "application/vnd.jupyter.widget-view+json": {
              "model_id": "7ea65a9f13814f4b99a5125a73002b08",
              "version_minor": 0,
              "version_major": 2
            },
            "text/plain": [
              "HBox(children=(FloatProgress(value=0.0, description='Downloading', max=231508.0, style=ProgressStyle(descripti…"
            ]
          },
          "metadata": {
            "tags": []
          }
        },
        {
          "output_type": "stream",
          "text": [
            "\n"
          ],
          "name": "stdout"
        }
      ]
    },
    {
      "cell_type": "markdown",
      "metadata": {
        "id": "zVP_Rw8C0n0H"
      },
      "source": [
        "Let's apply the tokenizer to one sentence just to see the output.\n"
      ]
    },
    {
      "cell_type": "code",
      "metadata": {
        "colab": {
          "base_uri": "https://localhost:8080/"
        },
        "id": "7JIOkOlX0ib0",
        "outputId": "60cb5302-4c14-47ac-a914-f2e5cd7a702e"
      },
      "source": [
        "# Print the original sentence.\n",
        "print(' Original: ', titles[0])\n",
        "\n",
        "# Print the sentence split into tokens.\n",
        "print('Tokenized: ', tokenizer.tokenize(titles[0]))\n",
        "\n",
        "# Print the sentence mapped to token ids.\n",
        "print('Token IDs: ', tokenizer.convert_tokens_to_ids(tokenizer.tokenize(titles[0])))"
      ],
      "execution_count": 14,
      "outputs": [
        {
          "output_type": "stream",
          "text": [
            " Original:  Doug the Pug 2016 Wall Calendar\n",
            "Tokenized:  ['doug', 'the', 'pu', '##g', '2016', 'wall', 'calendar']\n",
            "Token IDs:  [8788, 1996, 16405, 2290, 2355, 2813, 8094]\n"
          ],
          "name": "stdout"
        }
      ]
    },
    {
      "cell_type": "markdown",
      "metadata": {
        "id": "rZOFIy5j01iE"
      },
      "source": [
        "When we actually convert all of our sentences, we'll use the `tokenize.encode` function to handle both steps, rather than calling `tokenize` and `convert_tokens_to_ids` separately. \n",
        "\n",
        "Before we can do that, though, we need to talk about some of BERT's formatting requirements."
      ]
    },
    {
      "cell_type": "markdown",
      "metadata": {
        "id": "THc62asQ06Jd"
      },
      "source": [
        "## 3.2. Required Formatting"
      ]
    },
    {
      "cell_type": "markdown",
      "metadata": {
        "id": "fqtgEHVv0_uy"
      },
      "source": [
        "The above code left out a few required formatting steps that we'll look at here.\n",
        "\n",
        "We are required to:\n",
        "1. Add special tokens to the start and end of each sentence.\n",
        "2. Pad & truncate all sentences to a single constant length.\n",
        "3. Explicitly differentiate real tokens from padding tokens with the \"attention mask\"."
      ]
    },
    {
      "cell_type": "markdown",
      "metadata": {
        "id": "IiLGcmjL1fMY"
      },
      "source": [
        "##3.3. Tokenize Dataset"
      ]
    },
    {
      "cell_type": "markdown",
      "metadata": {
        "id": "72hdhdMw1j3Z"
      },
      "source": [
        "The transformers library provides a helpful encode function which will handle most of the parsing and data prep steps for us.\n",
        "Before we are ready to encode our text, though, we need to decide on a maximum sentence length for padding / truncating to.\n",
        "The below cell will perform one tokenization pass of the dataset in order to measure the maximum sentence length."
      ]
    },
    {
      "cell_type": "code",
      "metadata": {
        "colab": {
          "base_uri": "https://localhost:8080/"
        },
        "id": "znnYNbyv0wyU",
        "outputId": "79489836-354c-48ef-c5f0-e08af08715e0"
      },
      "source": [
        "max_len = 0\n",
        "\n",
        "# For every title...\n",
        "for title in titles:\n",
        "\n",
        "    # Tokenize the text and add `[CLS]` and `[SEP]` tokens.\n",
        "    input_ids = tokenizer.encode(title, add_special_tokens=True)\n",
        "\n",
        "    # Update the maximum title length.\n",
        "    max_len = max(max_len, len(input_ids))\n",
        "\n",
        "print('Max title length: ', max_len)"
      ],
      "execution_count": 15,
      "outputs": [
        {
          "output_type": "stream",
          "text": [
            "Max title length:  112\n"
          ],
          "name": "stdout"
        }
      ]
    },
    {
      "cell_type": "markdown",
      "metadata": {
        "id": "TEj7fZ_12cfD"
      },
      "source": [
        "Now we're ready to perform the real tokenization.\n",
        "\n",
        "The `tokenizer.encode_plus` function combines multiple steps for us:\n",
        "\n",
        "1. Split the sentence into tokens.\n",
        "2. Add the special `[CLS]` and `[SEP]` tokens.\n",
        "3. Map the tokens to their IDs.\n",
        "4. Pad or truncate all sentences to the same length.\n",
        "5. Create the attention masks which explicitly differentiate real tokens from `[PAD]` tokens.\n",
        "\n",
        "The first four features are in `tokenizer.encode`, but I'm using `tokenizer.encode_plus` to get the fifth item (attention masks). Documentation is [here](https://huggingface.co/transformers/main_classes/tokenizer.html?highlight=encode_plus#transformers.PreTrainedTokenizer.encode_plus).\n"
      ]
    },
    {
      "cell_type": "code",
      "metadata": {
        "colab": {
          "base_uri": "https://localhost:8080/"
        },
        "id": "RP8UwUTp1zxu",
        "outputId": "60edb28e-22f8-4932-b14c-60698beb22b6"
      },
      "source": [
        "# Tokenize all of the sentences and map the tokens to thier word IDs.\n",
        "input_ids = []\n",
        "attention_masks = []\n",
        "\n",
        "# For every titles...\n",
        "for title in titles:\n",
        "    # `encode_plus` will:\n",
        "    #   (1) Tokenize the title.\n",
        "    #   (2) Prepend the `[CLS]` token to the start.\n",
        "    #   (3) Append the `[SEP]` token to the end.\n",
        "    #   (4) Map tokens to their IDs.\n",
        "    #   (5) Pad or truncate the title to `max_length`\n",
        "    #   (6) Create attention masks for [PAD] tokens.\n",
        "    encoded_dict = tokenizer.encode_plus(\n",
        "                        title,                      # Sentence to encode.\n",
        "                        add_special_tokens = True, # Add '[CLS]' and '[SEP]'\n",
        "                        max_length = 140,           # Pad & truncate all titles.\n",
        "                        pad_to_max_length = True,\n",
        "                        return_attention_mask = True,   # Construct attn. masks.\n",
        "                        return_tensors = 'pt',     # Return pytorch tensors.\n",
        "                   )\n",
        "    \n",
        "    # Add the encoded title to the list.    \n",
        "    input_ids.append(encoded_dict['input_ids'])\n",
        "    \n",
        "    # And its attention mask (simply differentiates padding from non-padding).\n",
        "    attention_masks.append(encoded_dict['attention_mask'])\n",
        "\n",
        "# Convert the lists into tensors.\n",
        "input_ids = torch.cat(input_ids, dim=0)\n",
        "attention_masks = torch.cat(attention_masks, dim=0)\n",
        "genreID = torch.tensor(genreID)\n",
        "\n",
        "# Print sentence 0, now as a list of IDs.\n",
        "print('Original: ', titles[0])\n",
        "print('Token IDs:', input_ids[0])"
      ],
      "execution_count": 16,
      "outputs": [
        {
          "output_type": "stream",
          "text": [
            "Truncation was not explicitly activated but `max_length` is provided a specific value, please use `truncation=True` to explicitly truncate examples to max length. Defaulting to 'longest_first' truncation strategy. If you encode pairs of sequences (GLUE-style) with the tokenizer you can select this strategy more precisely by providing a specific strategy to `truncation`.\n",
            "/usr/local/lib/python3.6/dist-packages/transformers/tokenization_utils_base.py:2022: FutureWarning: The `pad_to_max_length` argument is deprecated and will be removed in a future version, use `padding=True` or `padding='longest'` to pad to the longest sequence in the batch, or use `padding='max_length'` to pad to a max length. In this case, you can give a specific length with `max_length` (e.g. `max_length=45`) or leave max_length to None to pad to the maximal input size of the model (e.g. 512 for Bert).\n",
            "  FutureWarning,\n"
          ],
          "name": "stderr"
        },
        {
          "output_type": "stream",
          "text": [
            "Original:  Doug the Pug 2016 Wall Calendar\n",
            "Token IDs: tensor([  101,  8788,  1996, 16405,  2290,  2355,  2813,  8094,   102,     0,\n",
            "            0,     0,     0,     0,     0,     0,     0,     0,     0,     0,\n",
            "            0,     0,     0,     0,     0,     0,     0,     0,     0,     0,\n",
            "            0,     0,     0,     0,     0,     0,     0,     0,     0,     0,\n",
            "            0,     0,     0,     0,     0,     0,     0,     0,     0,     0,\n",
            "            0,     0,     0,     0,     0,     0,     0,     0,     0,     0,\n",
            "            0,     0,     0,     0,     0,     0,     0,     0,     0,     0,\n",
            "            0,     0,     0,     0,     0,     0,     0,     0,     0,     0,\n",
            "            0,     0,     0,     0,     0,     0,     0,     0,     0,     0,\n",
            "            0,     0,     0,     0,     0,     0,     0,     0,     0,     0,\n",
            "            0,     0,     0,     0,     0,     0,     0,     0,     0,     0,\n",
            "            0,     0,     0,     0,     0,     0,     0,     0,     0,     0,\n",
            "            0,     0,     0,     0,     0,     0,     0,     0,     0,     0,\n",
            "            0,     0,     0,     0,     0,     0,     0,     0,     0,     0])\n"
          ],
          "name": "stdout"
        }
      ]
    },
    {
      "cell_type": "markdown",
      "metadata": {
        "id": "0xcEx_zP4TR0"
      },
      "source": [
        "## 3.4. Training & Validation Split"
      ]
    },
    {
      "cell_type": "markdown",
      "metadata": {
        "id": "Rp5kZlwQ4WSR"
      },
      "source": [
        "Divide up our training set to use 80% for training and 20% for validation."
      ]
    },
    {
      "cell_type": "code",
      "metadata": {
        "colab": {
          "base_uri": "https://localhost:8080/"
        },
        "id": "d-9Vg-VS3AJw",
        "outputId": "f2fc7478-f7f8-473f-b1a7-59d6c837e130"
      },
      "source": [
        "from torch.utils.data import TensorDataset, random_split\n",
        "\n",
        "# Combine the training inputs into a TensorDataset.\n",
        "dataset = TensorDataset(input_ids, attention_masks, genreID)\n",
        "\n",
        "# Create a 80-20 train-validation split.\n",
        "\n",
        "# Calculate the number of samples to include in each set.\n",
        "train_size = int(0.8 * len(dataset))\n",
        "val_size = len(dataset) - train_size\n",
        "\n",
        "# Divide the dataset by randomly selecting samples.\n",
        "train_dataset, val_dataset = random_split(dataset, [train_size, val_size])\n",
        "\n",
        "print('{:>5,} training samples'.format(train_size))\n",
        "print('{:>5,} validation samples'.format(val_size))"
      ],
      "execution_count": 19,
      "outputs": [
        {
          "output_type": "stream",
          "text": [
            "132,974 training samples\n",
            "33,244 validation samples\n"
          ],
          "name": "stdout"
        }
      ]
    },
    {
      "cell_type": "markdown",
      "metadata": {
        "id": "QFnnP3AW4wCs"
      },
      "source": [
        "We'll also create an iterator for our dataset using the torch DataLoader class. This helps save on memory during training because, unlike a for loop, with an iterator the entire dataset does not need to be loaded into memory."
      ]
    },
    {
      "cell_type": "code",
      "metadata": {
        "id": "jSy-nk5G4qVi"
      },
      "source": [
        "from torch.utils.data import DataLoader, RandomSampler, SequentialSampler\n",
        "\n",
        "# The DataLoader needs to know our batch size for training, so we specify it \n",
        "# here. For fine-tuning BERT on a specific task, the authors recommend a batch \n",
        "# size of 16 or 32.\n",
        "batch_size = 32\n",
        "\n",
        "# Create the DataLoaders for our training and validation sets.\n",
        "# We'll take training samples in random order. \n",
        "train_dataloader = DataLoader(\n",
        "            train_dataset,  # The training samples.\n",
        "            sampler = RandomSampler(train_dataset), # Select batches randomly\n",
        "            batch_size = batch_size # Trains with this batch size.\n",
        "        )\n",
        "\n",
        "# For validation the order doesn't matter, so we'll just read them sequentially.\n",
        "validation_dataloader = DataLoader(\n",
        "            val_dataset, # The validation samples.\n",
        "            sampler = SequentialSampler(val_dataset), # Pull out batches sequentially.\n",
        "            batch_size = batch_size # Evaluate with this batch size.\n",
        "        )"
      ],
      "execution_count": 20,
      "outputs": []
    },
    {
      "cell_type": "markdown",
      "metadata": {
        "id": "hrye6xAA4-re"
      },
      "source": [
        "# 4. Train Our Classification Model"
      ]
    },
    {
      "cell_type": "markdown",
      "metadata": {
        "id": "zto4NxuZ5A3l"
      },
      "source": [
        "\n",
        "## 4.1. BertForSequenceClassification"
      ]
    },
    {
      "cell_type": "markdown",
      "metadata": {
        "id": "NVE9lutA5L7L"
      },
      "source": [
        "For this task, we first want to modify the pre-trained BERT model to give outputs for classification, and then we want to continue training the model on our dataset until that the entire model, end-to-end, is well-suited for our task. \n",
        "\n",
        "Thankfully, the huggingface pytorch implementation includes a set of interfaces designed for a variety of NLP tasks. Though these interfaces are all built on top of a trained BERT model, each has different top layers and output types designed to accomodate their specific NLP task."
      ]
    },
    {
      "cell_type": "markdown",
      "metadata": {
        "id": "ZeoEXCZ25b4A"
      },
      "source": [
        "We'll be using [BertForSequenceClassification](https://huggingface.co/transformers/v2.2.0/model_doc/bert.html#bertforsequenceclassification). This is the normal BERT model with an added single linear layer on top for classification that we will use as a sentence classifier. As we feed input data, the entire pre-trained BERT model and the additional untrained classification layer is trained on our specific task."
      ]
    },
    {
      "cell_type": "markdown",
      "metadata": {
        "id": "_HHTqHK55dXk"
      },
      "source": [
        "There are a few different pre-trained BERT models available. \"bert-base-uncased\" means the version that has only lowercase letters (\"uncased\") and is the smaller version of the two (\"base\" vs \"large\").\n",
        "The documentation for from_pretrained can be found here, with the additional parameters defined here."
      ]
    },
    {
      "cell_type": "code",
      "metadata": {
        "colab": {
          "base_uri": "https://localhost:8080/",
          "height": 1000,
          "referenced_widgets": [
            "3b2726a48fd3408bba7d3e1926ebcbe0",
            "740ee8e31dec4bd9a0106e86405a8faa",
            "d19a7331484f423c90839faceee407bf",
            "52750d2f36a343a68ad311e8ee162c22",
            "28646124f0e64e1e8aadced273c8573d",
            "65ff2ce6a93b46228604e6a606194f1e",
            "a6cce46a66f6470882430b31208d06d5",
            "1fe2b87ab98f49bab1e879484aacf386",
            "a45ad6d846e944b4b7b401b56f0f752c",
            "005ac1f0cc7f4953a251ca4605d82e19",
            "bcaef1f8803646dbb7ece2c4c7d2fd39",
            "4f705d27405a47f7bb70bbeb6ff23842",
            "bbe9459c779d4a95b5f7160d0036a70a",
            "417d842be319468f84fccd60405867d4",
            "cd67d39243c04027ae45bfe89efb7d3f",
            "b1f7216c86b242b59365e7fc8d4b0c1e"
          ]
        },
        "id": "SIXfKayO46Ra",
        "outputId": "a5902590-2bb3-4319-867b-b5788b84e6b6"
      },
      "source": [
        "from transformers import BertForSequenceClassification, AdamW, BertConfig\n",
        "\n",
        "# Load BertForSequenceClassification, the pretrained BERT model with a single \n",
        "# linear classification layer on top. \n",
        "model = BertForSequenceClassification.from_pretrained(\n",
        "    \"bert-base-uncased\", # Use the 12-layer BERT model, with an uncased vocab.\n",
        "    num_labels = 32, # The number of output labels--2 for binary classification.\n",
        "                    # You can increase this for multi-class tasks.   \n",
        "    output_attentions = False, # Whether the model returns attentions weights.\n",
        "    output_hidden_states = False, # Whether the model returns all hidden-states.\n",
        ")\n",
        "\n",
        "# Tell pytorch to run this model on the GPU.\n",
        "model.cuda()"
      ],
      "execution_count": 21,
      "outputs": [
        {
          "output_type": "display_data",
          "data": {
            "application/vnd.jupyter.widget-view+json": {
              "model_id": "3b2726a48fd3408bba7d3e1926ebcbe0",
              "version_minor": 0,
              "version_major": 2
            },
            "text/plain": [
              "HBox(children=(FloatProgress(value=0.0, description='Downloading', max=433.0, style=ProgressStyle(description_…"
            ]
          },
          "metadata": {
            "tags": []
          }
        },
        {
          "output_type": "stream",
          "text": [
            "\n"
          ],
          "name": "stdout"
        },
        {
          "output_type": "display_data",
          "data": {
            "application/vnd.jupyter.widget-view+json": {
              "model_id": "a45ad6d846e944b4b7b401b56f0f752c",
              "version_minor": 0,
              "version_major": 2
            },
            "text/plain": [
              "HBox(children=(FloatProgress(value=0.0, description='Downloading', max=440473133.0, style=ProgressStyle(descri…"
            ]
          },
          "metadata": {
            "tags": []
          }
        },
        {
          "output_type": "stream",
          "text": [
            "\n"
          ],
          "name": "stdout"
        },
        {
          "output_type": "stream",
          "text": [
            "Some weights of the model checkpoint at bert-base-uncased were not used when initializing BertForSequenceClassification: ['cls.predictions.bias', 'cls.predictions.transform.dense.weight', 'cls.predictions.transform.dense.bias', 'cls.predictions.decoder.weight', 'cls.seq_relationship.weight', 'cls.seq_relationship.bias', 'cls.predictions.transform.LayerNorm.weight', 'cls.predictions.transform.LayerNorm.bias']\n",
            "- This IS expected if you are initializing BertForSequenceClassification from the checkpoint of a model trained on another task or with another architecture (e.g. initializing a BertForSequenceClassification model from a BertForPreTraining model).\n",
            "- This IS NOT expected if you are initializing BertForSequenceClassification from the checkpoint of a model that you expect to be exactly identical (initializing a BertForSequenceClassification model from a BertForSequenceClassification model).\n",
            "Some weights of BertForSequenceClassification were not initialized from the model checkpoint at bert-base-uncased and are newly initialized: ['classifier.weight', 'classifier.bias']\n",
            "You should probably TRAIN this model on a down-stream task to be able to use it for predictions and inference.\n"
          ],
          "name": "stderr"
        },
        {
          "output_type": "execute_result",
          "data": {
            "text/plain": [
              "BertForSequenceClassification(\n",
              "  (bert): BertModel(\n",
              "    (embeddings): BertEmbeddings(\n",
              "      (word_embeddings): Embedding(30522, 768, padding_idx=0)\n",
              "      (position_embeddings): Embedding(512, 768)\n",
              "      (token_type_embeddings): Embedding(2, 768)\n",
              "      (LayerNorm): LayerNorm((768,), eps=1e-12, elementwise_affine=True)\n",
              "      (dropout): Dropout(p=0.1, inplace=False)\n",
              "    )\n",
              "    (encoder): BertEncoder(\n",
              "      (layer): ModuleList(\n",
              "        (0): BertLayer(\n",
              "          (attention): BertAttention(\n",
              "            (self): BertSelfAttention(\n",
              "              (query): Linear(in_features=768, out_features=768, bias=True)\n",
              "              (key): Linear(in_features=768, out_features=768, bias=True)\n",
              "              (value): Linear(in_features=768, out_features=768, bias=True)\n",
              "              (dropout): Dropout(p=0.1, inplace=False)\n",
              "            )\n",
              "            (output): BertSelfOutput(\n",
              "              (dense): Linear(in_features=768, out_features=768, bias=True)\n",
              "              (LayerNorm): LayerNorm((768,), eps=1e-12, elementwise_affine=True)\n",
              "              (dropout): Dropout(p=0.1, inplace=False)\n",
              "            )\n",
              "          )\n",
              "          (intermediate): BertIntermediate(\n",
              "            (dense): Linear(in_features=768, out_features=3072, bias=True)\n",
              "          )\n",
              "          (output): BertOutput(\n",
              "            (dense): Linear(in_features=3072, out_features=768, bias=True)\n",
              "            (LayerNorm): LayerNorm((768,), eps=1e-12, elementwise_affine=True)\n",
              "            (dropout): Dropout(p=0.1, inplace=False)\n",
              "          )\n",
              "        )\n",
              "        (1): BertLayer(\n",
              "          (attention): BertAttention(\n",
              "            (self): BertSelfAttention(\n",
              "              (query): Linear(in_features=768, out_features=768, bias=True)\n",
              "              (key): Linear(in_features=768, out_features=768, bias=True)\n",
              "              (value): Linear(in_features=768, out_features=768, bias=True)\n",
              "              (dropout): Dropout(p=0.1, inplace=False)\n",
              "            )\n",
              "            (output): BertSelfOutput(\n",
              "              (dense): Linear(in_features=768, out_features=768, bias=True)\n",
              "              (LayerNorm): LayerNorm((768,), eps=1e-12, elementwise_affine=True)\n",
              "              (dropout): Dropout(p=0.1, inplace=False)\n",
              "            )\n",
              "          )\n",
              "          (intermediate): BertIntermediate(\n",
              "            (dense): Linear(in_features=768, out_features=3072, bias=True)\n",
              "          )\n",
              "          (output): BertOutput(\n",
              "            (dense): Linear(in_features=3072, out_features=768, bias=True)\n",
              "            (LayerNorm): LayerNorm((768,), eps=1e-12, elementwise_affine=True)\n",
              "            (dropout): Dropout(p=0.1, inplace=False)\n",
              "          )\n",
              "        )\n",
              "        (2): BertLayer(\n",
              "          (attention): BertAttention(\n",
              "            (self): BertSelfAttention(\n",
              "              (query): Linear(in_features=768, out_features=768, bias=True)\n",
              "              (key): Linear(in_features=768, out_features=768, bias=True)\n",
              "              (value): Linear(in_features=768, out_features=768, bias=True)\n",
              "              (dropout): Dropout(p=0.1, inplace=False)\n",
              "            )\n",
              "            (output): BertSelfOutput(\n",
              "              (dense): Linear(in_features=768, out_features=768, bias=True)\n",
              "              (LayerNorm): LayerNorm((768,), eps=1e-12, elementwise_affine=True)\n",
              "              (dropout): Dropout(p=0.1, inplace=False)\n",
              "            )\n",
              "          )\n",
              "          (intermediate): BertIntermediate(\n",
              "            (dense): Linear(in_features=768, out_features=3072, bias=True)\n",
              "          )\n",
              "          (output): BertOutput(\n",
              "            (dense): Linear(in_features=3072, out_features=768, bias=True)\n",
              "            (LayerNorm): LayerNorm((768,), eps=1e-12, elementwise_affine=True)\n",
              "            (dropout): Dropout(p=0.1, inplace=False)\n",
              "          )\n",
              "        )\n",
              "        (3): BertLayer(\n",
              "          (attention): BertAttention(\n",
              "            (self): BertSelfAttention(\n",
              "              (query): Linear(in_features=768, out_features=768, bias=True)\n",
              "              (key): Linear(in_features=768, out_features=768, bias=True)\n",
              "              (value): Linear(in_features=768, out_features=768, bias=True)\n",
              "              (dropout): Dropout(p=0.1, inplace=False)\n",
              "            )\n",
              "            (output): BertSelfOutput(\n",
              "              (dense): Linear(in_features=768, out_features=768, bias=True)\n",
              "              (LayerNorm): LayerNorm((768,), eps=1e-12, elementwise_affine=True)\n",
              "              (dropout): Dropout(p=0.1, inplace=False)\n",
              "            )\n",
              "          )\n",
              "          (intermediate): BertIntermediate(\n",
              "            (dense): Linear(in_features=768, out_features=3072, bias=True)\n",
              "          )\n",
              "          (output): BertOutput(\n",
              "            (dense): Linear(in_features=3072, out_features=768, bias=True)\n",
              "            (LayerNorm): LayerNorm((768,), eps=1e-12, elementwise_affine=True)\n",
              "            (dropout): Dropout(p=0.1, inplace=False)\n",
              "          )\n",
              "        )\n",
              "        (4): BertLayer(\n",
              "          (attention): BertAttention(\n",
              "            (self): BertSelfAttention(\n",
              "              (query): Linear(in_features=768, out_features=768, bias=True)\n",
              "              (key): Linear(in_features=768, out_features=768, bias=True)\n",
              "              (value): Linear(in_features=768, out_features=768, bias=True)\n",
              "              (dropout): Dropout(p=0.1, inplace=False)\n",
              "            )\n",
              "            (output): BertSelfOutput(\n",
              "              (dense): Linear(in_features=768, out_features=768, bias=True)\n",
              "              (LayerNorm): LayerNorm((768,), eps=1e-12, elementwise_affine=True)\n",
              "              (dropout): Dropout(p=0.1, inplace=False)\n",
              "            )\n",
              "          )\n",
              "          (intermediate): BertIntermediate(\n",
              "            (dense): Linear(in_features=768, out_features=3072, bias=True)\n",
              "          )\n",
              "          (output): BertOutput(\n",
              "            (dense): Linear(in_features=3072, out_features=768, bias=True)\n",
              "            (LayerNorm): LayerNorm((768,), eps=1e-12, elementwise_affine=True)\n",
              "            (dropout): Dropout(p=0.1, inplace=False)\n",
              "          )\n",
              "        )\n",
              "        (5): BertLayer(\n",
              "          (attention): BertAttention(\n",
              "            (self): BertSelfAttention(\n",
              "              (query): Linear(in_features=768, out_features=768, bias=True)\n",
              "              (key): Linear(in_features=768, out_features=768, bias=True)\n",
              "              (value): Linear(in_features=768, out_features=768, bias=True)\n",
              "              (dropout): Dropout(p=0.1, inplace=False)\n",
              "            )\n",
              "            (output): BertSelfOutput(\n",
              "              (dense): Linear(in_features=768, out_features=768, bias=True)\n",
              "              (LayerNorm): LayerNorm((768,), eps=1e-12, elementwise_affine=True)\n",
              "              (dropout): Dropout(p=0.1, inplace=False)\n",
              "            )\n",
              "          )\n",
              "          (intermediate): BertIntermediate(\n",
              "            (dense): Linear(in_features=768, out_features=3072, bias=True)\n",
              "          )\n",
              "          (output): BertOutput(\n",
              "            (dense): Linear(in_features=3072, out_features=768, bias=True)\n",
              "            (LayerNorm): LayerNorm((768,), eps=1e-12, elementwise_affine=True)\n",
              "            (dropout): Dropout(p=0.1, inplace=False)\n",
              "          )\n",
              "        )\n",
              "        (6): BertLayer(\n",
              "          (attention): BertAttention(\n",
              "            (self): BertSelfAttention(\n",
              "              (query): Linear(in_features=768, out_features=768, bias=True)\n",
              "              (key): Linear(in_features=768, out_features=768, bias=True)\n",
              "              (value): Linear(in_features=768, out_features=768, bias=True)\n",
              "              (dropout): Dropout(p=0.1, inplace=False)\n",
              "            )\n",
              "            (output): BertSelfOutput(\n",
              "              (dense): Linear(in_features=768, out_features=768, bias=True)\n",
              "              (LayerNorm): LayerNorm((768,), eps=1e-12, elementwise_affine=True)\n",
              "              (dropout): Dropout(p=0.1, inplace=False)\n",
              "            )\n",
              "          )\n",
              "          (intermediate): BertIntermediate(\n",
              "            (dense): Linear(in_features=768, out_features=3072, bias=True)\n",
              "          )\n",
              "          (output): BertOutput(\n",
              "            (dense): Linear(in_features=3072, out_features=768, bias=True)\n",
              "            (LayerNorm): LayerNorm((768,), eps=1e-12, elementwise_affine=True)\n",
              "            (dropout): Dropout(p=0.1, inplace=False)\n",
              "          )\n",
              "        )\n",
              "        (7): BertLayer(\n",
              "          (attention): BertAttention(\n",
              "            (self): BertSelfAttention(\n",
              "              (query): Linear(in_features=768, out_features=768, bias=True)\n",
              "              (key): Linear(in_features=768, out_features=768, bias=True)\n",
              "              (value): Linear(in_features=768, out_features=768, bias=True)\n",
              "              (dropout): Dropout(p=0.1, inplace=False)\n",
              "            )\n",
              "            (output): BertSelfOutput(\n",
              "              (dense): Linear(in_features=768, out_features=768, bias=True)\n",
              "              (LayerNorm): LayerNorm((768,), eps=1e-12, elementwise_affine=True)\n",
              "              (dropout): Dropout(p=0.1, inplace=False)\n",
              "            )\n",
              "          )\n",
              "          (intermediate): BertIntermediate(\n",
              "            (dense): Linear(in_features=768, out_features=3072, bias=True)\n",
              "          )\n",
              "          (output): BertOutput(\n",
              "            (dense): Linear(in_features=3072, out_features=768, bias=True)\n",
              "            (LayerNorm): LayerNorm((768,), eps=1e-12, elementwise_affine=True)\n",
              "            (dropout): Dropout(p=0.1, inplace=False)\n",
              "          )\n",
              "        )\n",
              "        (8): BertLayer(\n",
              "          (attention): BertAttention(\n",
              "            (self): BertSelfAttention(\n",
              "              (query): Linear(in_features=768, out_features=768, bias=True)\n",
              "              (key): Linear(in_features=768, out_features=768, bias=True)\n",
              "              (value): Linear(in_features=768, out_features=768, bias=True)\n",
              "              (dropout): Dropout(p=0.1, inplace=False)\n",
              "            )\n",
              "            (output): BertSelfOutput(\n",
              "              (dense): Linear(in_features=768, out_features=768, bias=True)\n",
              "              (LayerNorm): LayerNorm((768,), eps=1e-12, elementwise_affine=True)\n",
              "              (dropout): Dropout(p=0.1, inplace=False)\n",
              "            )\n",
              "          )\n",
              "          (intermediate): BertIntermediate(\n",
              "            (dense): Linear(in_features=768, out_features=3072, bias=True)\n",
              "          )\n",
              "          (output): BertOutput(\n",
              "            (dense): Linear(in_features=3072, out_features=768, bias=True)\n",
              "            (LayerNorm): LayerNorm((768,), eps=1e-12, elementwise_affine=True)\n",
              "            (dropout): Dropout(p=0.1, inplace=False)\n",
              "          )\n",
              "        )\n",
              "        (9): BertLayer(\n",
              "          (attention): BertAttention(\n",
              "            (self): BertSelfAttention(\n",
              "              (query): Linear(in_features=768, out_features=768, bias=True)\n",
              "              (key): Linear(in_features=768, out_features=768, bias=True)\n",
              "              (value): Linear(in_features=768, out_features=768, bias=True)\n",
              "              (dropout): Dropout(p=0.1, inplace=False)\n",
              "            )\n",
              "            (output): BertSelfOutput(\n",
              "              (dense): Linear(in_features=768, out_features=768, bias=True)\n",
              "              (LayerNorm): LayerNorm((768,), eps=1e-12, elementwise_affine=True)\n",
              "              (dropout): Dropout(p=0.1, inplace=False)\n",
              "            )\n",
              "          )\n",
              "          (intermediate): BertIntermediate(\n",
              "            (dense): Linear(in_features=768, out_features=3072, bias=True)\n",
              "          )\n",
              "          (output): BertOutput(\n",
              "            (dense): Linear(in_features=3072, out_features=768, bias=True)\n",
              "            (LayerNorm): LayerNorm((768,), eps=1e-12, elementwise_affine=True)\n",
              "            (dropout): Dropout(p=0.1, inplace=False)\n",
              "          )\n",
              "        )\n",
              "        (10): BertLayer(\n",
              "          (attention): BertAttention(\n",
              "            (self): BertSelfAttention(\n",
              "              (query): Linear(in_features=768, out_features=768, bias=True)\n",
              "              (key): Linear(in_features=768, out_features=768, bias=True)\n",
              "              (value): Linear(in_features=768, out_features=768, bias=True)\n",
              "              (dropout): Dropout(p=0.1, inplace=False)\n",
              "            )\n",
              "            (output): BertSelfOutput(\n",
              "              (dense): Linear(in_features=768, out_features=768, bias=True)\n",
              "              (LayerNorm): LayerNorm((768,), eps=1e-12, elementwise_affine=True)\n",
              "              (dropout): Dropout(p=0.1, inplace=False)\n",
              "            )\n",
              "          )\n",
              "          (intermediate): BertIntermediate(\n",
              "            (dense): Linear(in_features=768, out_features=3072, bias=True)\n",
              "          )\n",
              "          (output): BertOutput(\n",
              "            (dense): Linear(in_features=3072, out_features=768, bias=True)\n",
              "            (LayerNorm): LayerNorm((768,), eps=1e-12, elementwise_affine=True)\n",
              "            (dropout): Dropout(p=0.1, inplace=False)\n",
              "          )\n",
              "        )\n",
              "        (11): BertLayer(\n",
              "          (attention): BertAttention(\n",
              "            (self): BertSelfAttention(\n",
              "              (query): Linear(in_features=768, out_features=768, bias=True)\n",
              "              (key): Linear(in_features=768, out_features=768, bias=True)\n",
              "              (value): Linear(in_features=768, out_features=768, bias=True)\n",
              "              (dropout): Dropout(p=0.1, inplace=False)\n",
              "            )\n",
              "            (output): BertSelfOutput(\n",
              "              (dense): Linear(in_features=768, out_features=768, bias=True)\n",
              "              (LayerNorm): LayerNorm((768,), eps=1e-12, elementwise_affine=True)\n",
              "              (dropout): Dropout(p=0.1, inplace=False)\n",
              "            )\n",
              "          )\n",
              "          (intermediate): BertIntermediate(\n",
              "            (dense): Linear(in_features=768, out_features=3072, bias=True)\n",
              "          )\n",
              "          (output): BertOutput(\n",
              "            (dense): Linear(in_features=3072, out_features=768, bias=True)\n",
              "            (LayerNorm): LayerNorm((768,), eps=1e-12, elementwise_affine=True)\n",
              "            (dropout): Dropout(p=0.1, inplace=False)\n",
              "          )\n",
              "        )\n",
              "      )\n",
              "    )\n",
              "    (pooler): BertPooler(\n",
              "      (dense): Linear(in_features=768, out_features=768, bias=True)\n",
              "      (activation): Tanh()\n",
              "    )\n",
              "  )\n",
              "  (dropout): Dropout(p=0.1, inplace=False)\n",
              "  (classifier): Linear(in_features=768, out_features=32, bias=True)\n",
              ")"
            ]
          },
          "metadata": {
            "tags": []
          },
          "execution_count": 21
        }
      ]
    },
    {
      "cell_type": "code",
      "metadata": {
        "colab": {
          "base_uri": "https://localhost:8080/"
        },
        "id": "PGpBuwA55usP",
        "outputId": "8143ef2f-4659-4745-9a3d-14dd7e148cad"
      },
      "source": [
        "# Get all of the model's parameters as a list of tuples.\n",
        "params = list(model.named_parameters())\n",
        "\n",
        "print('The BERT model has {:} different named parameters.\\n'.format(len(params)))\n",
        "\n",
        "print('==== Embedding Layer ====\\n')\n",
        "\n",
        "for p in params[0:5]:\n",
        "    print(\"{:<55} {:>12}\".format(p[0], str(tuple(p[1].size()))))\n",
        "\n",
        "print('\\n==== First Transformer ====\\n')\n",
        "\n",
        "for p in params[5:21]:\n",
        "    print(\"{:<55} {:>12}\".format(p[0], str(tuple(p[1].size()))))\n",
        "\n",
        "print('\\n==== Output Layer ====\\n')\n",
        "\n",
        "for p in params[-4:]:\n",
        "    print(\"{:<55} {:>12}\".format(p[0], str(tuple(p[1].size()))))"
      ],
      "execution_count": 22,
      "outputs": [
        {
          "output_type": "stream",
          "text": [
            "The BERT model has 201 different named parameters.\n",
            "\n",
            "==== Embedding Layer ====\n",
            "\n",
            "bert.embeddings.word_embeddings.weight                  (30522, 768)\n",
            "bert.embeddings.position_embeddings.weight                (512, 768)\n",
            "bert.embeddings.token_type_embeddings.weight                (2, 768)\n",
            "bert.embeddings.LayerNorm.weight                              (768,)\n",
            "bert.embeddings.LayerNorm.bias                                (768,)\n",
            "\n",
            "==== First Transformer ====\n",
            "\n",
            "bert.encoder.layer.0.attention.self.query.weight          (768, 768)\n",
            "bert.encoder.layer.0.attention.self.query.bias                (768,)\n",
            "bert.encoder.layer.0.attention.self.key.weight            (768, 768)\n",
            "bert.encoder.layer.0.attention.self.key.bias                  (768,)\n",
            "bert.encoder.layer.0.attention.self.value.weight          (768, 768)\n",
            "bert.encoder.layer.0.attention.self.value.bias                (768,)\n",
            "bert.encoder.layer.0.attention.output.dense.weight        (768, 768)\n",
            "bert.encoder.layer.0.attention.output.dense.bias              (768,)\n",
            "bert.encoder.layer.0.attention.output.LayerNorm.weight        (768,)\n",
            "bert.encoder.layer.0.attention.output.LayerNorm.bias          (768,)\n",
            "bert.encoder.layer.0.intermediate.dense.weight           (3072, 768)\n",
            "bert.encoder.layer.0.intermediate.dense.bias                 (3072,)\n",
            "bert.encoder.layer.0.output.dense.weight                 (768, 3072)\n",
            "bert.encoder.layer.0.output.dense.bias                        (768,)\n",
            "bert.encoder.layer.0.output.LayerNorm.weight                  (768,)\n",
            "bert.encoder.layer.0.output.LayerNorm.bias                    (768,)\n",
            "\n",
            "==== Output Layer ====\n",
            "\n",
            "bert.pooler.dense.weight                                  (768, 768)\n",
            "bert.pooler.dense.bias                                        (768,)\n",
            "classifier.weight                                          (32, 768)\n",
            "classifier.bias                                                (32,)\n"
          ],
          "name": "stdout"
        }
      ]
    },
    {
      "cell_type": "markdown",
      "metadata": {
        "id": "JGsQuNZ66jRH"
      },
      "source": [
        "## 4.2. Optimizer & Learning Rate Scheduler"
      ]
    },
    {
      "cell_type": "markdown",
      "metadata": {
        "id": "nk1JzdZg6kYC"
      },
      "source": [
        "Now that we have our model loaded we need to grab the training hyperparameters from within the stored model.\n",
        "\n",
        "For the purposes of fine-tuning, the authors recommend choosing from the following values (from Appendix A.3 of the [BERT paper](https://arxiv.org/pdf/1810.04805.pdf)):\n",
        "\n",
        ">- **Batch size:** 16, 32  \n",
        "- **Learning rate (Adam):** 5e-5, 3e-5, 2e-5  \n",
        "- **Number of epochs:** 2, 3, 4 \n",
        "\n",
        "We chose:\n",
        "* Batch size: 32 (set when creating our DataLoaders)\n",
        "* Learning rate: 2e-5\n",
        "* Epochs: 4 (we'll see that this is probably too many...)...)"
      ]
    },
    {
      "cell_type": "code",
      "metadata": {
        "id": "xtoy2BTV6emA"
      },
      "source": [
        "# Note: AdamW is a class from the huggingface library (as opposed to pytorch) \n",
        "# I believe the 'W' stands for 'Weight Decay fix\"\n",
        "optimizer = AdamW(model.parameters(),\n",
        "                  lr = 2e-5, # args.learning_rate - default is 5e-5, our notebook had 2e-5\n",
        "                  eps = 1e-8 # args.adam_epsilon  - default is 1e-8.\n",
        "                )"
      ],
      "execution_count": 23,
      "outputs": []
    },
    {
      "cell_type": "code",
      "metadata": {
        "id": "Lv9G0l0g65JO"
      },
      "source": [
        "from transformers import get_linear_schedule_with_warmup\n",
        "\n",
        "# Number of training epochs. The BERT authors recommend between 2 and 4. \n",
        "# We chose to run for 4, but we'll see later that this may be over-fitting the\n",
        "# training data.\n",
        "epochs = 4\n",
        "\n",
        "# Total number of training steps is [number of batches] x [number of epochs]. \n",
        "# (Note that this is not the same as the number of training samples).\n",
        "total_steps = len(train_dataloader) * epochs\n",
        "\n",
        "# Create the learning rate scheduler.\n",
        "scheduler = get_linear_schedule_with_warmup(optimizer, \n",
        "                                            num_warmup_steps = 0, # Default value in run_glue.py\n",
        "                                            num_training_steps = total_steps)"
      ],
      "execution_count": 24,
      "outputs": []
    },
    {
      "cell_type": "markdown",
      "metadata": {
        "id": "1HckO3RO7GKZ"
      },
      "source": [
        "## 4.3. Training Loop"
      ]
    },
    {
      "cell_type": "markdown",
      "metadata": {
        "id": "KLqAhu0_7Hs6"
      },
      "source": [
        "Below is our training loop. There's a lot going on, but fundamentally for each pass in our loop we have a trianing phase and a validation phase. \n",
        "\n",
        "> *Thank you to [Stas Bekman](https://ca.linkedin.com/in/stasbekman) for contributing the insights and code for using validation loss to detect over-fitting!*\n",
        "\n",
        "**Training:**\n",
        "- Unpack our data inputs and labels\n",
        "- Load data onto the GPU for acceleration\n",
        "- Clear out the gradients calculated in the previous pass. \n",
        "    - In pytorch the gradients accumulate by default (useful for things like RNNs) unless you explicitly clear them out.\n",
        "- Forward pass (feed input data through the network)\n",
        "- Backward pass (backpropagation)\n",
        "- Tell the network to update parameters with optimizer.step()\n",
        "- Track variables for monitoring progress\n",
        "\n",
        "**Evalution:**\n",
        "- Unpack our data inputs and labels\n",
        "- Load data onto the GPU for acceleration\n",
        "- Forward pass (feed input data through the network)\n",
        "- Compute loss on our validation data and track variables for monitoring progress\n",
        "\n",
        "Pytorch hides all of the detailed calculations from us, but we've commented the code to point out which of the above steps are happening on each line."
      ]
    },
    {
      "cell_type": "markdown",
      "metadata": {
        "id": "_7wbIJY47Wa2"
      },
      "source": [
        "Define a helper function for calculating accuracy."
      ]
    },
    {
      "cell_type": "code",
      "metadata": {
        "id": "4GKMW9uv7A-C"
      },
      "source": [
        "import numpy as np\n",
        "\n",
        "# Function to calculate the accuracy of our predictions vs genreID\n",
        "def flat_accuracy(preds, genreID):\n",
        "    pred_flat = np.argmax(preds, axis=1).flatten()\n",
        "    genreID_flat = genreID.flatten()\n",
        "    return np.sum(pred_flat == genreID_flat) / len(genreID_flat)"
      ],
      "execution_count": 25,
      "outputs": []
    },
    {
      "cell_type": "markdown",
      "metadata": {
        "id": "N8nXdzvg7uJz"
      },
      "source": [
        "Helper function for formatting elapsed times as hh:mm:ss"
      ]
    },
    {
      "cell_type": "code",
      "metadata": {
        "id": "cl1FJOlT7p5E"
      },
      "source": [
        "import time\n",
        "import datetime\n",
        "\n",
        "def format_time(elapsed):\n",
        "    '''\n",
        "    Takes a time in seconds and returns a string hh:mm:ss\n",
        "    '''\n",
        "    # Round to the nearest second.\n",
        "    elapsed_rounded = int(round((elapsed)))\n",
        "    \n",
        "    # Format as hh:mm:ss\n",
        "    return str(datetime.timedelta(seconds=elapsed_rounded))"
      ],
      "execution_count": 26,
      "outputs": []
    },
    {
      "cell_type": "code",
      "metadata": {
        "colab": {
          "base_uri": "https://localhost:8080/"
        },
        "id": "KVIiIERI7y1B",
        "outputId": "ed16977f-3198-4229-8781-6d602c1cd8bb"
      },
      "source": [
        "import random\n",
        "import numpy as np\n",
        "\n",
        "# This training code is based on the `run_glue.py` script here:\n",
        "# https://github.com/huggingface/transformers/blob/5bfcd0485ece086ebcbed2d008813037968a9e58/examples/run_glue.py#L128\n",
        "\n",
        "# Set the seed value all over the place to make this reproducible.\n",
        "seed_val = 42\n",
        "\n",
        "random.seed(seed_val)\n",
        "np.random.seed(seed_val)\n",
        "torch.manual_seed(seed_val)\n",
        "torch.cuda.manual_seed_all(seed_val)\n",
        "\n",
        "# We'll store a number of quantities such as training and validation loss, \n",
        "# validation accuracy, and timings.\n",
        "training_stats = []\n",
        "\n",
        "# Measure the total training time for the whole run.\n",
        "total_t0 = time.time()\n",
        "\n",
        "# For each epoch...\n",
        "for epoch_i in range(0, epochs):\n",
        "    \n",
        "    # ========================================\n",
        "    #               Training\n",
        "    # ========================================\n",
        "    \n",
        "    # Perform one full pass over the training set.\n",
        "\n",
        "    print(\"\")\n",
        "    print('======== Epoch {:} / {:} ========'.format(epoch_i + 1, epochs))\n",
        "    print('Training...')\n",
        "\n",
        "    # Measure how long the training epoch takes.\n",
        "    t0 = time.time()\n",
        "\n",
        "    # Reset the total loss for this epoch.\n",
        "    total_train_loss = 0\n",
        "\n",
        "    # Put the model into training mode. Don't be mislead--the call to \n",
        "    # `train` just changes the *mode*, it doesn't *perform* the training.\n",
        "    # `dropout` and `batchnorm` layers behave differently during training\n",
        "    # vs. test (source: https://stackoverflow.com/questions/51433378/what-does-model-train-do-in-pytorch)\n",
        "    model.train()\n",
        "\n",
        "    # For each batch of training data...\n",
        "    for step, batch in enumerate(train_dataloader):\n",
        "\n",
        "        # Progress update every 40 batches.\n",
        "        if step % 40 == 0 and not step == 0:\n",
        "            # Calculate elapsed time in minutes.\n",
        "            elapsed = format_time(time.time() - t0)\n",
        "            \n",
        "            # Report progress.\n",
        "            print('  Batch {:>5,}  of  {:>5,}.    Elapsed: {:}.'.format(step, len(train_dataloader), elapsed))\n",
        "\n",
        "        # Unpack this training batch from our dataloader. \n",
        "        #\n",
        "        # As we unpack the batch, we'll also copy each tensor to the GPU using the \n",
        "        # `to` method.\n",
        "        #\n",
        "        # `batch` contains three pytorch tensors:\n",
        "        #   [0]: input ids \n",
        "        #   [1]: attention masks\n",
        "        #   [2]: labels \n",
        "        b_input_ids = batch[0].to(device)\n",
        "        b_input_mask = batch[1].to(device)\n",
        "        b_labels = batch[2].to(device)\n",
        "\n",
        "        # Always clear any previously calculated gradients before performing a\n",
        "        # backward pass. PyTorch doesn't do this automatically because \n",
        "        # accumulating the gradients is \"convenient while training RNNs\". \n",
        "        # (source: https://stackoverflow.com/questions/48001598/why-do-we-need-to-call-zero-grad-in-pytorch)\n",
        "        model.zero_grad()        \n",
        "\n",
        "        # Perform a forward pass (evaluate the model on this training batch).\n",
        "        # The documentation for this `model` function is here: \n",
        "        # https://huggingface.co/transformers/v2.2.0/model_doc/bert.html#transformers.BertForSequenceClassification\n",
        "        # It returns different numbers of parameters depending on what arguments\n",
        "        # arge given and what flags are set. For our useage here, it returns\n",
        "        # the loss (because we provided labels) and the \"logits\"--the model\n",
        "        # outputs prior to activation.\n",
        "        loss, logits = model(b_input_ids, \n",
        "                             token_type_ids=None, \n",
        "                             attention_mask=b_input_mask, \n",
        "                             labels=b_labels)\n",
        "\n",
        "        # Accumulate the training loss over all of the batches so that we can\n",
        "        # calculate the average loss at the end. `loss` is a Tensor containing a\n",
        "        # single value; the `.item()` function just returns the Python value \n",
        "        # from the tensor.\n",
        "        total_train_loss += loss.item()\n",
        "\n",
        "        # Perform a backward pass to calculate the gradients.\n",
        "        loss.backward()\n",
        "\n",
        "        # Clip the norm of the gradients to 1.0.\n",
        "        # This is to help prevent the \"exploding gradients\" problem.\n",
        "        torch.nn.utils.clip_grad_norm_(model.parameters(), 1.0)\n",
        "\n",
        "        # Update parameters and take a step using the computed gradient.\n",
        "        # The optimizer dictates the \"update rule\"--how the parameters are\n",
        "        # modified based on their gradients, the learning rate, etc.\n",
        "        optimizer.step()\n",
        "\n",
        "        # Update the learning rate.\n",
        "        scheduler.step()\n",
        "\n",
        "    # Calculate the average loss over all of the batches.\n",
        "    avg_train_loss = total_train_loss / len(train_dataloader)            \n",
        "    \n",
        "    # Measure how long this epoch took.\n",
        "    training_time = format_time(time.time() - t0)\n",
        "\n",
        "    print(\"\")\n",
        "    print(\"  Average training loss: {0:.2f}\".format(avg_train_loss))\n",
        "    print(\"  Training epcoh took: {:}\".format(training_time))\n",
        "        \n",
        "    # ========================================\n",
        "    #               Validation\n",
        "    # ========================================\n",
        "    # After the completion of each training epoch, measure our performance on\n",
        "    # our validation set.\n",
        "\n",
        "    print(\"\")\n",
        "    print(\"Running Validation...\")\n",
        "\n",
        "    t0 = time.time()\n",
        "\n",
        "    # Put the model in evaluation mode--the dropout layers behave differently\n",
        "    # during evaluation.\n",
        "    model.eval()\n",
        "\n",
        "    # Tracking variables \n",
        "    total_eval_accuracy = 0\n",
        "    total_eval_loss = 0\n",
        "    nb_eval_steps = 0\n",
        "\n",
        "    # Evaluate data for one epoch\n",
        "    for batch in validation_dataloader:\n",
        "        \n",
        "        # Unpack this training batch from our dataloader. \n",
        "        #\n",
        "        # As we unpack the batch, we'll also copy each tensor to the GPU using \n",
        "        # the `to` method.\n",
        "        #\n",
        "        # `batch` contains three pytorch tensors:\n",
        "        #   [0]: input ids \n",
        "        #   [1]: attention masks\n",
        "        #   [2]: labels \n",
        "        b_input_ids = batch[0].to(device)\n",
        "        b_input_mask = batch[1].to(device)\n",
        "        b_labels = batch[2].to(device)\n",
        "        \n",
        "        # Tell pytorch not to bother with constructing the compute graph during\n",
        "        # the forward pass, since this is only needed for backprop (training).\n",
        "        with torch.no_grad():        \n",
        "\n",
        "            # Forward pass, calculate logit predictions.\n",
        "            # token_type_ids is the same as the \"segment ids\", which \n",
        "            # differentiates sentence 1 and 2 in 2-sentence tasks.\n",
        "            # The documentation for this `model` function is here: \n",
        "            # https://huggingface.co/transformers/v2.2.0/model_doc/bert.html#transformers.BertForSequenceClassification\n",
        "            # Get the \"logits\" output by the model. The \"logits\" are the output\n",
        "            # values prior to applying an activation function like the softmax.\n",
        "            (loss, logits) = model(b_input_ids, \n",
        "                                   token_type_ids=None, \n",
        "                                   attention_mask=b_input_mask,\n",
        "                                   labels=b_labels)\n",
        "            \n",
        "        # Accumulate the validation loss.\n",
        "        total_eval_loss += loss.item()\n",
        "\n",
        "        # Move logits and labels to CPU\n",
        "        logits = logits.detach().cpu().numpy()\n",
        "        label_ids = b_labels.to('cpu').numpy()\n",
        "\n",
        "        # Calculate the accuracy for this batch of test sentences, and\n",
        "        # accumulate it over all batches.\n",
        "        total_eval_accuracy += flat_accuracy(logits, label_ids)\n",
        "        \n",
        "\n",
        "    # Report the final accuracy for this validation run.\n",
        "    avg_val_accuracy = total_eval_accuracy / len(validation_dataloader)\n",
        "    print(\"  Accuracy: {0:.2f}\".format(avg_val_accuracy))\n",
        "\n",
        "    # Calculate the average loss over all of the batches.\n",
        "    avg_val_loss = total_eval_loss / len(validation_dataloader)\n",
        "    \n",
        "    # Measure how long the validation run took.\n",
        "    validation_time = format_time(time.time() - t0)\n",
        "    \n",
        "    print(\"  Validation Loss: {0:.2f}\".format(avg_val_loss))\n",
        "    print(\"  Validation took: {:}\".format(validation_time))\n",
        "\n",
        "    # Record all statistics from this epoch.\n",
        "    training_stats.append(\n",
        "        {\n",
        "            'epoch': epoch_i + 1,\n",
        "            'Training Loss': avg_train_loss,\n",
        "            'Valid. Loss': avg_val_loss,\n",
        "            'Valid. Accur.': avg_val_accuracy,\n",
        "            'Training Time': training_time,\n",
        "            'Validation Time': validation_time\n",
        "        }\n",
        "    )\n",
        "\n",
        "print(\"\")\n",
        "print(\"Training complete!\")\n",
        "\n",
        "print(\"Total training took {:} (h:mm:ss)\".format(format_time(time.time()-total_t0)))"
      ],
      "execution_count": null,
      "outputs": [
        {
          "output_type": "stream",
          "text": [
            "\n",
            "======== Epoch 1 / 4 ========\n",
            "Training...\n",
            "  Batch    40  of  4,152.    Elapsed: 0:00:28.\n",
            "  Batch    80  of  4,152.    Elapsed: 0:00:56.\n",
            "  Batch   120  of  4,152.    Elapsed: 0:01:25.\n",
            "  Batch   160  of  4,152.    Elapsed: 0:01:54.\n",
            "  Batch   200  of  4,152.    Elapsed: 0:02:24.\n",
            "  Batch   240  of  4,152.    Elapsed: 0:02:53.\n",
            "  Batch   280  of  4,152.    Elapsed: 0:03:23.\n",
            "  Batch   320  of  4,152.    Elapsed: 0:03:53.\n",
            "  Batch   360  of  4,152.    Elapsed: 0:04:23.\n",
            "  Batch   400  of  4,152.    Elapsed: 0:04:54.\n",
            "  Batch   440  of  4,152.    Elapsed: 0:05:24.\n",
            "  Batch   480  of  4,152.    Elapsed: 0:05:54.\n",
            "  Batch   520  of  4,152.    Elapsed: 0:06:25.\n",
            "  Batch   560  of  4,152.    Elapsed: 0:06:55.\n",
            "  Batch   600  of  4,152.    Elapsed: 0:07:26.\n",
            "  Batch   640  of  4,152.    Elapsed: 0:07:56.\n",
            "  Batch   680  of  4,152.    Elapsed: 0:08:27.\n",
            "  Batch   720  of  4,152.    Elapsed: 0:08:58.\n",
            "  Batch   760  of  4,152.    Elapsed: 0:09:28.\n",
            "  Batch   800  of  4,152.    Elapsed: 0:09:59.\n",
            "  Batch   840  of  4,152.    Elapsed: 0:10:29.\n",
            "  Batch   880  of  4,152.    Elapsed: 0:11:00.\n",
            "  Batch   920  of  4,152.    Elapsed: 0:11:30.\n",
            "  Batch   960  of  4,152.    Elapsed: 0:12:01.\n",
            "  Batch 1,000  of  4,152.    Elapsed: 0:12:31.\n",
            "  Batch 1,040  of  4,152.    Elapsed: 0:13:02.\n",
            "  Batch 1,080  of  4,152.    Elapsed: 0:13:32.\n",
            "  Batch 1,120  of  4,152.    Elapsed: 0:14:03.\n",
            "  Batch 1,160  of  4,152.    Elapsed: 0:14:33.\n",
            "  Batch 1,200  of  4,152.    Elapsed: 0:15:04.\n",
            "  Batch 1,240  of  4,152.    Elapsed: 0:15:34.\n",
            "  Batch 1,280  of  4,152.    Elapsed: 0:16:05.\n",
            "  Batch 1,320  of  4,152.    Elapsed: 0:16:35.\n",
            "  Batch 1,360  of  4,152.    Elapsed: 0:17:06.\n",
            "  Batch 1,400  of  4,152.    Elapsed: 0:17:36.\n",
            "  Batch 1,440  of  4,152.    Elapsed: 0:18:07.\n",
            "  Batch 1,480  of  4,152.    Elapsed: 0:18:37.\n",
            "  Batch 1,520  of  4,152.    Elapsed: 0:19:08.\n",
            "  Batch 1,560  of  4,152.    Elapsed: 0:19:38.\n",
            "  Batch 1,600  of  4,152.    Elapsed: 0:20:09.\n",
            "  Batch 1,640  of  4,152.    Elapsed: 0:20:39.\n",
            "  Batch 1,680  of  4,152.    Elapsed: 0:21:10.\n",
            "  Batch 1,720  of  4,152.    Elapsed: 0:21:41.\n",
            "  Batch 1,760  of  4,152.    Elapsed: 0:22:11.\n",
            "  Batch 1,800  of  4,152.    Elapsed: 0:22:42.\n",
            "  Batch 1,840  of  4,152.    Elapsed: 0:23:12.\n",
            "  Batch 1,880  of  4,152.    Elapsed: 0:23:43.\n",
            "  Batch 1,920  of  4,152.    Elapsed: 0:24:13.\n",
            "  Batch 1,960  of  4,152.    Elapsed: 0:24:44.\n",
            "  Batch 2,000  of  4,152.    Elapsed: 0:25:14.\n",
            "  Batch 2,040  of  4,152.    Elapsed: 0:25:45.\n",
            "  Batch 2,080  of  4,152.    Elapsed: 0:26:16.\n",
            "  Batch 2,120  of  4,152.    Elapsed: 0:26:46.\n",
            "  Batch 2,160  of  4,152.    Elapsed: 0:27:17.\n",
            "  Batch 2,200  of  4,152.    Elapsed: 0:27:47.\n",
            "  Batch 2,240  of  4,152.    Elapsed: 0:28:18.\n",
            "  Batch 2,280  of  4,152.    Elapsed: 0:28:48.\n",
            "  Batch 2,320  of  4,152.    Elapsed: 0:29:19.\n",
            "  Batch 2,360  of  4,152.    Elapsed: 0:29:49.\n",
            "  Batch 2,400  of  4,152.    Elapsed: 0:30:20.\n",
            "  Batch 2,440  of  4,152.    Elapsed: 0:30:51.\n",
            "  Batch 2,480  of  4,152.    Elapsed: 0:31:21.\n",
            "  Batch 2,520  of  4,152.    Elapsed: 0:31:52.\n",
            "  Batch 2,560  of  4,152.    Elapsed: 0:32:22.\n",
            "  Batch 2,600  of  4,152.    Elapsed: 0:32:53.\n",
            "  Batch 2,640  of  4,152.    Elapsed: 0:33:23.\n",
            "  Batch 2,680  of  4,152.    Elapsed: 0:33:54.\n",
            "  Batch 2,720  of  4,152.    Elapsed: 0:34:24.\n",
            "  Batch 2,760  of  4,152.    Elapsed: 0:34:55.\n",
            "  Batch 2,800  of  4,152.    Elapsed: 0:35:25.\n",
            "  Batch 2,840  of  4,152.    Elapsed: 0:35:56.\n",
            "  Batch 2,880  of  4,152.    Elapsed: 0:36:27.\n",
            "  Batch 2,920  of  4,152.    Elapsed: 0:36:57.\n",
            "  Batch 2,960  of  4,152.    Elapsed: 0:37:28.\n",
            "  Batch 3,000  of  4,152.    Elapsed: 0:37:58.\n",
            "  Batch 3,040  of  4,152.    Elapsed: 0:38:29.\n",
            "  Batch 3,080  of  4,152.    Elapsed: 0:38:59.\n",
            "  Batch 3,120  of  4,152.    Elapsed: 0:39:30.\n",
            "  Batch 3,160  of  4,152.    Elapsed: 0:40:00.\n",
            "  Batch 3,200  of  4,152.    Elapsed: 0:40:31.\n",
            "  Batch 3,240  of  4,152.    Elapsed: 0:41:01.\n",
            "  Batch 3,280  of  4,152.    Elapsed: 0:41:32.\n",
            "  Batch 3,320  of  4,152.    Elapsed: 0:42:03.\n",
            "  Batch 3,360  of  4,152.    Elapsed: 0:42:33.\n",
            "  Batch 3,400  of  4,152.    Elapsed: 0:43:04.\n",
            "  Batch 3,440  of  4,152.    Elapsed: 0:43:34.\n",
            "  Batch 3,480  of  4,152.    Elapsed: 0:44:05.\n",
            "  Batch 3,520  of  4,152.    Elapsed: 0:44:35.\n",
            "  Batch 3,560  of  4,152.    Elapsed: 0:45:06.\n",
            "  Batch 3,600  of  4,152.    Elapsed: 0:45:36.\n",
            "  Batch 3,640  of  4,152.    Elapsed: 0:46:07.\n",
            "  Batch 3,680  of  4,152.    Elapsed: 0:46:37.\n",
            "  Batch 3,720  of  4,152.    Elapsed: 0:47:08.\n",
            "  Batch 3,760  of  4,152.    Elapsed: 0:47:39.\n",
            "  Batch 3,800  of  4,152.    Elapsed: 0:48:09.\n",
            "  Batch 3,840  of  4,152.    Elapsed: 0:48:40.\n",
            "  Batch 3,880  of  4,152.    Elapsed: 0:49:10.\n",
            "  Batch 3,920  of  4,152.    Elapsed: 0:49:41.\n",
            "  Batch 3,960  of  4,152.    Elapsed: 0:50:11.\n",
            "  Batch 4,000  of  4,152.    Elapsed: 0:50:42.\n",
            "  Batch 4,040  of  4,152.    Elapsed: 0:51:12.\n",
            "  Batch 4,080  of  4,152.    Elapsed: 0:51:43.\n",
            "  Batch 4,120  of  4,152.    Elapsed: 0:52:13.\n",
            "\n",
            "  Average training loss: 1.49\n",
            "  Training epcoh took: 0:52:37\n",
            "\n",
            "Running Validation...\n",
            "  Accuracy: 0.67\n",
            "  Validation Loss: 1.19\n",
            "  Validation took: 0:04:46\n",
            "\n",
            "======== Epoch 2 / 4 ========\n",
            "Training...\n",
            "  Batch    40  of  4,152.    Elapsed: 0:00:31.\n",
            "  Batch    80  of  4,152.    Elapsed: 0:01:01.\n",
            "  Batch   120  of  4,152.    Elapsed: 0:01:32.\n",
            "  Batch   160  of  4,152.    Elapsed: 0:02:02.\n",
            "  Batch   200  of  4,152.    Elapsed: 0:02:33.\n",
            "  Batch   240  of  4,152.    Elapsed: 0:03:03.\n",
            "  Batch   280  of  4,152.    Elapsed: 0:03:34.\n",
            "  Batch   320  of  4,152.    Elapsed: 0:04:04.\n",
            "  Batch   360  of  4,152.    Elapsed: 0:04:35.\n",
            "  Batch   400  of  4,152.    Elapsed: 0:05:05.\n",
            "  Batch   440  of  4,152.    Elapsed: 0:05:36.\n",
            "  Batch   480  of  4,152.    Elapsed: 0:06:06.\n",
            "  Batch   520  of  4,152.    Elapsed: 0:06:37.\n",
            "  Batch   560  of  4,152.    Elapsed: 0:07:08.\n",
            "  Batch   600  of  4,152.    Elapsed: 0:07:38.\n",
            "  Batch   640  of  4,152.    Elapsed: 0:08:09.\n",
            "  Batch   680  of  4,152.    Elapsed: 0:08:39.\n",
            "  Batch   720  of  4,152.    Elapsed: 0:09:10.\n",
            "  Batch   760  of  4,152.    Elapsed: 0:09:40.\n",
            "  Batch   800  of  4,152.    Elapsed: 0:10:11.\n",
            "  Batch   840  of  4,152.    Elapsed: 0:10:41.\n",
            "  Batch   880  of  4,152.    Elapsed: 0:11:12.\n",
            "  Batch   920  of  4,152.    Elapsed: 0:11:42.\n",
            "  Batch   960  of  4,152.    Elapsed: 0:12:13.\n",
            "  Batch 1,000  of  4,152.    Elapsed: 0:12:43.\n",
            "  Batch 1,040  of  4,152.    Elapsed: 0:13:14.\n",
            "  Batch 1,080  of  4,152.    Elapsed: 0:13:45.\n",
            "  Batch 1,120  of  4,152.    Elapsed: 0:14:15.\n",
            "  Batch 1,160  of  4,152.    Elapsed: 0:14:46.\n",
            "  Batch 1,200  of  4,152.    Elapsed: 0:15:16.\n",
            "  Batch 1,240  of  4,152.    Elapsed: 0:15:47.\n",
            "  Batch 1,280  of  4,152.    Elapsed: 0:16:17.\n",
            "  Batch 1,320  of  4,152.    Elapsed: 0:16:48.\n",
            "  Batch 1,360  of  4,152.    Elapsed: 0:17:18.\n",
            "  Batch 1,400  of  4,152.    Elapsed: 0:17:49.\n",
            "  Batch 1,440  of  4,152.    Elapsed: 0:18:19.\n",
            "  Batch 1,480  of  4,152.    Elapsed: 0:18:50.\n",
            "  Batch 1,520  of  4,152.    Elapsed: 0:19:20.\n",
            "  Batch 1,560  of  4,152.    Elapsed: 0:19:51.\n",
            "  Batch 1,600  of  4,152.    Elapsed: 0:20:21.\n",
            "  Batch 1,640  of  4,152.    Elapsed: 0:20:52.\n",
            "  Batch 1,680  of  4,152.    Elapsed: 0:21:22.\n",
            "  Batch 1,720  of  4,152.    Elapsed: 0:21:53.\n",
            "  Batch 1,760  of  4,152.    Elapsed: 0:22:23.\n",
            "  Batch 1,800  of  4,152.    Elapsed: 0:22:54.\n",
            "  Batch 1,840  of  4,152.    Elapsed: 0:23:25.\n",
            "  Batch 1,880  of  4,152.    Elapsed: 0:23:55.\n",
            "  Batch 1,920  of  4,152.    Elapsed: 0:24:26.\n",
            "  Batch 1,960  of  4,152.    Elapsed: 0:24:56.\n",
            "  Batch 2,000  of  4,152.    Elapsed: 0:25:27.\n",
            "  Batch 2,040  of  4,152.    Elapsed: 0:25:57.\n",
            "  Batch 2,080  of  4,152.    Elapsed: 0:26:28.\n",
            "  Batch 2,120  of  4,152.    Elapsed: 0:26:58.\n",
            "  Batch 2,160  of  4,152.    Elapsed: 0:27:29.\n",
            "  Batch 2,200  of  4,152.    Elapsed: 0:27:59.\n",
            "  Batch 2,240  of  4,152.    Elapsed: 0:28:30.\n",
            "  Batch 2,280  of  4,152.    Elapsed: 0:29:00.\n",
            "  Batch 2,320  of  4,152.    Elapsed: 0:29:31.\n",
            "  Batch 2,360  of  4,152.    Elapsed: 0:30:01.\n",
            "  Batch 2,400  of  4,152.    Elapsed: 0:30:32.\n",
            "  Batch 2,440  of  4,152.    Elapsed: 0:31:02.\n",
            "  Batch 2,480  of  4,152.    Elapsed: 0:31:33.\n",
            "  Batch 2,520  of  4,152.    Elapsed: 0:32:03.\n",
            "  Batch 2,560  of  4,152.    Elapsed: 0:32:34.\n",
            "  Batch 2,600  of  4,152.    Elapsed: 0:33:05.\n",
            "  Batch 2,640  of  4,152.    Elapsed: 0:33:35.\n",
            "  Batch 2,680  of  4,152.    Elapsed: 0:34:06.\n",
            "  Batch 2,720  of  4,152.    Elapsed: 0:34:36.\n",
            "  Batch 2,760  of  4,152.    Elapsed: 0:35:07.\n",
            "  Batch 2,800  of  4,152.    Elapsed: 0:35:37.\n",
            "  Batch 2,840  of  4,152.    Elapsed: 0:36:08.\n",
            "  Batch 2,880  of  4,152.    Elapsed: 0:36:38.\n",
            "  Batch 2,920  of  4,152.    Elapsed: 0:37:09.\n",
            "  Batch 2,960  of  4,152.    Elapsed: 0:37:39.\n",
            "  Batch 3,000  of  4,152.    Elapsed: 0:38:10.\n",
            "  Batch 3,040  of  4,152.    Elapsed: 0:38:40.\n",
            "  Batch 3,080  of  4,152.    Elapsed: 0:39:11.\n",
            "  Batch 3,120  of  4,152.    Elapsed: 0:39:41.\n",
            "  Batch 3,160  of  4,152.    Elapsed: 0:40:12.\n",
            "  Batch 3,200  of  4,152.    Elapsed: 0:40:42.\n",
            "  Batch 3,240  of  4,152.    Elapsed: 0:41:13.\n",
            "  Batch 3,280  of  4,152.    Elapsed: 0:41:43.\n",
            "  Batch 3,320  of  4,152.    Elapsed: 0:42:14.\n",
            "  Batch 3,360  of  4,152.    Elapsed: 0:42:44.\n",
            "  Batch 3,400  of  4,152.    Elapsed: 0:43:15.\n",
            "  Batch 3,440  of  4,152.    Elapsed: 0:43:46.\n",
            "  Batch 3,480  of  4,152.    Elapsed: 0:44:16.\n",
            "  Batch 3,520  of  4,152.    Elapsed: 0:44:47.\n",
            "  Batch 3,560  of  4,152.    Elapsed: 0:45:17.\n",
            "  Batch 3,600  of  4,152.    Elapsed: 0:45:48.\n",
            "  Batch 3,640  of  4,152.    Elapsed: 0:46:18.\n",
            "  Batch 3,680  of  4,152.    Elapsed: 0:46:48.\n",
            "  Batch 3,720  of  4,152.    Elapsed: 0:47:19.\n",
            "  Batch 3,760  of  4,152.    Elapsed: 0:47:50.\n",
            "  Batch 3,800  of  4,152.    Elapsed: 0:48:20.\n",
            "  Batch 3,840  of  4,152.    Elapsed: 0:48:51.\n",
            "  Batch 3,880  of  4,152.    Elapsed: 0:49:21.\n",
            "  Batch 3,920  of  4,152.    Elapsed: 0:49:52.\n",
            "  Batch 3,960  of  4,152.    Elapsed: 0:50:22.\n",
            "  Batch 4,000  of  4,152.    Elapsed: 0:50:53.\n",
            "  Batch 4,040  of  4,152.    Elapsed: 0:51:23.\n",
            "  Batch 4,080  of  4,152.    Elapsed: 0:51:54.\n",
            "  Batch 4,120  of  4,152.    Elapsed: 0:52:24.\n",
            "\n",
            "  Average training loss: 1.03\n",
            "  Training epcoh took: 0:52:48\n",
            "\n",
            "Running Validation...\n",
            "  Accuracy: 0.68\n",
            "  Validation Loss: 1.13\n",
            "  Validation took: 0:04:46\n",
            "\n",
            "======== Epoch 3 / 4 ========\n",
            "Training...\n",
            "  Batch    40  of  4,152.    Elapsed: 0:00:31.\n",
            "  Batch    80  of  4,152.    Elapsed: 0:01:01.\n",
            "  Batch   120  of  4,152.    Elapsed: 0:01:32.\n",
            "  Batch   160  of  4,152.    Elapsed: 0:02:02.\n",
            "  Batch   200  of  4,152.    Elapsed: 0:02:33.\n",
            "  Batch   240  of  4,152.    Elapsed: 0:03:03.\n",
            "  Batch   280  of  4,152.    Elapsed: 0:03:34.\n",
            "  Batch   320  of  4,152.    Elapsed: 0:04:04.\n",
            "  Batch   360  of  4,152.    Elapsed: 0:04:35.\n",
            "  Batch   400  of  4,152.    Elapsed: 0:05:05.\n",
            "  Batch   440  of  4,152.    Elapsed: 0:05:36.\n",
            "  Batch   480  of  4,152.    Elapsed: 0:06:06.\n",
            "  Batch   520  of  4,152.    Elapsed: 0:06:37.\n",
            "  Batch   560  of  4,152.    Elapsed: 0:07:07.\n",
            "  Batch   600  of  4,152.    Elapsed: 0:07:38.\n",
            "  Batch   640  of  4,152.    Elapsed: 0:08:08.\n",
            "  Batch   680  of  4,152.    Elapsed: 0:08:39.\n",
            "  Batch   720  of  4,152.    Elapsed: 0:09:09.\n",
            "  Batch   760  of  4,152.    Elapsed: 0:09:40.\n",
            "  Batch   800  of  4,152.    Elapsed: 0:10:10.\n",
            "  Batch   840  of  4,152.    Elapsed: 0:10:41.\n",
            "  Batch   880  of  4,152.    Elapsed: 0:11:11.\n",
            "  Batch   920  of  4,152.    Elapsed: 0:11:42.\n",
            "  Batch   960  of  4,152.    Elapsed: 0:12:12.\n",
            "  Batch 1,000  of  4,152.    Elapsed: 0:12:43.\n",
            "  Batch 1,040  of  4,152.    Elapsed: 0:13:13.\n",
            "  Batch 1,080  of  4,152.    Elapsed: 0:13:44.\n",
            "  Batch 1,120  of  4,152.    Elapsed: 0:14:14.\n",
            "  Batch 1,160  of  4,152.    Elapsed: 0:14:45.\n",
            "  Batch 1,200  of  4,152.    Elapsed: 0:15:15.\n",
            "  Batch 1,240  of  4,152.    Elapsed: 0:15:46.\n",
            "  Batch 1,280  of  4,152.    Elapsed: 0:16:16.\n",
            "  Batch 1,320  of  4,152.    Elapsed: 0:16:47.\n",
            "  Batch 1,360  of  4,152.    Elapsed: 0:17:17.\n",
            "  Batch 1,400  of  4,152.    Elapsed: 0:17:48.\n",
            "  Batch 1,440  of  4,152.    Elapsed: 0:18:18.\n",
            "  Batch 1,480  of  4,152.    Elapsed: 0:18:49.\n",
            "  Batch 1,520  of  4,152.    Elapsed: 0:19:19.\n",
            "  Batch 1,560  of  4,152.    Elapsed: 0:19:50.\n",
            "  Batch 1,600  of  4,152.    Elapsed: 0:20:20.\n",
            "  Batch 1,640  of  4,152.    Elapsed: 0:20:51.\n",
            "  Batch 1,680  of  4,152.    Elapsed: 0:21:21.\n",
            "  Batch 1,720  of  4,152.    Elapsed: 0:21:52.\n",
            "  Batch 1,760  of  4,152.    Elapsed: 0:22:22.\n",
            "  Batch 1,800  of  4,152.    Elapsed: 0:22:53.\n",
            "  Batch 1,840  of  4,152.    Elapsed: 0:23:23.\n",
            "  Batch 1,880  of  4,152.    Elapsed: 0:23:54.\n",
            "  Batch 1,920  of  4,152.    Elapsed: 0:24:24.\n",
            "  Batch 1,960  of  4,152.    Elapsed: 0:24:55.\n",
            "  Batch 2,000  of  4,152.    Elapsed: 0:25:25.\n",
            "  Batch 2,040  of  4,152.    Elapsed: 0:25:56.\n",
            "  Batch 2,080  of  4,152.    Elapsed: 0:26:27.\n",
            "  Batch 2,120  of  4,152.    Elapsed: 0:26:57.\n",
            "  Batch 2,160  of  4,152.    Elapsed: 0:27:28.\n",
            "  Batch 2,200  of  4,152.    Elapsed: 0:27:58.\n",
            "  Batch 2,240  of  4,152.    Elapsed: 0:28:29.\n",
            "  Batch 2,280  of  4,152.    Elapsed: 0:28:59.\n",
            "  Batch 2,320  of  4,152.    Elapsed: 0:29:30.\n",
            "  Batch 2,360  of  4,152.    Elapsed: 0:30:00.\n",
            "  Batch 2,400  of  4,152.    Elapsed: 0:30:31.\n",
            "  Batch 2,440  of  4,152.    Elapsed: 0:31:01.\n",
            "  Batch 2,480  of  4,152.    Elapsed: 0:31:32.\n",
            "  Batch 2,520  of  4,152.    Elapsed: 0:32:02.\n",
            "  Batch 2,560  of  4,152.    Elapsed: 0:32:33.\n",
            "  Batch 2,600  of  4,152.    Elapsed: 0:33:03.\n",
            "  Batch 2,640  of  4,152.    Elapsed: 0:33:34.\n",
            "  Batch 2,680  of  4,152.    Elapsed: 0:34:04.\n",
            "  Batch 2,720  of  4,152.    Elapsed: 0:34:35.\n",
            "  Batch 2,760  of  4,152.    Elapsed: 0:35:06.\n",
            "  Batch 2,800  of  4,152.    Elapsed: 0:35:36.\n",
            "  Batch 2,840  of  4,152.    Elapsed: 0:36:06.\n",
            "  Batch 2,880  of  4,152.    Elapsed: 0:36:37.\n",
            "  Batch 2,920  of  4,152.    Elapsed: 0:37:07.\n",
            "  Batch 2,960  of  4,152.    Elapsed: 0:37:38.\n",
            "  Batch 3,000  of  4,152.    Elapsed: 0:38:08.\n",
            "  Batch 3,040  of  4,152.    Elapsed: 0:38:39.\n",
            "  Batch 3,080  of  4,152.    Elapsed: 0:39:09.\n",
            "  Batch 3,120  of  4,152.    Elapsed: 0:39:40.\n",
            "  Batch 3,160  of  4,152.    Elapsed: 0:40:10.\n",
            "  Batch 3,200  of  4,152.    Elapsed: 0:40:41.\n",
            "  Batch 3,240  of  4,152.    Elapsed: 0:41:11.\n",
            "  Batch 3,280  of  4,152.    Elapsed: 0:41:42.\n",
            "  Batch 3,320  of  4,152.    Elapsed: 0:42:12.\n",
            "  Batch 3,360  of  4,152.    Elapsed: 0:42:43.\n",
            "  Batch 3,400  of  4,152.    Elapsed: 0:43:13.\n",
            "  Batch 3,440  of  4,152.    Elapsed: 0:43:44.\n",
            "  Batch 3,480  of  4,152.    Elapsed: 0:44:14.\n",
            "  Batch 3,520  of  4,152.    Elapsed: 0:44:45.\n",
            "  Batch 3,560  of  4,152.    Elapsed: 0:45:15.\n",
            "  Batch 3,600  of  4,152.    Elapsed: 0:45:46.\n",
            "  Batch 3,640  of  4,152.    Elapsed: 0:46:16.\n",
            "  Batch 3,680  of  4,152.    Elapsed: 0:46:47.\n",
            "  Batch 3,720  of  4,152.    Elapsed: 0:47:17.\n",
            "  Batch 3,760  of  4,152.    Elapsed: 0:47:48.\n",
            "  Batch 3,800  of  4,152.    Elapsed: 0:48:18.\n",
            "  Batch 3,840  of  4,152.    Elapsed: 0:48:49.\n",
            "  Batch 3,880  of  4,152.    Elapsed: 0:49:19.\n",
            "  Batch 3,920  of  4,152.    Elapsed: 0:49:50.\n",
            "  Batch 3,960  of  4,152.    Elapsed: 0:50:20.\n",
            "  Batch 4,000  of  4,152.    Elapsed: 0:50:51.\n",
            "  Batch 4,040  of  4,152.    Elapsed: 0:51:22.\n",
            "  Batch 4,080  of  4,152.    Elapsed: 0:51:52.\n",
            "  Batch 4,120  of  4,152.    Elapsed: 0:52:23.\n",
            "\n",
            "  Average training loss: 0.81\n",
            "  Training epcoh took: 0:52:47\n",
            "\n",
            "Running Validation...\n",
            "  Accuracy: 0.69\n",
            "  Validation Loss: 1.14\n",
            "  Validation took: 0:04:45\n",
            "\n",
            "======== Epoch 4 / 4 ========\n",
            "Training...\n",
            "  Batch    40  of  4,152.    Elapsed: 0:00:31.\n",
            "  Batch    80  of  4,152.    Elapsed: 0:01:01.\n",
            "  Batch   120  of  4,152.    Elapsed: 0:01:32.\n",
            "  Batch   160  of  4,152.    Elapsed: 0:02:02.\n",
            "  Batch   200  of  4,152.    Elapsed: 0:02:33.\n",
            "  Batch   240  of  4,152.    Elapsed: 0:03:03.\n",
            "  Batch   280  of  4,152.    Elapsed: 0:03:34.\n",
            "  Batch   320  of  4,152.    Elapsed: 0:04:04.\n",
            "  Batch   360  of  4,152.    Elapsed: 0:04:35.\n",
            "  Batch   400  of  4,152.    Elapsed: 0:05:05.\n",
            "  Batch   440  of  4,152.    Elapsed: 0:05:36.\n",
            "  Batch   480  of  4,152.    Elapsed: 0:06:06.\n",
            "  Batch   520  of  4,152.    Elapsed: 0:06:37.\n",
            "  Batch   560  of  4,152.    Elapsed: 0:07:07.\n",
            "  Batch   600  of  4,152.    Elapsed: 0:07:38.\n",
            "  Batch   640  of  4,152.    Elapsed: 0:08:08.\n",
            "  Batch   680  of  4,152.    Elapsed: 0:08:39.\n",
            "  Batch   720  of  4,152.    Elapsed: 0:09:09.\n",
            "  Batch   760  of  4,152.    Elapsed: 0:09:40.\n",
            "  Batch   800  of  4,152.    Elapsed: 0:10:10.\n",
            "  Batch   840  of  4,152.    Elapsed: 0:10:41.\n",
            "  Batch   880  of  4,152.    Elapsed: 0:11:11.\n",
            "  Batch   920  of  4,152.    Elapsed: 0:11:42.\n",
            "  Batch   960  of  4,152.    Elapsed: 0:12:12.\n",
            "  Batch 1,000  of  4,152.    Elapsed: 0:12:43.\n",
            "  Batch 1,040  of  4,152.    Elapsed: 0:13:13.\n",
            "  Batch 1,080  of  4,152.    Elapsed: 0:13:44.\n",
            "  Batch 1,120  of  4,152.    Elapsed: 0:14:15.\n",
            "  Batch 1,160  of  4,152.    Elapsed: 0:14:45.\n",
            "  Batch 1,200  of  4,152.    Elapsed: 0:15:16.\n",
            "  Batch 1,240  of  4,152.    Elapsed: 0:15:46.\n",
            "  Batch 1,280  of  4,152.    Elapsed: 0:16:17.\n",
            "  Batch 1,320  of  4,152.    Elapsed: 0:16:47.\n",
            "  Batch 1,360  of  4,152.    Elapsed: 0:17:18.\n",
            "  Batch 1,400  of  4,152.    Elapsed: 0:17:48.\n",
            "  Batch 1,440  of  4,152.    Elapsed: 0:18:19.\n",
            "  Batch 1,480  of  4,152.    Elapsed: 0:18:49.\n",
            "  Batch 1,520  of  4,152.    Elapsed: 0:19:20.\n",
            "  Batch 1,560  of  4,152.    Elapsed: 0:19:50.\n",
            "  Batch 1,600  of  4,152.    Elapsed: 0:20:21.\n",
            "  Batch 1,640  of  4,152.    Elapsed: 0:20:51.\n",
            "  Batch 1,680  of  4,152.    Elapsed: 0:21:22.\n",
            "  Batch 1,720  of  4,152.    Elapsed: 0:21:52.\n",
            "  Batch 1,760  of  4,152.    Elapsed: 0:22:23.\n",
            "  Batch 1,800  of  4,152.    Elapsed: 0:22:53.\n",
            "  Batch 1,840  of  4,152.    Elapsed: 0:23:24.\n",
            "  Batch 1,880  of  4,152.    Elapsed: 0:23:54.\n",
            "  Batch 1,920  of  4,152.    Elapsed: 0:24:25.\n",
            "  Batch 1,960  of  4,152.    Elapsed: 0:24:55.\n",
            "  Batch 2,000  of  4,152.    Elapsed: 0:25:26.\n",
            "  Batch 2,040  of  4,152.    Elapsed: 0:25:56.\n",
            "  Batch 2,080  of  4,152.    Elapsed: 0:26:27.\n",
            "  Batch 2,120  of  4,152.    Elapsed: 0:26:57.\n",
            "  Batch 2,160  of  4,152.    Elapsed: 0:27:28.\n",
            "  Batch 2,200  of  4,152.    Elapsed: 0:27:58.\n",
            "  Batch 2,240  of  4,152.    Elapsed: 0:28:29.\n",
            "  Batch 2,280  of  4,152.    Elapsed: 0:28:59.\n",
            "  Batch 2,320  of  4,152.    Elapsed: 0:29:30.\n",
            "  Batch 2,360  of  4,152.    Elapsed: 0:30:01.\n",
            "  Batch 2,400  of  4,152.    Elapsed: 0:30:31.\n",
            "  Batch 2,440  of  4,152.    Elapsed: 0:31:02.\n",
            "  Batch 2,480  of  4,152.    Elapsed: 0:31:32.\n",
            "  Batch 2,520  of  4,152.    Elapsed: 0:32:03.\n",
            "  Batch 2,560  of  4,152.    Elapsed: 0:32:33.\n",
            "  Batch 2,600  of  4,152.    Elapsed: 0:33:04.\n",
            "  Batch 2,640  of  4,152.    Elapsed: 0:33:34.\n",
            "  Batch 2,680  of  4,152.    Elapsed: 0:34:04.\n",
            "  Batch 2,720  of  4,152.    Elapsed: 0:34:35.\n",
            "  Batch 2,760  of  4,152.    Elapsed: 0:35:05.\n",
            "  Batch 2,800  of  4,152.    Elapsed: 0:35:36.\n",
            "  Batch 2,840  of  4,152.    Elapsed: 0:36:06.\n",
            "  Batch 2,880  of  4,152.    Elapsed: 0:36:37.\n",
            "  Batch 2,920  of  4,152.    Elapsed: 0:37:07.\n",
            "  Batch 2,960  of  4,152.    Elapsed: 0:37:38.\n",
            "  Batch 3,000  of  4,152.    Elapsed: 0:38:08.\n",
            "  Batch 3,040  of  4,152.    Elapsed: 0:38:39.\n",
            "  Batch 3,080  of  4,152.    Elapsed: 0:39:10.\n",
            "  Batch 3,120  of  4,152.    Elapsed: 0:39:40.\n",
            "  Batch 3,160  of  4,152.    Elapsed: 0:40:11.\n",
            "  Batch 3,200  of  4,152.    Elapsed: 0:40:41.\n",
            "  Batch 3,240  of  4,152.    Elapsed: 0:41:12.\n",
            "  Batch 3,280  of  4,152.    Elapsed: 0:41:42.\n",
            "  Batch 3,320  of  4,152.    Elapsed: 0:42:13.\n",
            "  Batch 3,360  of  4,152.    Elapsed: 0:42:43.\n",
            "  Batch 3,400  of  4,152.    Elapsed: 0:43:14.\n",
            "  Batch 3,440  of  4,152.    Elapsed: 0:43:44.\n",
            "  Batch 3,480  of  4,152.    Elapsed: 0:44:15.\n",
            "  Batch 3,520  of  4,152.    Elapsed: 0:44:45.\n",
            "  Batch 3,560  of  4,152.    Elapsed: 0:45:16.\n",
            "  Batch 3,600  of  4,152.    Elapsed: 0:45:46.\n",
            "  Batch 3,640  of  4,152.    Elapsed: 0:46:17.\n",
            "  Batch 3,680  of  4,152.    Elapsed: 0:46:47.\n",
            "  Batch 3,720  of  4,152.    Elapsed: 0:47:18.\n",
            "  Batch 3,760  of  4,152.    Elapsed: 0:47:48.\n",
            "  Batch 3,800  of  4,152.    Elapsed: 0:48:19.\n",
            "  Batch 3,840  of  4,152.    Elapsed: 0:48:49.\n",
            "  Batch 3,880  of  4,152.    Elapsed: 0:49:20.\n",
            "  Batch 3,920  of  4,152.    Elapsed: 0:49:50.\n",
            "  Batch 3,960  of  4,152.    Elapsed: 0:50:21.\n",
            "  Batch 4,000  of  4,152.    Elapsed: 0:50:51.\n",
            "  Batch 4,040  of  4,152.    Elapsed: 0:51:22.\n",
            "  Batch 4,080  of  4,152.    Elapsed: 0:51:52.\n",
            "  Batch 4,120  of  4,152.    Elapsed: 0:52:23.\n",
            "\n",
            "  Average training loss: 0.68\n",
            "  Training epcoh took: 0:52:47\n",
            "\n",
            "Running Validation...\n",
            "  Accuracy: 0.69\n",
            "  Validation Loss: 1.16\n",
            "  Validation took: 0:04:44\n",
            "\n",
            "Training complete!\n",
            "Total training took 3:50:00 (h:mm:ss)\n"
          ],
          "name": "stdout"
        }
      ]
    },
    {
      "cell_type": "markdown",
      "metadata": {
        "id": "DG-Yz6fKDmeM"
      },
      "source": [
        "Let's view the summary of the training process."
      ]
    },
    {
      "cell_type": "code",
      "metadata": {
        "id": "cmjgaoOY8w2y",
        "colab": {
          "base_uri": "https://localhost:8080/",
          "height": 204
        },
        "outputId": "ee0247bd-0900-4016-93dd-abfeebbbb8a8"
      },
      "source": [
        "import pandas as pd\n",
        "\n",
        "# Display floats with two decimal places.\n",
        "pd.set_option('precision', 2)\n",
        "\n",
        "# Create a DataFrame from our training statistics.\n",
        "df_stats = pd.DataFrame(data=training_stats)\n",
        "\n",
        "# Use the 'epoch' as the row index.\n",
        "df_stats = df_stats.set_index('epoch')\n",
        "\n",
        "# A hack to force the column headers to wrap.\n",
        "df = df.style.set_table_styles([dict(selector=\"th\",props=[('max-width', '70px')])])\n",
        "\n",
        "# Display the table.\n",
        "df_stats"
      ],
      "execution_count": null,
      "outputs": [
        {
          "output_type": "execute_result",
          "data": {
            "text/html": [
              "<div>\n",
              "<style scoped>\n",
              "    .dataframe tbody tr th:only-of-type {\n",
              "        vertical-align: middle;\n",
              "    }\n",
              "\n",
              "    .dataframe tbody tr th {\n",
              "        vertical-align: top;\n",
              "    }\n",
              "\n",
              "    .dataframe thead th {\n",
              "        text-align: right;\n",
              "    }\n",
              "</style>\n",
              "<table border=\"1\" class=\"dataframe\">\n",
              "  <thead>\n",
              "    <tr style=\"text-align: right;\">\n",
              "      <th></th>\n",
              "      <th>Training Loss</th>\n",
              "      <th>Valid. Loss</th>\n",
              "      <th>Valid. Accur.</th>\n",
              "      <th>Training Time</th>\n",
              "      <th>Validation Time</th>\n",
              "    </tr>\n",
              "    <tr>\n",
              "      <th>epoch</th>\n",
              "      <th></th>\n",
              "      <th></th>\n",
              "      <th></th>\n",
              "      <th></th>\n",
              "      <th></th>\n",
              "    </tr>\n",
              "  </thead>\n",
              "  <tbody>\n",
              "    <tr>\n",
              "      <th>1</th>\n",
              "      <td>1.49</td>\n",
              "      <td>1.19</td>\n",
              "      <td>0.67</td>\n",
              "      <td>0:52:37</td>\n",
              "      <td>0:04:46</td>\n",
              "    </tr>\n",
              "    <tr>\n",
              "      <th>2</th>\n",
              "      <td>1.03</td>\n",
              "      <td>1.13</td>\n",
              "      <td>0.68</td>\n",
              "      <td>0:52:48</td>\n",
              "      <td>0:04:46</td>\n",
              "    </tr>\n",
              "    <tr>\n",
              "      <th>3</th>\n",
              "      <td>0.81</td>\n",
              "      <td>1.14</td>\n",
              "      <td>0.69</td>\n",
              "      <td>0:52:47</td>\n",
              "      <td>0:04:45</td>\n",
              "    </tr>\n",
              "    <tr>\n",
              "      <th>4</th>\n",
              "      <td>0.68</td>\n",
              "      <td>1.16</td>\n",
              "      <td>0.69</td>\n",
              "      <td>0:52:47</td>\n",
              "      <td>0:04:44</td>\n",
              "    </tr>\n",
              "  </tbody>\n",
              "</table>\n",
              "</div>"
            ],
            "text/plain": [
              "       Training Loss  Valid. Loss  Valid. Accur. Training Time Validation Time\n",
              "epoch                                                                         \n",
              "1               1.49         1.19           0.67       0:52:37         0:04:46\n",
              "2               1.03         1.13           0.68       0:52:48         0:04:46\n",
              "3               0.81         1.14           0.69       0:52:47         0:04:45\n",
              "4               0.68         1.16           0.69       0:52:47         0:04:44"
            ]
          },
          "metadata": {
            "tags": []
          },
          "execution_count": 101
        }
      ]
    },
    {
      "cell_type": "code",
      "metadata": {
        "colab": {
          "base_uri": "https://localhost:8080/",
          "height": 427
        },
        "id": "ghMpe3CCDq13",
        "outputId": "25ddff68-1193-4c0a-c814-f6373642fcb1"
      },
      "source": [
        "import matplotlib.pyplot as plt\n",
        "% matplotlib inline\n",
        "\n",
        "import seaborn as sns\n",
        "\n",
        "# Use plot styling from seaborn.\n",
        "sns.set(style='darkgrid')\n",
        "\n",
        "# Increase the plot size and font size.\n",
        "sns.set(font_scale=1.5)\n",
        "plt.rcParams[\"figure.figsize\"] = (12,6)\n",
        "\n",
        "# Plot the learning curve.\n",
        "plt.plot(df_stats['Training Loss'], 'b-o', label=\"Training\")\n",
        "plt.plot(df_stats['Valid. Loss'], 'g-o', label=\"Validation\")\n",
        "\n",
        "# Label the plot.\n",
        "plt.title(\"Training & Validation Loss\")\n",
        "plt.xlabel(\"Epoch\")\n",
        "plt.ylabel(\"Loss\")\n",
        "plt.legend()\n",
        "plt.xticks([1, 2,3,4])\n",
        "\n",
        "plt.show()"
      ],
      "execution_count": null,
      "outputs": [
        {
          "output_type": "display_data",
          "data": {
            "image/png": "[encoded data removed]",
            "text/plain": [
              "<Figure size 864x432 with 1 Axes>"
            ]
          },
          "metadata": {
            "tags": []
          }
        }
      ]
    },
    {
      "cell_type": "markdown",
      "metadata": {
        "id": "1XpyYH-CEXO6"
      },
      "source": [
        "# 5. Performance On Test Set"
      ]
    },
    {
      "cell_type": "markdown",
      "metadata": {
        "id": "-guNz9TLEY62"
      },
      "source": [
        "Now we'll load the holdout dataset and prepare inputs just as we did with the training set. Then we'll evaluate predictions using Matthew's correlation coefficient because this is the metric used by the wider NLP community to evaluate performance on CoLA. With this metric, +1 is the best score, and -1 is the worst score. This way, we can see how well we perform against the state of the art models for this specific task."
      ]
    },
    {
      "cell_type": "markdown",
      "metadata": {
        "id": "4S4gzPtUElAX"
      },
      "source": [
        "### 5.1. Data Preparation"
      ]
    },
    {
      "cell_type": "markdown",
      "metadata": {
        "id": "3PeNKT46Emgm"
      },
      "source": [
        "We'll need to apply all of the same steps that we did for the training data to prepare our test data set."
      ]
    },
    {
      "cell_type": "code",
      "metadata": {
        "id": "V1pWQdbkWwi1"
      },
      "source": [
        "import pandas as pd\n",
        "df = pd.read_csv('test.csv',encoding='latin1')"
      ],
      "execution_count": 27,
      "outputs": []
    },
    {
      "cell_type": "code",
      "metadata": {
        "colab": {
          "base_uri": "https://localhost:8080/"
        },
        "id": "inpkoWHIWwgg",
        "outputId": "d0507386-14e2-47d5-aa9d-e09edfaaf1ca"
      },
      "source": [
        "len(df['Title'].values)"
      ],
      "execution_count": 29,
      "outputs": [
        {
          "output_type": "execute_result",
          "data": {
            "text/plain": [
              "41354"
            ]
          },
          "metadata": {
            "tags": []
          },
          "execution_count": 29
        }
      ]
    },
    {
      "cell_type": "code",
      "metadata": {
        "colab": {
          "base_uri": "https://localhost:8080/"
        },
        "id": "pKi1ZYLxWwT7",
        "outputId": "a1211e7a-571a-456a-95fa-d512d318da84"
      },
      "source": [
        "len(df['GenreID'].values)"
      ],
      "execution_count": 30,
      "outputs": [
        {
          "output_type": "execute_result",
          "data": {
            "text/plain": [
              "41354"
            ]
          },
          "metadata": {
            "tags": []
          },
          "execution_count": 30
        }
      ]
    },
    {
      "cell_type": "code",
      "metadata": {
        "colab": {
          "base_uri": "https://localhost:8080/"
        },
        "id": "WsxAklXBpI1l",
        "outputId": "9a481e6f-6e6a-4946-bc52-0ac9590b86b3"
      },
      "source": [
        "import pandas as pd\n",
        "df = pd.read_csv('test.csv',encoding='latin1')\n",
        "\n",
        "\n",
        "\n",
        "# Report the number of titles.\n",
        "print('Number of test titles: {:,}\\n'.format(df.shape[0]))\n",
        "\n",
        "\n",
        "# Create titles and genreID lists\n",
        "titles = df['Title'].values \n",
        "genreID = df['GenreID'].values\n",
        "\n",
        "# Tokenize all of the titles and map the tokens to thier word IDs.\n",
        "input_ids = []\n",
        "attention_masks = []\n",
        "\n",
        "# For every titles...\n",
        "for title in titles:\n",
        "    # `encode_plus` will:\n",
        "    #   (1) Tokenize the title.\n",
        "    #   (2) Prepend the `[CLS]` token to the start.\n",
        "    #   (3) Append the `[SEP]` token to the end.\n",
        "    #   (4) Map tokens to their IDs.\n",
        "    #   (5) Pad or truncate the title to `max_length`\n",
        "    #   (6) Create attention masks for [PAD] tokens.\n",
        "    encoded_dict = tokenizer.encode_plus(\n",
        "                        title,                      # Sentence to encode.\n",
        "                        add_special_tokens = True, # Add '[CLS]' and '[SEP]'\n",
        "                        max_length = 140,           # Pad & truncate all titles.\n",
        "                        pad_to_max_length = True,\n",
        "                        return_attention_mask = True,   # Construct attn. masks.\n",
        "                        return_tensors = 'pt',     # Return pytorch tensors.\n",
        "                   )\n",
        "\n",
        "    # Add the encoded title to the list.    \n",
        "    input_ids.append(encoded_dict['input_ids'])\n",
        "    \n",
        "    # And its attention mask (simply differentiates padding from non-padding).\n",
        "    attention_masks.append(encoded_dict['attention_mask'])\n",
        "\n",
        "# Convert the lists into tensors.\n",
        "input_ids = torch.cat(input_ids, dim=0)\n",
        "attention_masks = torch.cat(attention_masks, dim=0)\n",
        "genreID = torch.tensor(genreID)\n",
        "\n",
        "# Set the batch size.  \n",
        "batch_size = 32  \n",
        "\n",
        "# Create the DataLoader.\n",
        "prediction_data = TensorDataset(input_ids, attention_masks, genreID)\n",
        "prediction_sampler = SequentialSampler(prediction_data)\n",
        "prediction_dataloader = DataLoader(prediction_data, sampler=prediction_sampler, batch_size=batch_size)"
      ],
      "execution_count": 31,
      "outputs": [
        {
          "output_type": "stream",
          "text": [
            "Number of test titles: 41,354\n",
            "\n"
          ],
          "name": "stdout"
        },
        {
          "output_type": "stream",
          "text": [
            "/usr/local/lib/python3.6/dist-packages/transformers/tokenization_utils_base.py:2022: FutureWarning: The `pad_to_max_length` argument is deprecated and will be removed in a future version, use `padding=True` or `padding='longest'` to pad to the longest sequence in the batch, or use `padding='max_length'` to pad to a max length. In this case, you can give a specific length with `max_length` (e.g. `max_length=45`) or leave max_length to None to pad to the maximal input size of the model (e.g. 512 for Bert).\n",
            "  FutureWarning,\n"
          ],
          "name": "stderr"
        }
      ]
    },
    {
      "cell_type": "markdown",
      "metadata": {
        "id": "Qalq6NBntco4"
      },
      "source": [
        "## 5.2. Evaluate on Test Set\n"
      ]
    },
    {
      "cell_type": "markdown",
      "metadata": {
        "id": "WYSLHKUvteKK"
      },
      "source": [
        "With the test set prepared, we can apply our fine-tuned model to generate predictions on the test set."
      ]
    },
    {
      "cell_type": "code",
      "metadata": {
        "colab": {
          "base_uri": "https://localhost:8080/"
        },
        "id": "ugCmK0iNsXdD",
        "outputId": "a7531a7b-aeb9-44bd-8193-b313e1191b51"
      },
      "source": [
        "# Prediction on test set\n",
        "\n",
        "print('Predicting labels for {:,} test sentences...'.format(len(input_ids)))\n",
        "\n",
        "# Put model in evaluation mode\n",
        "model.eval()\n",
        "\n",
        "# Tracking variables \n",
        "predictions , true_labels = [], []\n",
        "\n",
        "# Predict \n",
        "for batch in prediction_dataloader:\n",
        "  # Add batch to GPU\n",
        "  batch = tuple(t.to(device) for t in batch)\n",
        "  \n",
        "  # Unpack the inputs from our dataloader\n",
        "  b_input_ids, b_input_mask, b_labels = batch\n",
        "  \n",
        "  # Telling the model not to compute or store gradients, saving memory and \n",
        "  # speeding up prediction\n",
        "  with torch.no_grad():\n",
        "      # Forward pass, calculate logit predictions\n",
        "      outputs = model(b_input_ids, token_type_ids=None, \n",
        "                      attention_mask=b_input_mask)\n",
        "\n",
        "  logits = outputs[0]\n",
        "\n",
        "  # Move logits and labels to CPU\n",
        "  logits = logits.detach().cpu().numpy()\n",
        "  label_ids = b_labels.to('cpu').numpy()\n",
        "  \n",
        "  # Store predictions and true labels\n",
        "  predictions.append(logits)\n",
        "  true_labels.append(label_ids)\n",
        "\n",
        "print('    DONE.')"
      ],
      "execution_count": 44,
      "outputs": [
        {
          "output_type": "stream",
          "text": [
            "Predicting labels for 41,354 test sentences...\n",
            "    DONE.\n"
          ],
          "name": "stdout"
        }
      ]
    },
    {
      "cell_type": "code",
      "metadata": {
        "id": "hFfHGdrFeU2B"
      },
      "source": [
        "# Combine the results across all batches. \n",
        "flat_predictions = np.concatenate(predictions, axis=0)\n",
        "\n",
        "# For each sample, pick the genre (1-32) with the higher score.\n",
        "flat_predictions = np.argmax(flat_predictions, axis=1).flatten()\n",
        "\n",
        "# Combine the correct labels (genres) for each batch into a single list.\n",
        "flat_true_labels = np.concatenate(true_labels, axis=0)"
      ],
      "execution_count": 69,
      "outputs": []
    },
    {
      "cell_type": "code",
      "metadata": {
        "colab": {
          "base_uri": "https://localhost:8080/"
        },
        "id": "-WjzjuLjdtWY",
        "outputId": "4230cdfb-d6ae-4e4c-98fd-5b00cfd52748"
      },
      "source": [
        "# compute precision, recall, fscore\n",
        "\n",
        "from sklearn.metrics import precision_recall_fscore_support as score\n",
        "\n",
        "predicted = flat_predictions\n",
        "y_test = flat_true_labels\n",
        "\n",
        "# precision, recall, fscore, support separated by genre\n",
        "precision, recall, fscore, support = score(y_test, predicted)\n",
        "\n",
        "df_acc = pd.DataFrame()\n",
        "df_acc['precision %']=pd.Series(precision*100)\n",
        "df_acc['recall %']=pd.Series(recall*100)\n",
        "df_acc['fscore']=pd.Series(fscore)\n",
        "df_acc['support']=pd.Series(support)"
      ],
      "execution_count": 122,
      "outputs": [
        {
          "output_type": "stream",
          "text": [
            "/usr/local/lib/python3.6/dist-packages/sklearn/metrics/_classification.py:1272: UndefinedMetricWarning: Precision and F-score are ill-defined and being set to 0.0 in labels with no predicted samples. Use `zero_division` parameter to control this behavior.\n",
            "  _warn_prf(average, modifier, msg_start, len(result))\n"
          ],
          "name": "stderr"
        }
      ]
    },
    {
      "cell_type": "code",
      "metadata": {
        "colab": {
          "base_uri": "https://localhost:8080/"
        },
        "id": "EBqi9C3Ob3gt",
        "outputId": "ee3ce94b-574a-40ca-d4ca-6942399a1df4"
      },
      "source": [
        "# average accuracies across genres: \n",
        "# weighted = same as macro but with auto weights\n",
        "# could also use micro (calculate metrics globally) or macro (calculate metrics for each label)\n",
        "\n",
        "precision, recall, fscore, support = score(y_test, predicted, average='weighted')\n",
        "\n",
        "print('precision: {}'.format(precision))\n",
        "print('recall: {}'.format(recall))\n",
        "print('fscore: {}'.format(fscore))"
      ],
      "execution_count": 123,
      "outputs": [
        {
          "output_type": "stream",
          "text": [
            "precision: 0.02608600803298033\n",
            "recall: 0.03864196933791169\n",
            "fscore: 0.006645486921242722\n"
          ],
          "name": "stdout"
        },
        {
          "output_type": "stream",
          "text": [
            "/usr/local/lib/python3.6/dist-packages/sklearn/metrics/_classification.py:1272: UndefinedMetricWarning: Precision and F-score are ill-defined and being set to 0.0 in labels with no predicted samples. Use `zero_division` parameter to control this behavior.\n",
            "  _warn_prf(average, modifier, msg_start, len(result))\n"
          ],
          "name": "stderr"
        }
      ]
    },
    {
      "cell_type": "code",
      "metadata": {
        "colab": {
          "base_uri": "https://localhost:8080/"
        },
        "id": "O-J15dMvn6Vp",
        "outputId": "67f84530-8eab-4abd-f3e7-04074cc0794d"
      },
      "source": [
        "# compute precision, recall, fscore, support\n",
        "\n",
        "from sklearn.metrics import precision_recall_fscore_support as score\n",
        "\n",
        "predicted = flat_predictions\n",
        "y_test = flat_true_labels\n",
        "\n",
        "precision, recall, fscore, support = score(y_test, predicted, average='weighted')\n",
        "\n",
        "print('precision: {}'.format(precision))\n",
        "print('recall: {}'.format(recall))\n",
        "print('fscore: {}'.format(fscore))\n",
        "print('support: {}'.format(support))"
      ],
      "execution_count": 124,
      "outputs": [
        {
          "output_type": "stream",
          "text": [
            "precision: 0.02608600803298033\n",
            "recall: 0.03864196933791169\n",
            "fscore: 0.006645486921242722\n",
            "support: None\n"
          ],
          "name": "stdout"
        },
        {
          "output_type": "stream",
          "text": [
            "/usr/local/lib/python3.6/dist-packages/sklearn/metrics/_classification.py:1272: UndefinedMetricWarning: Precision and F-score are ill-defined and being set to 0.0 in labels with no predicted samples. Use `zero_division` parameter to control this behavior.\n",
            "  _warn_prf(average, modifier, msg_start, len(result))\n"
          ],
          "name": "stderr"
        }
      ]
    },
    {
      "cell_type": "code",
      "metadata": {
        "id": "3388t8bUpiPm"
      },
      "source": [
        ""
      ],
      "execution_count": null,
      "outputs": []
    }
  ]
}