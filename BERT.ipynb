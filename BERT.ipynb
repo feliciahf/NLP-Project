{
  "nbformat": 4,
  "nbformat_minor": 0,
  "metadata": {
    "colab": {
      "name": "Copy of Test to try and fix the data setof BERT fine tuning 2.ipynb",
      "provenance": [],
      "collapsed_sections": [
        "Qalq6NBntco4"
      ],
      "include_colab_link": true
    },
    "kernelspec": {
      "name": "python3",
      "display_name": "Python 3"
    },
    "widgets": {
      "application/vnd.jupyter.widget-state+json": {
        "583e6de7d1e14312998d91b1afb0b520": {
          "model_module": "@jupyter-widgets/controls",
          "model_name": "HBoxModel",
          "state": {
            "_view_name": "HBoxView",
            "_dom_classes": [],
            "_model_name": "HBoxModel",
            "_view_module": "@jupyter-widgets/controls",
            "_model_module_version": "1.5.0",
            "_view_count": null,
            "_view_module_version": "1.5.0",
            "box_style": "",
            "layout": "IPY_MODEL_336a5df2dda74ceba26b4c13a328acaf",
            "_model_module": "@jupyter-widgets/controls",
            "children": [
              "IPY_MODEL_4c5fd9973791449883d6a76c18e804fa",
              "IPY_MODEL_9b360a5daa2242d7890eeb7192265289"
            ]
          }
        },
        "336a5df2dda74ceba26b4c13a328acaf": {
          "model_module": "@jupyter-widgets/base",
          "model_name": "LayoutModel",
          "state": {
            "_view_name": "LayoutView",
            "grid_template_rows": null,
            "right": null,
            "justify_content": null,
            "_view_module": "@jupyter-widgets/base",
            "overflow": null,
            "_model_module_version": "1.2.0",
            "_view_count": null,
            "flex_flow": null,
            "width": null,
            "min_width": null,
            "border": null,
            "align_items": null,
            "bottom": null,
            "_model_module": "@jupyter-widgets/base",
            "top": null,
            "grid_column": null,
            "overflow_y": null,
            "overflow_x": null,
            "grid_auto_flow": null,
            "grid_area": null,
            "grid_template_columns": null,
            "flex": null,
            "_model_name": "LayoutModel",
            "justify_items": null,
            "grid_row": null,
            "max_height": null,
            "align_content": null,
            "visibility": null,
            "align_self": null,
            "height": null,
            "min_height": null,
            "padding": null,
            "grid_auto_rows": null,
            "grid_gap": null,
            "max_width": null,
            "order": null,
            "_view_module_version": "1.2.0",
            "grid_template_areas": null,
            "object_position": null,
            "object_fit": null,
            "grid_auto_columns": null,
            "margin": null,
            "display": null,
            "left": null
          }
        },
        "4c5fd9973791449883d6a76c18e804fa": {
          "model_module": "@jupyter-widgets/controls",
          "model_name": "FloatProgressModel",
          "state": {
            "_view_name": "ProgressView",
            "style": "IPY_MODEL_82b4bd67bb5f487083e2c3b8366e879e",
            "_dom_classes": [],
            "description": "Downloading: 100%",
            "_model_name": "FloatProgressModel",
            "bar_style": "success",
            "max": 231508,
            "_view_module": "@jupyter-widgets/controls",
            "_model_module_version": "1.5.0",
            "value": 231508,
            "_view_count": null,
            "_view_module_version": "1.5.0",
            "orientation": "horizontal",
            "min": 0,
            "description_tooltip": null,
            "_model_module": "@jupyter-widgets/controls",
            "layout": "IPY_MODEL_2a7445fadaae4cd68d26fca18351665b"
          }
        },
        "9b360a5daa2242d7890eeb7192265289": {
          "model_module": "@jupyter-widgets/controls",
          "model_name": "HTMLModel",
          "state": {
            "_view_name": "HTMLView",
            "style": "IPY_MODEL_e127765b07e94ace9b72382765db1369",
            "_dom_classes": [],
            "description": "",
            "_model_name": "HTMLModel",
            "placeholder": "​",
            "_view_module": "@jupyter-widgets/controls",
            "_model_module_version": "1.5.0",
            "value": " 232k/232k [00:00&lt;00:00, 2.29MB/s]",
            "_view_count": null,
            "_view_module_version": "1.5.0",
            "description_tooltip": null,
            "_model_module": "@jupyter-widgets/controls",
            "layout": "IPY_MODEL_a7cfc336280b4d8fabf6abd26186fb3f"
          }
        },
        "82b4bd67bb5f487083e2c3b8366e879e": {
          "model_module": "@jupyter-widgets/controls",
          "model_name": "ProgressStyleModel",
          "state": {
            "_view_name": "StyleView",
            "_model_name": "ProgressStyleModel",
            "description_width": "initial",
            "_view_module": "@jupyter-widgets/base",
            "_model_module_version": "1.5.0",
            "_view_count": null,
            "_view_module_version": "1.2.0",
            "bar_color": null,
            "_model_module": "@jupyter-widgets/controls"
          }
        },
        "2a7445fadaae4cd68d26fca18351665b": {
          "model_module": "@jupyter-widgets/base",
          "model_name": "LayoutModel",
          "state": {
            "_view_name": "LayoutView",
            "grid_template_rows": null,
            "right": null,
            "justify_content": null,
            "_view_module": "@jupyter-widgets/base",
            "overflow": null,
            "_model_module_version": "1.2.0",
            "_view_count": null,
            "flex_flow": null,
            "width": null,
            "min_width": null,
            "border": null,
            "align_items": null,
            "bottom": null,
            "_model_module": "@jupyter-widgets/base",
            "top": null,
            "grid_column": null,
            "overflow_y": null,
            "overflow_x": null,
            "grid_auto_flow": null,
            "grid_area": null,
            "grid_template_columns": null,
            "flex": null,
            "_model_name": "LayoutModel",
            "justify_items": null,
            "grid_row": null,
            "max_height": null,
            "align_content": null,
            "visibility": null,
            "align_self": null,
            "height": null,
            "min_height": null,
            "padding": null,
            "grid_auto_rows": null,
            "grid_gap": null,
            "max_width": null,
            "order": null,
            "_view_module_version": "1.2.0",
            "grid_template_areas": null,
            "object_position": null,
            "object_fit": null,
            "grid_auto_columns": null,
            "margin": null,
            "display": null,
            "left": null
          }
        },
        "e127765b07e94ace9b72382765db1369": {
          "model_module": "@jupyter-widgets/controls",
          "model_name": "DescriptionStyleModel",
          "state": {
            "_view_name": "StyleView",
            "_model_name": "DescriptionStyleModel",
            "description_width": "",
            "_view_module": "@jupyter-widgets/base",
            "_model_module_version": "1.5.0",
            "_view_count": null,
            "_view_module_version": "1.2.0",
            "_model_module": "@jupyter-widgets/controls"
          }
        },
        "a7cfc336280b4d8fabf6abd26186fb3f": {
          "model_module": "@jupyter-widgets/base",
          "model_name": "LayoutModel",
          "state": {
            "_view_name": "LayoutView",
            "grid_template_rows": null,
            "right": null,
            "justify_content": null,
            "_view_module": "@jupyter-widgets/base",
            "overflow": null,
            "_model_module_version": "1.2.0",
            "_view_count": null,
            "flex_flow": null,
            "width": null,
            "min_width": null,
            "border": null,
            "align_items": null,
            "bottom": null,
            "_model_module": "@jupyter-widgets/base",
            "top": null,
            "grid_column": null,
            "overflow_y": null,
            "overflow_x": null,
            "grid_auto_flow": null,
            "grid_area": null,
            "grid_template_columns": null,
            "flex": null,
            "_model_name": "LayoutModel",
            "justify_items": null,
            "grid_row": null,
            "max_height": null,
            "align_content": null,
            "visibility": null,
            "align_self": null,
            "height": null,
            "min_height": null,
            "padding": null,
            "grid_auto_rows": null,
            "grid_gap": null,
            "max_width": null,
            "order": null,
            "_view_module_version": "1.2.0",
            "grid_template_areas": null,
            "object_position": null,
            "object_fit": null,
            "grid_auto_columns": null,
            "margin": null,
            "display": null,
            "left": null
          }
        },
        "3cb7b6a2a7f740d19ae05c887b3ae32c": {
          "model_module": "@jupyter-widgets/controls",
          "model_name": "HBoxModel",
          "state": {
            "_view_name": "HBoxView",
            "_dom_classes": [],
            "_model_name": "HBoxModel",
            "_view_module": "@jupyter-widgets/controls",
            "_model_module_version": "1.5.0",
            "_view_count": null,
            "_view_module_version": "1.5.0",
            "box_style": "",
            "layout": "IPY_MODEL_9c933fa482124c9ebf849c3e416ee662",
            "_model_module": "@jupyter-widgets/controls",
            "children": [
              "IPY_MODEL_21199b6068c440f2a2d268451e53364d",
              "IPY_MODEL_a76b6aa25be641d4a6d34e74c936154e"
            ]
          }
        },
        "9c933fa482124c9ebf849c3e416ee662": {
          "model_module": "@jupyter-widgets/base",
          "model_name": "LayoutModel",
          "state": {
            "_view_name": "LayoutView",
            "grid_template_rows": null,
            "right": null,
            "justify_content": null,
            "_view_module": "@jupyter-widgets/base",
            "overflow": null,
            "_model_module_version": "1.2.0",
            "_view_count": null,
            "flex_flow": null,
            "width": null,
            "min_width": null,
            "border": null,
            "align_items": null,
            "bottom": null,
            "_model_module": "@jupyter-widgets/base",
            "top": null,
            "grid_column": null,
            "overflow_y": null,
            "overflow_x": null,
            "grid_auto_flow": null,
            "grid_area": null,
            "grid_template_columns": null,
            "flex": null,
            "_model_name": "LayoutModel",
            "justify_items": null,
            "grid_row": null,
            "max_height": null,
            "align_content": null,
            "visibility": null,
            "align_self": null,
            "height": null,
            "min_height": null,
            "padding": null,
            "grid_auto_rows": null,
            "grid_gap": null,
            "max_width": null,
            "order": null,
            "_view_module_version": "1.2.0",
            "grid_template_areas": null,
            "object_position": null,
            "object_fit": null,
            "grid_auto_columns": null,
            "margin": null,
            "display": null,
            "left": null
          }
        },
        "21199b6068c440f2a2d268451e53364d": {
          "model_module": "@jupyter-widgets/controls",
          "model_name": "FloatProgressModel",
          "state": {
            "_view_name": "ProgressView",
            "style": "IPY_MODEL_b49de9b4e32e4f729235d34709f2a242",
            "_dom_classes": [],
            "description": "Downloading: 100%",
            "_model_name": "FloatProgressModel",
            "bar_style": "success",
            "max": 433,
            "_view_module": "@jupyter-widgets/controls",
            "_model_module_version": "1.5.0",
            "value": 433,
            "_view_count": null,
            "_view_module_version": "1.5.0",
            "orientation": "horizontal",
            "min": 0,
            "description_tooltip": null,
            "_model_module": "@jupyter-widgets/controls",
            "layout": "IPY_MODEL_177048d08f70477e8f06f5a75f9bef09"
          }
        },
        "a76b6aa25be641d4a6d34e74c936154e": {
          "model_module": "@jupyter-widgets/controls",
          "model_name": "HTMLModel",
          "state": {
            "_view_name": "HTMLView",
            "style": "IPY_MODEL_089b3f0de614430fa3afd47c0a4c9f1d",
            "_dom_classes": [],
            "description": "",
            "_model_name": "HTMLModel",
            "placeholder": "​",
            "_view_module": "@jupyter-widgets/controls",
            "_model_module_version": "1.5.0",
            "value": " 433/433 [00:06&lt;00:00, 64.2B/s]",
            "_view_count": null,
            "_view_module_version": "1.5.0",
            "description_tooltip": null,
            "_model_module": "@jupyter-widgets/controls",
            "layout": "IPY_MODEL_5052daa6606b4095a7dd0db0c95b893a"
          }
        },
        "b49de9b4e32e4f729235d34709f2a242": {
          "model_module": "@jupyter-widgets/controls",
          "model_name": "ProgressStyleModel",
          "state": {
            "_view_name": "StyleView",
            "_model_name": "ProgressStyleModel",
            "description_width": "initial",
            "_view_module": "@jupyter-widgets/base",
            "_model_module_version": "1.5.0",
            "_view_count": null,
            "_view_module_version": "1.2.0",
            "bar_color": null,
            "_model_module": "@jupyter-widgets/controls"
          }
        },
        "177048d08f70477e8f06f5a75f9bef09": {
          "model_module": "@jupyter-widgets/base",
          "model_name": "LayoutModel",
          "state": {
            "_view_name": "LayoutView",
            "grid_template_rows": null,
            "right": null,
            "justify_content": null,
            "_view_module": "@jupyter-widgets/base",
            "overflow": null,
            "_model_module_version": "1.2.0",
            "_view_count": null,
            "flex_flow": null,
            "width": null,
            "min_width": null,
            "border": null,
            "align_items": null,
            "bottom": null,
            "_model_module": "@jupyter-widgets/base",
            "top": null,
            "grid_column": null,
            "overflow_y": null,
            "overflow_x": null,
            "grid_auto_flow": null,
            "grid_area": null,
            "grid_template_columns": null,
            "flex": null,
            "_model_name": "LayoutModel",
            "justify_items": null,
            "grid_row": null,
            "max_height": null,
            "align_content": null,
            "visibility": null,
            "align_self": null,
            "height": null,
            "min_height": null,
            "padding": null,
            "grid_auto_rows": null,
            "grid_gap": null,
            "max_width": null,
            "order": null,
            "_view_module_version": "1.2.0",
            "grid_template_areas": null,
            "object_position": null,
            "object_fit": null,
            "grid_auto_columns": null,
            "margin": null,
            "display": null,
            "left": null
          }
        },
        "089b3f0de614430fa3afd47c0a4c9f1d": {
          "model_module": "@jupyter-widgets/controls",
          "model_name": "DescriptionStyleModel",
          "state": {
            "_view_name": "StyleView",
            "_model_name": "DescriptionStyleModel",
            "description_width": "",
            "_view_module": "@jupyter-widgets/base",
            "_model_module_version": "1.5.0",
            "_view_count": null,
            "_view_module_version": "1.2.0",
            "_model_module": "@jupyter-widgets/controls"
          }
        },
        "5052daa6606b4095a7dd0db0c95b893a": {
          "model_module": "@jupyter-widgets/base",
          "model_name": "LayoutModel",
          "state": {
            "_view_name": "LayoutView",
            "grid_template_rows": null,
            "right": null,
            "justify_content": null,
            "_view_module": "@jupyter-widgets/base",
            "overflow": null,
            "_model_module_version": "1.2.0",
            "_view_count": null,
            "flex_flow": null,
            "width": null,
            "min_width": null,
            "border": null,
            "align_items": null,
            "bottom": null,
            "_model_module": "@jupyter-widgets/base",
            "top": null,
            "grid_column": null,
            "overflow_y": null,
            "overflow_x": null,
            "grid_auto_flow": null,
            "grid_area": null,
            "grid_template_columns": null,
            "flex": null,
            "_model_name": "LayoutModel",
            "justify_items": null,
            "grid_row": null,
            "max_height": null,
            "align_content": null,
            "visibility": null,
            "align_self": null,
            "height": null,
            "min_height": null,
            "padding": null,
            "grid_auto_rows": null,
            "grid_gap": null,
            "max_width": null,
            "order": null,
            "_view_module_version": "1.2.0",
            "grid_template_areas": null,
            "object_position": null,
            "object_fit": null,
            "grid_auto_columns": null,
            "margin": null,
            "display": null,
            "left": null
          }
        },
        "bf226d83dccc42d486d28cbd74af8344": {
          "model_module": "@jupyter-widgets/controls",
          "model_name": "HBoxModel",
          "state": {
            "_view_name": "HBoxView",
            "_dom_classes": [],
            "_model_name": "HBoxModel",
            "_view_module": "@jupyter-widgets/controls",
            "_model_module_version": "1.5.0",
            "_view_count": null,
            "_view_module_version": "1.5.0",
            "box_style": "",
            "layout": "IPY_MODEL_76caeb0ee47b42039eaca3563814edef",
            "_model_module": "@jupyter-widgets/controls",
            "children": [
              "IPY_MODEL_5b2cbea2987444c99d1a187a43831450",
              "IPY_MODEL_987a6f5135584a6b9e1602f877309e92"
            ]
          }
        },
        "76caeb0ee47b42039eaca3563814edef": {
          "model_module": "@jupyter-widgets/base",
          "model_name": "LayoutModel",
          "state": {
            "_view_name": "LayoutView",
            "grid_template_rows": null,
            "right": null,
            "justify_content": null,
            "_view_module": "@jupyter-widgets/base",
            "overflow": null,
            "_model_module_version": "1.2.0",
            "_view_count": null,
            "flex_flow": null,
            "width": null,
            "min_width": null,
            "border": null,
            "align_items": null,
            "bottom": null,
            "_model_module": "@jupyter-widgets/base",
            "top": null,
            "grid_column": null,
            "overflow_y": null,
            "overflow_x": null,
            "grid_auto_flow": null,
            "grid_area": null,
            "grid_template_columns": null,
            "flex": null,
            "_model_name": "LayoutModel",
            "justify_items": null,
            "grid_row": null,
            "max_height": null,
            "align_content": null,
            "visibility": null,
            "align_self": null,
            "height": null,
            "min_height": null,
            "padding": null,
            "grid_auto_rows": null,
            "grid_gap": null,
            "max_width": null,
            "order": null,
            "_view_module_version": "1.2.0",
            "grid_template_areas": null,
            "object_position": null,
            "object_fit": null,
            "grid_auto_columns": null,
            "margin": null,
            "display": null,
            "left": null
          }
        },
        "5b2cbea2987444c99d1a187a43831450": {
          "model_module": "@jupyter-widgets/controls",
          "model_name": "FloatProgressModel",
          "state": {
            "_view_name": "ProgressView",
            "style": "IPY_MODEL_4f056fc9ecec4de4b565dbb897b84311",
            "_dom_classes": [],
            "description": "Downloading: 100%",
            "_model_name": "FloatProgressModel",
            "bar_style": "success",
            "max": 440473133,
            "_view_module": "@jupyter-widgets/controls",
            "_model_module_version": "1.5.0",
            "value": 440473133,
            "_view_count": null,
            "_view_module_version": "1.5.0",
            "orientation": "horizontal",
            "min": 0,
            "description_tooltip": null,
            "_model_module": "@jupyter-widgets/controls",
            "layout": "IPY_MODEL_ee501920455044c3bfba83dc23a8d436"
          }
        },
        "987a6f5135584a6b9e1602f877309e92": {
          "model_module": "@jupyter-widgets/controls",
          "model_name": "HTMLModel",
          "state": {
            "_view_name": "HTMLView",
            "style": "IPY_MODEL_83cd870d4d1e41cead6bc7f35b095112",
            "_dom_classes": [],
            "description": "",
            "_model_name": "HTMLModel",
            "placeholder": "​",
            "_view_module": "@jupyter-widgets/controls",
            "_model_module_version": "1.5.0",
            "value": " 440M/440M [00:06&lt;00:00, 67.8MB/s]",
            "_view_count": null,
            "_view_module_version": "1.5.0",
            "description_tooltip": null,
            "_model_module": "@jupyter-widgets/controls",
            "layout": "IPY_MODEL_d381f6058026455bafff83c2f83fae2f"
          }
        },
        "4f056fc9ecec4de4b565dbb897b84311": {
          "model_module": "@jupyter-widgets/controls",
          "model_name": "ProgressStyleModel",
          "state": {
            "_view_name": "StyleView",
            "_model_name": "ProgressStyleModel",
            "description_width": "initial",
            "_view_module": "@jupyter-widgets/base",
            "_model_module_version": "1.5.0",
            "_view_count": null,
            "_view_module_version": "1.2.0",
            "bar_color": null,
            "_model_module": "@jupyter-widgets/controls"
          }
        },
        "ee501920455044c3bfba83dc23a8d436": {
          "model_module": "@jupyter-widgets/base",
          "model_name": "LayoutModel",
          "state": {
            "_view_name": "LayoutView",
            "grid_template_rows": null,
            "right": null,
            "justify_content": null,
            "_view_module": "@jupyter-widgets/base",
            "overflow": null,
            "_model_module_version": "1.2.0",
            "_view_count": null,
            "flex_flow": null,
            "width": null,
            "min_width": null,
            "border": null,
            "align_items": null,
            "bottom": null,
            "_model_module": "@jupyter-widgets/base",
            "top": null,
            "grid_column": null,
            "overflow_y": null,
            "overflow_x": null,
            "grid_auto_flow": null,
            "grid_area": null,
            "grid_template_columns": null,
            "flex": null,
            "_model_name": "LayoutModel",
            "justify_items": null,
            "grid_row": null,
            "max_height": null,
            "align_content": null,
            "visibility": null,
            "align_self": null,
            "height": null,
            "min_height": null,
            "padding": null,
            "grid_auto_rows": null,
            "grid_gap": null,
            "max_width": null,
            "order": null,
            "_view_module_version": "1.2.0",
            "grid_template_areas": null,
            "object_position": null,
            "object_fit": null,
            "grid_auto_columns": null,
            "margin": null,
            "display": null,
            "left": null
          }
        },
        "83cd870d4d1e41cead6bc7f35b095112": {
          "model_module": "@jupyter-widgets/controls",
          "model_name": "DescriptionStyleModel",
          "state": {
            "_view_name": "StyleView",
            "_model_name": "DescriptionStyleModel",
            "description_width": "",
            "_view_module": "@jupyter-widgets/base",
            "_model_module_version": "1.5.0",
            "_view_count": null,
            "_view_module_version": "1.2.0",
            "_model_module": "@jupyter-widgets/controls"
          }
        },
        "d381f6058026455bafff83c2f83fae2f": {
          "model_module": "@jupyter-widgets/base",
          "model_name": "LayoutModel",
          "state": {
            "_view_name": "LayoutView",
            "grid_template_rows": null,
            "right": null,
            "justify_content": null,
            "_view_module": "@jupyter-widgets/base",
            "overflow": null,
            "_model_module_version": "1.2.0",
            "_view_count": null,
            "flex_flow": null,
            "width": null,
            "min_width": null,
            "border": null,
            "align_items": null,
            "bottom": null,
            "_model_module": "@jupyter-widgets/base",
            "top": null,
            "grid_column": null,
            "overflow_y": null,
            "overflow_x": null,
            "grid_auto_flow": null,
            "grid_area": null,
            "grid_template_columns": null,
            "flex": null,
            "_model_name": "LayoutModel",
            "justify_items": null,
            "grid_row": null,
            "max_height": null,
            "align_content": null,
            "visibility": null,
            "align_self": null,
            "height": null,
            "min_height": null,
            "padding": null,
            "grid_auto_rows": null,
            "grid_gap": null,
            "max_width": null,
            "order": null,
            "_view_module_version": "1.2.0",
            "grid_template_areas": null,
            "object_position": null,
            "object_fit": null,
            "grid_auto_columns": null,
            "margin": null,
            "display": null,
            "left": null
          }
        }
      }
    },
    "accelerator": "GPU"
  },
  "cells": [
    {
      "cell_type": "markdown",
      "metadata": {
        "id": "view-in-github",
        "colab_type": "text"
      },
      "source": [
        "<a href=\"https://colab.research.google.com/github/feliciahf/NLP-Project/blob/main/BERT.ipynb\" target=\"_parent\"><img src=\"https://colab.research.google.com/assets/colab-badge.svg\" alt=\"Open In Colab\"/></a>"
      ]
    },
    {
      "cell_type": "markdown",
      "metadata": {
        "id": "MBY9RkO0uiya"
      },
      "source": [
        "##1. Setup"
      ]
    },
    {
      "cell_type": "markdown",
      "metadata": {
        "id": "KaWiQ0F1uuod"
      },
      "source": [
        "#1.1. Using Colab GPU for Training \n",
        "\n",
        "A GPU has to first be added manually by selecting: \n",
        "Edit 🡒 Notebook Settings 🡒 Hardware accelerator 🡒 (GPU)\n",
        "The following then confirms that the GPU is detected."
      ]
    },
    {
      "cell_type": "code",
      "metadata": {
        "colab": {
          "base_uri": "https://localhost:8080/"
        },
        "id": "5-wdagkmtToC",
        "outputId": "cb63e22d-a5b9-4531-bdf6-91d93728bb33"
      },
      "source": [
        "import tensorflow as tf\n",
        "\n",
        "# Get the GPU device name.\n",
        "device_name = tf.test.gpu_device_name()\n",
        "\n",
        "# The device name should look like the following:\n",
        "if device_name == '/device:GPU:0':\n",
        "    print('Found GPU at: {}'.format(device_name))\n",
        "else:\n",
        "    raise SystemError('GPU device not found')"
      ],
      "execution_count": null,
      "outputs": [
        {
          "output_type": "stream",
          "text": [
            "Found GPU at: /device:GPU:0\n"
          ],
          "name": "stdout"
        }
      ]
    },
    {
      "cell_type": "markdown",
      "metadata": {
        "id": "y9R5dYEPvF_N"
      },
      "source": [
        "In order for torch to use the GPU, we need to identify and specify the GPU as the device. Later, in our training loop, we will load data onto the device."
      ]
    },
    {
      "cell_type": "code",
      "metadata": {
        "colab": {
          "base_uri": "https://localhost:8080/"
        },
        "id": "TKWlHidpu6Sv",
        "outputId": "ae8b1e0a-4b1b-46b3-a7e3-c8d4f85bbad8"
      },
      "source": [
        "import torch\n",
        "\n",
        "# If there's a GPU available...\n",
        "if torch.cuda.is_available():    \n",
        "\n",
        "    # Tell PyTorch to use the GPU.    \n",
        "    device = torch.device(\"cuda\")\n",
        "\n",
        "    print('There are %d GPU(s) available.' % torch.cuda.device_count())\n",
        "\n",
        "    print('We will use the GPU:', torch.cuda.get_device_name(0))\n",
        "\n",
        "# If not...\n",
        "else:\n",
        "    print('No GPU available, using the CPU instead.')\n",
        "    device = torch.device(\"cpu\")"
      ],
      "execution_count": null,
      "outputs": [
        {
          "output_type": "stream",
          "text": [
            "There are 1 GPU(s) available.\n",
            "We will use the GPU: Tesla K80\n"
          ],
          "name": "stdout"
        }
      ]
    },
    {
      "cell_type": "markdown",
      "metadata": {
        "id": "o60heH0CvPPb"
      },
      "source": [
        "## 1.2. Installing the Hugging Face Library"
      ]
    },
    {
      "cell_type": "markdown",
      "metadata": {
        "id": "02sc5Ky4vfWb"
      },
      "source": [
        "Next, we install the transformers package from Hugging Face which will give a pytorch interface for working with BERT. We will use BertForSequenceClassification."
      ]
    },
    {
      "cell_type": "code",
      "metadata": {
        "colab": {
          "base_uri": "https://localhost:8080/"
        },
        "id": "WOmCPftVvJy5",
        "outputId": "1bbda5a8-dc8e-44cb-92dd-4d2942ba4262"
      },
      "source": [
        "!pip install transformers"
      ],
      "execution_count": null,
      "outputs": [
        {
          "output_type": "stream",
          "text": [
            "Collecting transformers\n",
            "\u001b[?25l  Downloading https://files.pythonhosted.org/packages/99/84/7bc03215279f603125d844bf81c3fb3f2d50fe8e511546eb4897e4be2067/transformers-4.0.0-py3-none-any.whl (1.4MB)\n",
            "\u001b[K     |████████████████████████████████| 1.4MB 10.9MB/s \n",
            "\u001b[?25hRequirement already satisfied: numpy in /usr/local/lib/python3.6/dist-packages (from transformers) (1.18.5)\n",
            "Requirement already satisfied: filelock in /usr/local/lib/python3.6/dist-packages (from transformers) (3.0.12)\n",
            "Requirement already satisfied: dataclasses; python_version < \"3.7\" in /usr/local/lib/python3.6/dist-packages (from transformers) (0.8)\n",
            "Collecting sacremoses\n",
            "\u001b[?25l  Downloading https://files.pythonhosted.org/packages/7d/34/09d19aff26edcc8eb2a01bed8e98f13a1537005d31e95233fd48216eed10/sacremoses-0.0.43.tar.gz (883kB)\n",
            "\u001b[K     |████████████████████████████████| 890kB 36.5MB/s \n",
            "\u001b[?25hRequirement already satisfied: requests in /usr/local/lib/python3.6/dist-packages (from transformers) (2.23.0)\n",
            "Collecting tokenizers==0.9.4\n",
            "\u001b[?25l  Downloading https://files.pythonhosted.org/packages/0f/1c/e789a8b12e28be5bc1ce2156cf87cb522b379be9cadc7ad8091a4cc107c4/tokenizers-0.9.4-cp36-cp36m-manylinux2010_x86_64.whl (2.9MB)\n",
            "\u001b[K     |████████████████████████████████| 2.9MB 41.2MB/s \n",
            "\u001b[?25hRequirement already satisfied: packaging in /usr/local/lib/python3.6/dist-packages (from transformers) (20.4)\n",
            "Requirement already satisfied: regex!=2019.12.17 in /usr/local/lib/python3.6/dist-packages (from transformers) (2019.12.20)\n",
            "Requirement already satisfied: tqdm>=4.27 in /usr/local/lib/python3.6/dist-packages (from transformers) (4.41.1)\n",
            "Requirement already satisfied: six in /usr/local/lib/python3.6/dist-packages (from sacremoses->transformers) (1.15.0)\n",
            "Requirement already satisfied: click in /usr/local/lib/python3.6/dist-packages (from sacremoses->transformers) (7.1.2)\n",
            "Requirement already satisfied: joblib in /usr/local/lib/python3.6/dist-packages (from sacremoses->transformers) (0.17.0)\n",
            "Requirement already satisfied: chardet<4,>=3.0.2 in /usr/local/lib/python3.6/dist-packages (from requests->transformers) (3.0.4)\n",
            "Requirement already satisfied: idna<3,>=2.5 in /usr/local/lib/python3.6/dist-packages (from requests->transformers) (2.10)\n",
            "Requirement already satisfied: urllib3!=1.25.0,!=1.25.1,<1.26,>=1.21.1 in /usr/local/lib/python3.6/dist-packages (from requests->transformers) (1.24.3)\n",
            "Requirement already satisfied: certifi>=2017.4.17 in /usr/local/lib/python3.6/dist-packages (from requests->transformers) (2020.11.8)\n",
            "Requirement already satisfied: pyparsing>=2.0.2 in /usr/local/lib/python3.6/dist-packages (from packaging->transformers) (2.4.7)\n",
            "Building wheels for collected packages: sacremoses\n",
            "  Building wheel for sacremoses (setup.py) ... \u001b[?25l\u001b[?25hdone\n",
            "  Created wheel for sacremoses: filename=sacremoses-0.0.43-cp36-none-any.whl size=893257 sha256=e2a69e96c3eff031c87e8a4a79d6c4abc35641f6239fd98c2958e173bc6c2bc9\n",
            "  Stored in directory: /root/.cache/pip/wheels/29/3c/fd/7ce5c3f0666dab31a50123635e6fb5e19ceb42ce38d4e58f45\n",
            "Successfully built sacremoses\n",
            "Installing collected packages: sacremoses, tokenizers, transformers\n",
            "Successfully installed sacremoses-0.0.43 tokenizers-0.9.4 transformers-4.0.0\n"
          ],
          "name": "stdout"
        }
      ]
    },
    {
      "cell_type": "markdown",
      "metadata": {
        "id": "Qca0DSpcv08v"
      },
      "source": [
        "## 2.1. Download & Extract"
      ]
    },
    {
      "cell_type": "markdown",
      "metadata": {
        "id": "-4PulPniv8T_"
      },
      "source": [
        "We'll use the wget package to download the dataset to the Colab instance's file system."
      ]
    },
    {
      "cell_type": "code",
      "metadata": {
        "colab": {
          "base_uri": "https://localhost:8080/"
        },
        "id": "Nis2r9PXv-6i",
        "outputId": "64b6df5e-84c7-487a-8f61-bfa5ec00ddd0"
      },
      "source": [
        "!pip install PyDrive"
      ],
      "execution_count": null,
      "outputs": [
        {
          "output_type": "stream",
          "text": [
            "Requirement already satisfied: PyDrive in /usr/local/lib/python3.6/dist-packages (1.3.1)\n",
            "Requirement already satisfied: google-api-python-client>=1.2 in /usr/local/lib/python3.6/dist-packages (from PyDrive) (1.7.12)\n",
            "Requirement already satisfied: PyYAML>=3.0 in /usr/local/lib/python3.6/dist-packages (from PyDrive) (3.13)\n",
            "Requirement already satisfied: oauth2client>=4.0.0 in /usr/local/lib/python3.6/dist-packages (from PyDrive) (4.1.3)\n",
            "Requirement already satisfied: google-auth>=1.4.1 in /usr/local/lib/python3.6/dist-packages (from google-api-python-client>=1.2->PyDrive) (1.17.2)\n",
            "Requirement already satisfied: httplib2<1dev,>=0.17.0 in /usr/local/lib/python3.6/dist-packages (from google-api-python-client>=1.2->PyDrive) (0.17.4)\n",
            "Requirement already satisfied: google-auth-httplib2>=0.0.3 in /usr/local/lib/python3.6/dist-packages (from google-api-python-client>=1.2->PyDrive) (0.0.4)\n",
            "Requirement already satisfied: uritemplate<4dev,>=3.0.0 in /usr/local/lib/python3.6/dist-packages (from google-api-python-client>=1.2->PyDrive) (3.0.1)\n",
            "Requirement already satisfied: six<2dev,>=1.6.1 in /usr/local/lib/python3.6/dist-packages (from google-api-python-client>=1.2->PyDrive) (1.15.0)\n",
            "Requirement already satisfied: pyasn1-modules>=0.0.5 in /usr/local/lib/python3.6/dist-packages (from oauth2client>=4.0.0->PyDrive) (0.2.8)\n",
            "Requirement already satisfied: rsa>=3.1.4 in /usr/local/lib/python3.6/dist-packages (from oauth2client>=4.0.0->PyDrive) (4.6)\n",
            "Requirement already satisfied: pyasn1>=0.1.7 in /usr/local/lib/python3.6/dist-packages (from oauth2client>=4.0.0->PyDrive) (0.4.8)\n",
            "Requirement already satisfied: setuptools>=40.3.0 in /usr/local/lib/python3.6/dist-packages (from google-auth>=1.4.1->google-api-python-client>=1.2->PyDrive) (50.3.2)\n",
            "Requirement already satisfied: cachetools<5.0,>=2.0.0 in /usr/local/lib/python3.6/dist-packages (from google-auth>=1.4.1->google-api-python-client>=1.2->PyDrive) (4.1.1)\n"
          ],
          "name": "stdout"
        }
      ]
    },
    {
      "cell_type": "code",
      "metadata": {
        "id": "UxNwCoKqw-N8"
      },
      "source": [
        "from pydrive.auth import GoogleAuth\n",
        "from pydrive.drive import GoogleDrive\n",
        "from google.colab import auth\n",
        "from oauth2client.client import GoogleCredentials"
      ],
      "execution_count": null,
      "outputs": []
    },
    {
      "cell_type": "code",
      "metadata": {
        "colab": {
          "base_uri": "https://localhost:8080/"
        },
        "id": "JgAMdlyjJYty",
        "outputId": "b91a0e1b-6808-4cab-a32b-cfee0fb96837"
      },
      "source": [
        "# enable connection to Google drive to access and save files\n",
        "from google.colab import  drive\n",
        "drive.mount('/drive')"
      ],
      "execution_count": null,
      "outputs": [
        {
          "output_type": "stream",
          "text": [
            "Mounted at /drive\n"
          ],
          "name": "stdout"
        }
      ]
    },
    {
      "cell_type": "code",
      "metadata": {
        "id": "n_F5621_yQI_"
      },
      "source": [
        "auth.authenticate_user()\n",
        "gauth = GoogleAuth()\n",
        "gauth.credentials = GoogleCredentials.get_application_default()\n",
        "drive = GoogleDrive(gauth)"
      ],
      "execution_count": null,
      "outputs": []
    },
    {
      "cell_type": "code",
      "metadata": {
        "id": "D-Lf5_WUyUhR"
      },
      "source": [
        "downloaded = drive.CreateFile({'id':\"17ss8X9ydtD7DEQM3dsDIYvTHX1Nwmv2V\"})\n",
        "downloaded.GetContentFile('book32listing.csv')"
      ],
      "execution_count": null,
      "outputs": []
    },
    {
      "cell_type": "markdown",
      "metadata": {
        "id": "MF6E3h2gB6pA"
      },
      "source": [
        "## Split the dataset into train-test\n"
      ]
    },
    {
      "cell_type": "code",
      "metadata": {
        "colab": {
          "base_uri": "https://localhost:8080/"
        },
        "id": "bqKB-uz9J-wq",
        "outputId": "12f7e1a5-958f-4685-97b4-dc1778dbc16f"
      },
      "source": [
        "# import data in csv file\n",
        "\n",
        "import pandas as pd\n",
        "import numpy as np\n",
        "\n",
        "df = pd.read_csv('book32listing.csv',encoding='latin1', header=None)\n",
        "df1 = df[[3,6,5]] # only columns with titles and genres and the genre ID\n",
        "df1.columns = ['Title', 'Genre', \"GenreID\"]\n",
        "\n",
        "# split data into testing and training\n",
        "df1['split'] = np.random.randn(df.shape[0],1)\n",
        "\n",
        "# create mask to simplify splitting\n",
        "msk = np.random.rand(len(df1)) <= 0.8 # split into 80%/20%\n",
        "\n",
        "train = df1[msk]\n",
        "train = train.drop(columns='split')\n",
        "test = df1[~msk]\n",
        "test = test.drop(columns='split')\n",
        "\n",
        "print(train)"
      ],
      "execution_count": null,
      "outputs": [
        {
          "output_type": "stream",
          "text": [
            "                                                    Title      Genre  GenreID\n",
            "1                         Doug the Pug 2016 Wall Calendar  Calendars        3\n",
            "3                 365 Cats Color Page-A-Day Calendar 2016  Calendars        3\n",
            "4                    Sierra Club Engagement Calendar 2016  Calendars        3\n",
            "5                    Sierra Club Wilderness Calendar 2016  Calendars        3\n",
            "6       Thomas Kinkade: The Disney Dreams Collection 2...  Calendars        3\n",
            "...                                                   ...        ...      ...\n",
            "207566  Country Walks Near Washington (Country Walks B...     Travel       29\n",
            "207568  Washington, D.C., Then and Now: 69 Sites Photo...     Travel       29\n",
            "207569  The Unofficial Guide to Washington, D.C. (Unof...     Travel       29\n",
            "207570      Washington, D.C. For Dummies (Dummies Travel)     Travel       29\n",
            "207571  Fodor's Where to Weekend Around Boston, 1st Ed...     Travel       29\n",
            "\n",
            "[166025 rows x 3 columns]\n"
          ],
          "name": "stdout"
        },
        {
          "output_type": "stream",
          "text": [
            "/usr/local/lib/python3.6/dist-packages/ipykernel_launcher.py:7: SettingWithCopyWarning: \n",
            "A value is trying to be set on a copy of a slice from a DataFrame.\n",
            "Try using .loc[row_indexer,col_indexer] = value instead\n",
            "\n",
            "See the caveats in the documentation: https://pandas.pydata.org/pandas-docs/stable/user_guide/indexing.html#returning-a-view-versus-a-copy\n",
            "  import sys\n"
          ],
          "name": "stderr"
        }
      ]
    },
    {
      "cell_type": "code",
      "metadata": {
        "id": "GExaULHVHZCS"
      },
      "source": [
        "# save split datasets as csv files in Google Drive\n",
        "test.to_csv('/drive/My Drive/BERTtest.csv', index=False)\n",
        "train.to_csv('/drive/My Drive/BERTtrain.csv', index=False)"
      ],
      "execution_count": null,
      "outputs": []
    },
    {
      "cell_type": "markdown",
      "metadata": {
        "id": "jA94GM5XynFW"
      },
      "source": [
        "##2.2. Parse\n"
      ]
    },
    {
      "cell_type": "markdown",
      "metadata": {
        "id": "zmyOU4Exyt_e"
      },
      "source": [
        "In order to apply the pre-trained BERT, we must use the tokenizer provided by the model. This is because the model has a specific, fixed vocabulary and the BERT tokenizer has a particular way of handling out-of-vocabulary words.\n",
        "\n",
        "We use pandas to parse the \"in-domain\" training set and look at some properties and data points."
      ]
    },
    {
      "cell_type": "code",
      "metadata": {
        "id": "KAz8C877JqrW"
      },
      "source": [
        "# import train dataset\n",
        "train = pd.read_csv('/drive/My Drive/BERTtrain.csv',encoding='latin1')"
      ],
      "execution_count": null,
      "outputs": []
    },
    {
      "cell_type": "code",
      "metadata": {
        "colab": {
          "base_uri": "https://localhost:8080/",
          "height": 393
        },
        "id": "umpY7TevzWKl",
        "outputId": "fce3b164-146a-42d6-fc01-619e326b219c"
      },
      "source": [
        "# Report the number of titles.\n",
        "print('Number of training titles: {:,}\\n'.format(train.shape[0]))\n",
        "\n",
        "# Display 10 random rows from the data.\n",
        "train.sample(10)"
      ],
      "execution_count": null,
      "outputs": [
        {
          "output_type": "stream",
          "text": [
            "Number of training titles: 166,025\n",
            "\n"
          ],
          "name": "stdout"
        },
        {
          "output_type": "execute_result",
          "data": {
            "text/html": [
              "<div>\n",
              "<style scoped>\n",
              "    .dataframe tbody tr th:only-of-type {\n",
              "        vertical-align: middle;\n",
              "    }\n",
              "\n",
              "    .dataframe tbody tr th {\n",
              "        vertical-align: top;\n",
              "    }\n",
              "\n",
              "    .dataframe thead th {\n",
              "        text-align: right;\n",
              "    }\n",
              "</style>\n",
              "<table border=\"1\" class=\"dataframe\">\n",
              "  <thead>\n",
              "    <tr style=\"text-align: right;\">\n",
              "      <th></th>\n",
              "      <th>Title</th>\n",
              "      <th>Genre</th>\n",
              "      <th>GenreID</th>\n",
              "    </tr>\n",
              "  </thead>\n",
              "  <tbody>\n",
              "    <tr>\n",
              "      <th>19666</th>\n",
              "      <td>Monitor (Take 2): The revised, expanded inside...</td>\n",
              "      <td>Humor &amp; Entertainment</td>\n",
              "      <td>13</td>\n",
              "    </tr>\n",
              "    <tr>\n",
              "      <th>122005</th>\n",
              "      <td>Wesley Y El Pueblo Llamado Metodista / Wesley ...</td>\n",
              "      <td>Christian Books &amp; Bibles</td>\n",
              "      <td>9</td>\n",
              "    </tr>\n",
              "    <tr>\n",
              "      <th>152743</th>\n",
              "      <td>Peaks and Valleys: A Solo Hike Across the Alps</td>\n",
              "      <td>Travel</td>\n",
              "      <td>29</td>\n",
              "    </tr>\n",
              "    <tr>\n",
              "      <th>65343</th>\n",
              "      <td>Basic Environmental Health</td>\n",
              "      <td>Medical Books</td>\n",
              "      <td>16</td>\n",
              "    </tr>\n",
              "    <tr>\n",
              "      <th>38207</th>\n",
              "      <td>Lehner's Encyclopedia Of US Marks On Pottery, ...</td>\n",
              "      <td>Crafts, Hobbies &amp; Home</td>\n",
              "      <td>8</td>\n",
              "    </tr>\n",
              "    <tr>\n",
              "      <th>54849</th>\n",
              "      <td>Writing as a Way of Healing: How Telling Our S...</td>\n",
              "      <td>Self-Help</td>\n",
              "      <td>25</td>\n",
              "    </tr>\n",
              "    <tr>\n",
              "      <th>124446</th>\n",
              "      <td>Sonic Theology (Studies in Comparative Religion)</td>\n",
              "      <td>Religion &amp; Spirituality</td>\n",
              "      <td>21</td>\n",
              "    </tr>\n",
              "    <tr>\n",
              "      <th>107307</th>\n",
              "      <td>New Guinea Stone Age trade: The geography and ...</td>\n",
              "      <td>History</td>\n",
              "      <td>12</td>\n",
              "    </tr>\n",
              "    <tr>\n",
              "      <th>8399</th>\n",
              "      <td>The Handmaid's Tale</td>\n",
              "      <td>Science Fiction &amp; Fantasy</td>\n",
              "      <td>24</td>\n",
              "    </tr>\n",
              "    <tr>\n",
              "      <th>160998</th>\n",
              "      <td>Gorizia City Plan: With Nova Gorica and Lucini...</td>\n",
              "      <td>Travel</td>\n",
              "      <td>29</td>\n",
              "    </tr>\n",
              "  </tbody>\n",
              "</table>\n",
              "</div>"
            ],
            "text/plain": [
              "                                                    Title  ... GenreID\n",
              "19666   Monitor (Take 2): The revised, expanded inside...  ...      13\n",
              "122005  Wesley Y El Pueblo Llamado Metodista / Wesley ...  ...       9\n",
              "152743     Peaks and Valleys: A Solo Hike Across the Alps  ...      29\n",
              "65343                          Basic Environmental Health  ...      16\n",
              "38207   Lehner's Encyclopedia Of US Marks On Pottery, ...  ...       8\n",
              "54849   Writing as a Way of Healing: How Telling Our S...  ...      25\n",
              "124446   Sonic Theology (Studies in Comparative Religion)  ...      21\n",
              "107307  New Guinea Stone Age trade: The geography and ...  ...      12\n",
              "8399                                  The Handmaid's Tale  ...      24\n",
              "160998  Gorizia City Plan: With Nova Gorica and Lucini...  ...      29\n",
              "\n",
              "[10 rows x 3 columns]"
            ]
          },
          "metadata": {
            "tags": []
          },
          "execution_count": 13
        }
      ]
    },
    {
      "cell_type": "markdown",
      "metadata": {
        "id": "1_KMmB--z0Wp"
      },
      "source": [
        "Let's extract the sentences and labels of our training set as numpy ndarrays."
      ]
    },
    {
      "cell_type": "code",
      "metadata": {
        "id": "I0r9Wzuiy5fI"
      },
      "source": [
        "# Get the lists of titles and their genre ID\n",
        "\n",
        "titles = train['Title'].values # list of all titles\n",
        "genreID = train['GenreID'].values # list of all genre ids"
      ],
      "execution_count": null,
      "outputs": []
    },
    {
      "cell_type": "code",
      "metadata": {
        "colab": {
          "base_uri": "https://localhost:8080/"
        },
        "id": "jpeLkw_xsMX-",
        "outputId": "7db4114c-9898-4591-8ace-fb9f9571ae96"
      },
      "source": [
        "titles"
      ],
      "execution_count": null,
      "outputs": [
        {
          "output_type": "execute_result",
          "data": {
            "text/plain": [
              "array(['Doug the Pug 2016 Wall Calendar',\n",
              "       '365 Cats Color Page-A-Day Calendar 2016',\n",
              "       'Sierra Club Engagement Calendar 2016', ...,\n",
              "       'The Unofficial Guide to Washington, D.C. (Unofficial Guides)',\n",
              "       'Washington, D.C. For Dummies (Dummies Travel)',\n",
              "       \"Fodor's Where to Weekend Around Boston, 1st Edition (Special-Interest Titles)\"],\n",
              "      dtype=object)"
            ]
          },
          "metadata": {
            "tags": []
          },
          "execution_count": 15
        }
      ]
    },
    {
      "cell_type": "markdown",
      "metadata": {
        "id": "lsx-4Ps20RIr"
      },
      "source": [
        "# 3. Tokenization & Input Formatting\n",
        "\n",
        "In this section, we'll transform our dataset into the format that BERT can be trained on."
      ]
    },
    {
      "cell_type": "markdown",
      "metadata": {
        "id": "3OddtuFF0XwJ"
      },
      "source": [
        "## 3.1. BERT Tokenizer"
      ]
    },
    {
      "cell_type": "markdown",
      "metadata": {
        "id": "LxtXb84I0Yn9"
      },
      "source": [
        "To feed our text to BERT, it must be split into tokens, and then these tokens must be mapped to their index in the tokenizer vocabulary.\n",
        "The tokenization must be performed by the tokenizer included with BERT. We used the \"uncased\" version."
      ]
    },
    {
      "cell_type": "code",
      "metadata": {
        "colab": {
          "base_uri": "https://localhost:8080/",
          "height": 83,
          "referenced_widgets": [
            "583e6de7d1e14312998d91b1afb0b520",
            "336a5df2dda74ceba26b4c13a328acaf",
            "4c5fd9973791449883d6a76c18e804fa",
            "9b360a5daa2242d7890eeb7192265289",
            "82b4bd67bb5f487083e2c3b8366e879e",
            "2a7445fadaae4cd68d26fca18351665b",
            "e127765b07e94ace9b72382765db1369",
            "a7cfc336280b4d8fabf6abd26186fb3f"
          ]
        },
        "id": "BdNpdN5Hz_z5",
        "outputId": "f07a6d46-c4ff-446a-9cb0-6b1b7055906e"
      },
      "source": [
        "from transformers import BertTokenizer\n",
        "\n",
        "# Load the BERT tokenizer.\n",
        "print('Loading BERT tokenizer...')\n",
        "tokenizer = BertTokenizer.from_pretrained('bert-base-uncased', do_lower_case=True)"
      ],
      "execution_count": null,
      "outputs": [
        {
          "output_type": "stream",
          "text": [
            "Loading BERT tokenizer...\n"
          ],
          "name": "stdout"
        },
        {
          "output_type": "display_data",
          "data": {
            "application/vnd.jupyter.widget-view+json": {
              "model_id": "583e6de7d1e14312998d91b1afb0b520",
              "version_minor": 0,
              "version_major": 2
            },
            "text/plain": [
              "HBox(children=(FloatProgress(value=0.0, description='Downloading', max=231508.0, style=ProgressStyle(descripti…"
            ]
          },
          "metadata": {
            "tags": []
          }
        },
        {
          "output_type": "stream",
          "text": [
            "\n"
          ],
          "name": "stdout"
        }
      ]
    },
    {
      "cell_type": "markdown",
      "metadata": {
        "id": "zVP_Rw8C0n0H"
      },
      "source": [
        "We applied the tokenizer to one sentence to see the output:\n"
      ]
    },
    {
      "cell_type": "code",
      "metadata": {
        "colab": {
          "base_uri": "https://localhost:8080/"
        },
        "id": "7JIOkOlX0ib0",
        "outputId": "744c2bff-5ef0-4c72-de6d-3b5364ca75f3"
      },
      "source": [
        "# Print original sentence\n",
        "print(' Original: ', titles[0])\n",
        "\n",
        "# Print sentence split into tokens\n",
        "print('Tokenized: ', tokenizer.tokenize(titles[0]))\n",
        "\n",
        "# Print sentence mapped to token IDs\n",
        "print('Token IDs: ', tokenizer.convert_tokens_to_ids(tokenizer.tokenize(titles[0])))"
      ],
      "execution_count": null,
      "outputs": [
        {
          "output_type": "stream",
          "text": [
            " Original:  Mom's Family Wall Calendar 2016\n",
            "Tokenized:  ['mom', \"'\", 's', 'family', 'wall', 'calendar', '2016']\n",
            "Token IDs:  [3566, 1005, 1055, 2155, 2813, 8094, 2355]\n"
          ],
          "name": "stdout"
        }
      ]
    },
    {
      "cell_type": "markdown",
      "metadata": {
        "id": "rZOFIy5j01iE"
      },
      "source": [
        "When we actually convert all of our sentences, we'll use the `tokenize.encode` function to handle both steps, rather than calling `tokenize` and `convert_tokens_to_ids` separately. \n",
        "\n",
        "Before we can do that, though, we need to talk about some of BERT's formatting requirements."
      ]
    },
    {
      "cell_type": "markdown",
      "metadata": {
        "id": "THc62asQ06Jd"
      },
      "source": [
        "## 3.2. Formatting & Tokenizing Dataset"
      ]
    },
    {
      "cell_type": "markdown",
      "metadata": {
        "id": "fqtgEHVv0_uy"
      },
      "source": [
        "Here we carried out some necessary formatting steps:\n",
        "1. Add special tokens to the start and end of each sentence.\n",
        "2. Pad & truncate all sentences to a single constant length.\n",
        "3. Explicitly differentiate real tokens from padding tokens with the \"attention mask\"."
      ]
    },
    {
      "cell_type": "markdown",
      "metadata": {
        "id": "72hdhdMw1j3Z"
      },
      "source": [
        "Before encoding our text, we need to decide on a maximum sentence length for padding / truncating to.\n",
        "The below cell will perform one tokenization pass of the dataset in order to measure the maximum sentence length."
      ]
    },
    {
      "cell_type": "code",
      "metadata": {
        "colab": {
          "base_uri": "https://localhost:8080/"
        },
        "id": "znnYNbyv0wyU",
        "outputId": "f7e49551-30f8-4f67-bd6e-a9580695e9cc"
      },
      "source": [
        "max_len = 0\n",
        "\n",
        "# For every title...\n",
        "for title in titles:\n",
        "\n",
        "    # Tokenize the text and add `[CLS]` and `[SEP]` tokens.\n",
        "    input_ids = tokenizer.encode(title, add_special_tokens=True)\n",
        "\n",
        "    # Update the maximum title length.\n",
        "    max_len = max(max_len, len(input_ids))\n",
        "\n",
        "print('Max title length: ', max_len)"
      ],
      "execution_count": null,
      "outputs": [
        {
          "output_type": "stream",
          "text": [
            "Max title length:  130\n"
          ],
          "name": "stdout"
        }
      ]
    },
    {
      "cell_type": "markdown",
      "metadata": {
        "id": "TEj7fZ_12cfD"
      },
      "source": [
        "Now we perform the real tokenization.\n",
        "\n",
        "The `tokenizer.encode_plus` function combines multiple steps:\n",
        "\n",
        "1. Split the sentence into tokens.\n",
        "2. Add the special `[CLS]` and `[SEP]` tokens.\n",
        "3. Map the tokens to their IDs.\n",
        "4. Pad or truncate all sentences to the same length.\n",
        "5. Create the attention masks which explicitly differentiate real tokens from `[PAD]` tokens.\n",
        "\n",
        "The first four features are in `tokenizer.encode`, but we use `tokenizer.encode_plus` to get the fifth item (attention masks). Documentation is [here](https://huggingface.co/transformers/main_classes/tokenizer.html?highlight=encode_plus#transformers.PreTrainedTokenizer.encode_plus).\n"
      ]
    },
    {
      "cell_type": "code",
      "metadata": {
        "colab": {
          "base_uri": "https://localhost:8080/"
        },
        "id": "RP8UwUTp1zxu",
        "outputId": "6875577f-3223-4322-9d99-29d0433e1a41"
      },
      "source": [
        "# Tokenize all of the sentences and map the tokens to their word IDs.\n",
        "input_ids = []\n",
        "attention_masks = []\n",
        "\n",
        "for title in titles:\n",
        "    encoded_dict = tokenizer.encode_plus(\n",
        "                        title,                      # Sentence to encode.\n",
        "                        add_special_tokens = True, # Add '[CLS]' and '[SEP]'\n",
        "                        max_length = 140,           # Pad & truncate all titles\n",
        "                        pad_to_max_length = True,\n",
        "                        return_attention_mask = True,   # Construct attn. masks.\n",
        "                        return_tensors = 'pt',     # Return pytorch tensors\n",
        "                   )\n",
        "    \n",
        "    # Add the encoded title to the list \n",
        "    input_ids.append(encoded_dict['input_ids'])\n",
        "    \n",
        "    # Add its attention mask (simply differentiates padding from non-padding)\n",
        "    attention_masks.append(encoded_dict['attention_mask'])\n",
        "\n",
        "# Convert the lists into tensors\n",
        "input_ids = torch.cat(input_ids, dim=0)\n",
        "attention_masks = torch.cat(attention_masks, dim=0)\n",
        "genreID = torch.tensor(genreID)\n",
        "\n",
        "# Print sentence 0, now as a list of IDs\n",
        "print('Original: ', titles[0])\n",
        "print('Token IDs:', input_ids[0])"
      ],
      "execution_count": null,
      "outputs": [
        {
          "output_type": "stream",
          "text": [
            "Truncation was not explicitly activated but `max_length` is provided a specific value, please use `truncation=True` to explicitly truncate examples to max length. Defaulting to 'longest_first' truncation strategy. If you encode pairs of sequences (GLUE-style) with the tokenizer you can select this strategy more precisely by providing a specific strategy to `truncation`.\n",
            "/usr/local/lib/python3.6/dist-packages/transformers/tokenization_utils_base.py:2022: FutureWarning: The `pad_to_max_length` argument is deprecated and will be removed in a future version, use `padding=True` or `padding='longest'` to pad to the longest sequence in the batch, or use `padding='max_length'` to pad to a max length. In this case, you can give a specific length with `max_length` (e.g. `max_length=45`) or leave max_length to None to pad to the maximal input size of the model (e.g. 512 for Bert).\n",
            "  FutureWarning,\n"
          ],
          "name": "stderr"
        },
        {
          "output_type": "stream",
          "text": [
            "Original:  Mom's Family Wall Calendar 2016\n",
            "Token IDs: tensor([ 101, 3566, 1005, 1055, 2155, 2813, 8094, 2355,  102,    0,    0,    0,\n",
            "           0,    0,    0,    0,    0,    0,    0,    0,    0,    0,    0,    0,\n",
            "           0,    0,    0,    0,    0,    0,    0,    0,    0,    0,    0,    0,\n",
            "           0,    0,    0,    0,    0,    0,    0,    0,    0,    0,    0,    0,\n",
            "           0,    0,    0,    0,    0,    0,    0,    0,    0,    0,    0,    0,\n",
            "           0,    0,    0,    0,    0,    0,    0,    0,    0,    0,    0,    0,\n",
            "           0,    0,    0,    0,    0,    0,    0,    0,    0,    0,    0,    0,\n",
            "           0,    0,    0,    0,    0,    0,    0,    0,    0,    0,    0,    0,\n",
            "           0,    0,    0,    0,    0,    0,    0,    0,    0,    0,    0,    0,\n",
            "           0,    0,    0,    0,    0,    0,    0,    0,    0,    0,    0,    0,\n",
            "           0,    0,    0,    0,    0,    0,    0,    0,    0,    0,    0,    0,\n",
            "           0,    0,    0,    0,    0,    0,    0,    0])\n"
          ],
          "name": "stdout"
        }
      ]
    },
    {
      "cell_type": "markdown",
      "metadata": {
        "id": "0xcEx_zP4TR0"
      },
      "source": [
        "## 3.4. Training & Validation Split"
      ]
    },
    {
      "cell_type": "markdown",
      "metadata": {
        "id": "Rp5kZlwQ4WSR"
      },
      "source": [
        "Divide up our training set to use 80% for training and 20% for validation."
      ]
    },
    {
      "cell_type": "code",
      "metadata": {
        "colab": {
          "base_uri": "https://localhost:8080/"
        },
        "id": "d-9Vg-VS3AJw",
        "outputId": "aff137db-232f-4fb7-c72e-adc9134796ae"
      },
      "source": [
        "from torch.utils.data import TensorDataset, random_split\n",
        "\n",
        "# Combine training inputs into TensorDataset\n",
        "dataset = TensorDataset(input_ids, attention_masks, genreID)\n",
        "\n",
        "# Create 80%/20% train-validation split\n",
        "# Calculate the number of samples to include in each set\n",
        "train_size = int(0.8 * len(dataset))\n",
        "val_size = len(dataset) - train_size\n",
        "\n",
        "# Divide dataset by randomly selecting samples\n",
        "train_dataset, val_dataset = random_split(dataset, [train_size, val_size])\n",
        "\n",
        "print('{:>5,} training samples'.format(train_size))\n",
        "print('{:>5,} validation samples'.format(val_size))"
      ],
      "execution_count": null,
      "outputs": [
        {
          "output_type": "stream",
          "text": [
            "132,843 training samples\n",
            "33,211 validation samples\n"
          ],
          "name": "stdout"
        }
      ]
    },
    {
      "cell_type": "markdown",
      "metadata": {
        "id": "QFnnP3AW4wCs"
      },
      "source": [
        "We'll also create an iterator for our dataset using the torch DataLoader class. This helps save on memory during training because, unlike a for loop, with an iterator the entire dataset does not need to be loaded into memory."
      ]
    },
    {
      "cell_type": "code",
      "metadata": {
        "id": "jSy-nk5G4qVi"
      },
      "source": [
        "from torch.utils.data import DataLoader, RandomSampler, SequentialSampler\n",
        "\n",
        "# The DataLoader needs to know our batch size for training, so we specify it \n",
        "# here. For fine-tuning BERT on a specific task, the authors recommend a batch \n",
        "# size of 16 or 32.\n",
        "batch_size = 32\n",
        "\n",
        "# Create the DataLoaders for our training and validation sets\n",
        "# We'll take training samples in random order\n",
        "train_dataloader = DataLoader(\n",
        "            train_dataset,  # training samples\n",
        "            sampler = RandomSampler(train_dataset), # Select batches randomly\n",
        "            batch_size = batch_size)\n",
        "\n",
        "# For validation, the order doesn't matter, so we read them sequentially\n",
        "validation_dataloader = DataLoader(\n",
        "            val_dataset, # validation samples\n",
        "            sampler = SequentialSampler(val_dataset), # Pull out batches sequentially\n",
        "            batch_size = batch_size)"
      ],
      "execution_count": null,
      "outputs": []
    },
    {
      "cell_type": "markdown",
      "metadata": {
        "id": "hrye6xAA4-re"
      },
      "source": [
        "# 4. Train Our Classification Model"
      ]
    },
    {
      "cell_type": "markdown",
      "metadata": {
        "id": "zto4NxuZ5A3l"
      },
      "source": [
        "\n",
        "## 4.1. BertForSequenceClassification"
      ]
    },
    {
      "cell_type": "markdown",
      "metadata": {
        "id": "NVE9lutA5L7L"
      },
      "source": [
        "For this task, we first want to modify the pre-trained BERT model to give outputs for classification, and then we want to continue training the model on our dataset until the entire model is well-suited for our task. "
      ]
    },
    {
      "cell_type": "markdown",
      "metadata": {
        "id": "ZeoEXCZ25b4A"
      },
      "source": [
        "We used [BertForSequenceClassification](https://huggingface.co/transformers/v2.2.0/model_doc/bert.html#bertforsequenceclassification). This is the normal BERT model with an added single linear layer on top for classification that we used as a sentence classifier. As we feed input data, the entire pre-trained BERT model and the additional untrained classification layer is trained on our specific task."
      ]
    },
    {
      "cell_type": "markdown",
      "metadata": {
        "id": "_HHTqHK55dXk"
      },
      "source": [
        "There are a few different pre-trained BERT models available. \"bert-base-uncased\" means the version that has only lowercase letters (\"uncased\") and is the smaller version of the two (\"base\" vs \"large\").\n",
        "The documentation for from_pretrained can be found here, with the additional parameters defined here."
      ]
    },
    {
      "cell_type": "code",
      "metadata": {
        "colab": {
          "base_uri": "https://localhost:8080/",
          "height": 1000,
          "referenced_widgets": [
            "3cb7b6a2a7f740d19ae05c887b3ae32c",
            "9c933fa482124c9ebf849c3e416ee662",
            "21199b6068c440f2a2d268451e53364d",
            "a76b6aa25be641d4a6d34e74c936154e",
            "b49de9b4e32e4f729235d34709f2a242",
            "177048d08f70477e8f06f5a75f9bef09",
            "089b3f0de614430fa3afd47c0a4c9f1d",
            "5052daa6606b4095a7dd0db0c95b893a",
            "bf226d83dccc42d486d28cbd74af8344",
            "76caeb0ee47b42039eaca3563814edef",
            "5b2cbea2987444c99d1a187a43831450",
            "987a6f5135584a6b9e1602f877309e92",
            "4f056fc9ecec4de4b565dbb897b84311",
            "ee501920455044c3bfba83dc23a8d436",
            "83cd870d4d1e41cead6bc7f35b095112",
            "d381f6058026455bafff83c2f83fae2f"
          ]
        },
        "id": "SIXfKayO46Ra",
        "outputId": "5359a3e7-794a-49a5-a379-29abee996c1c"
      },
      "source": [
        "from transformers import BertForSequenceClassification, AdamW, BertConfig\n",
        "\n",
        "# Load BertForSequenceClassification, the pretrained BERT model with a single \n",
        "# linear classification layer on top. \n",
        "model = BertForSequenceClassification.from_pretrained(\n",
        "    \"bert-base-uncased\", # Use the 12-layer BERT model, with an uncased vocab.\n",
        "    num_labels = 32, # The number of output labels--2 for binary classification.\n",
        "                    # You can increase this for multi-class tasks.   \n",
        "    output_attentions = False, # Whether the model returns attentions weights.\n",
        "    output_hidden_states = False, # Whether the model returns all hidden-states.\n",
        ")\n",
        "\n",
        "# Tell pytorch to run this model on the GPU.\n",
        "model.cuda()"
      ],
      "execution_count": null,
      "outputs": [
        {
          "output_type": "display_data",
          "data": {
            "application/vnd.jupyter.widget-view+json": {
              "model_id": "3cb7b6a2a7f740d19ae05c887b3ae32c",
              "version_minor": 0,
              "version_major": 2
            },
            "text/plain": [
              "HBox(children=(FloatProgress(value=0.0, description='Downloading', max=433.0, style=ProgressStyle(description_…"
            ]
          },
          "metadata": {
            "tags": []
          }
        },
        {
          "output_type": "stream",
          "text": [
            "\n"
          ],
          "name": "stdout"
        },
        {
          "output_type": "display_data",
          "data": {
            "application/vnd.jupyter.widget-view+json": {
              "model_id": "bf226d83dccc42d486d28cbd74af8344",
              "version_minor": 0,
              "version_major": 2
            },
            "text/plain": [
              "HBox(children=(FloatProgress(value=0.0, description='Downloading', max=440473133.0, style=ProgressStyle(descri…"
            ]
          },
          "metadata": {
            "tags": []
          }
        },
        {
          "output_type": "stream",
          "text": [
            "\n"
          ],
          "name": "stdout"
        },
        {
          "output_type": "stream",
          "text": [
            "Some weights of the model checkpoint at bert-base-uncased were not used when initializing BertForSequenceClassification: ['cls.predictions.bias', 'cls.predictions.transform.dense.weight', 'cls.predictions.transform.dense.bias', 'cls.predictions.decoder.weight', 'cls.seq_relationship.weight', 'cls.seq_relationship.bias', 'cls.predictions.transform.LayerNorm.weight', 'cls.predictions.transform.LayerNorm.bias']\n",
            "- This IS expected if you are initializing BertForSequenceClassification from the checkpoint of a model trained on another task or with another architecture (e.g. initializing a BertForSequenceClassification model from a BertForPreTraining model).\n",
            "- This IS NOT expected if you are initializing BertForSequenceClassification from the checkpoint of a model that you expect to be exactly identical (initializing a BertForSequenceClassification model from a BertForSequenceClassification model).\n",
            "Some weights of BertForSequenceClassification were not initialized from the model checkpoint at bert-base-uncased and are newly initialized: ['classifier.weight', 'classifier.bias']\n",
            "You should probably TRAIN this model on a down-stream task to be able to use it for predictions and inference.\n"
          ],
          "name": "stderr"
        },
        {
          "output_type": "execute_result",
          "data": {
            "text/plain": [
              "BertForSequenceClassification(\n",
              "  (bert): BertModel(\n",
              "    (embeddings): BertEmbeddings(\n",
              "      (word_embeddings): Embedding(30522, 768, padding_idx=0)\n",
              "      (position_embeddings): Embedding(512, 768)\n",
              "      (token_type_embeddings): Embedding(2, 768)\n",
              "      (LayerNorm): LayerNorm((768,), eps=1e-12, elementwise_affine=True)\n",
              "      (dropout): Dropout(p=0.1, inplace=False)\n",
              "    )\n",
              "    (encoder): BertEncoder(\n",
              "      (layer): ModuleList(\n",
              "        (0): BertLayer(\n",
              "          (attention): BertAttention(\n",
              "            (self): BertSelfAttention(\n",
              "              (query): Linear(in_features=768, out_features=768, bias=True)\n",
              "              (key): Linear(in_features=768, out_features=768, bias=True)\n",
              "              (value): Linear(in_features=768, out_features=768, bias=True)\n",
              "              (dropout): Dropout(p=0.1, inplace=False)\n",
              "            )\n",
              "            (output): BertSelfOutput(\n",
              "              (dense): Linear(in_features=768, out_features=768, bias=True)\n",
              "              (LayerNorm): LayerNorm((768,), eps=1e-12, elementwise_affine=True)\n",
              "              (dropout): Dropout(p=0.1, inplace=False)\n",
              "            )\n",
              "          )\n",
              "          (intermediate): BertIntermediate(\n",
              "            (dense): Linear(in_features=768, out_features=3072, bias=True)\n",
              "          )\n",
              "          (output): BertOutput(\n",
              "            (dense): Linear(in_features=3072, out_features=768, bias=True)\n",
              "            (LayerNorm): LayerNorm((768,), eps=1e-12, elementwise_affine=True)\n",
              "            (dropout): Dropout(p=0.1, inplace=False)\n",
              "          )\n",
              "        )\n",
              "        (1): BertLayer(\n",
              "          (attention): BertAttention(\n",
              "            (self): BertSelfAttention(\n",
              "              (query): Linear(in_features=768, out_features=768, bias=True)\n",
              "              (key): Linear(in_features=768, out_features=768, bias=True)\n",
              "              (value): Linear(in_features=768, out_features=768, bias=True)\n",
              "              (dropout): Dropout(p=0.1, inplace=False)\n",
              "            )\n",
              "            (output): BertSelfOutput(\n",
              "              (dense): Linear(in_features=768, out_features=768, bias=True)\n",
              "              (LayerNorm): LayerNorm((768,), eps=1e-12, elementwise_affine=True)\n",
              "              (dropout): Dropout(p=0.1, inplace=False)\n",
              "            )\n",
              "          )\n",
              "          (intermediate): BertIntermediate(\n",
              "            (dense): Linear(in_features=768, out_features=3072, bias=True)\n",
              "          )\n",
              "          (output): BertOutput(\n",
              "            (dense): Linear(in_features=3072, out_features=768, bias=True)\n",
              "            (LayerNorm): LayerNorm((768,), eps=1e-12, elementwise_affine=True)\n",
              "            (dropout): Dropout(p=0.1, inplace=False)\n",
              "          )\n",
              "        )\n",
              "        (2): BertLayer(\n",
              "          (attention): BertAttention(\n",
              "            (self): BertSelfAttention(\n",
              "              (query): Linear(in_features=768, out_features=768, bias=True)\n",
              "              (key): Linear(in_features=768, out_features=768, bias=True)\n",
              "              (value): Linear(in_features=768, out_features=768, bias=True)\n",
              "              (dropout): Dropout(p=0.1, inplace=False)\n",
              "            )\n",
              "            (output): BertSelfOutput(\n",
              "              (dense): Linear(in_features=768, out_features=768, bias=True)\n",
              "              (LayerNorm): LayerNorm((768,), eps=1e-12, elementwise_affine=True)\n",
              "              (dropout): Dropout(p=0.1, inplace=False)\n",
              "            )\n",
              "          )\n",
              "          (intermediate): BertIntermediate(\n",
              "            (dense): Linear(in_features=768, out_features=3072, bias=True)\n",
              "          )\n",
              "          (output): BertOutput(\n",
              "            (dense): Linear(in_features=3072, out_features=768, bias=True)\n",
              "            (LayerNorm): LayerNorm((768,), eps=1e-12, elementwise_affine=True)\n",
              "            (dropout): Dropout(p=0.1, inplace=False)\n",
              "          )\n",
              "        )\n",
              "        (3): BertLayer(\n",
              "          (attention): BertAttention(\n",
              "            (self): BertSelfAttention(\n",
              "              (query): Linear(in_features=768, out_features=768, bias=True)\n",
              "              (key): Linear(in_features=768, out_features=768, bias=True)\n",
              "              (value): Linear(in_features=768, out_features=768, bias=True)\n",
              "              (dropout): Dropout(p=0.1, inplace=False)\n",
              "            )\n",
              "            (output): BertSelfOutput(\n",
              "              (dense): Linear(in_features=768, out_features=768, bias=True)\n",
              "              (LayerNorm): LayerNorm((768,), eps=1e-12, elementwise_affine=True)\n",
              "              (dropout): Dropout(p=0.1, inplace=False)\n",
              "            )\n",
              "          )\n",
              "          (intermediate): BertIntermediate(\n",
              "            (dense): Linear(in_features=768, out_features=3072, bias=True)\n",
              "          )\n",
              "          (output): BertOutput(\n",
              "            (dense): Linear(in_features=3072, out_features=768, bias=True)\n",
              "            (LayerNorm): LayerNorm((768,), eps=1e-12, elementwise_affine=True)\n",
              "            (dropout): Dropout(p=0.1, inplace=False)\n",
              "          )\n",
              "        )\n",
              "        (4): BertLayer(\n",
              "          (attention): BertAttention(\n",
              "            (self): BertSelfAttention(\n",
              "              (query): Linear(in_features=768, out_features=768, bias=True)\n",
              "              (key): Linear(in_features=768, out_features=768, bias=True)\n",
              "              (value): Linear(in_features=768, out_features=768, bias=True)\n",
              "              (dropout): Dropout(p=0.1, inplace=False)\n",
              "            )\n",
              "            (output): BertSelfOutput(\n",
              "              (dense): Linear(in_features=768, out_features=768, bias=True)\n",
              "              (LayerNorm): LayerNorm((768,), eps=1e-12, elementwise_affine=True)\n",
              "              (dropout): Dropout(p=0.1, inplace=False)\n",
              "            )\n",
              "          )\n",
              "          (intermediate): BertIntermediate(\n",
              "            (dense): Linear(in_features=768, out_features=3072, bias=True)\n",
              "          )\n",
              "          (output): BertOutput(\n",
              "            (dense): Linear(in_features=3072, out_features=768, bias=True)\n",
              "            (LayerNorm): LayerNorm((768,), eps=1e-12, elementwise_affine=True)\n",
              "            (dropout): Dropout(p=0.1, inplace=False)\n",
              "          )\n",
              "        )\n",
              "        (5): BertLayer(\n",
              "          (attention): BertAttention(\n",
              "            (self): BertSelfAttention(\n",
              "              (query): Linear(in_features=768, out_features=768, bias=True)\n",
              "              (key): Linear(in_features=768, out_features=768, bias=True)\n",
              "              (value): Linear(in_features=768, out_features=768, bias=True)\n",
              "              (dropout): Dropout(p=0.1, inplace=False)\n",
              "            )\n",
              "            (output): BertSelfOutput(\n",
              "              (dense): Linear(in_features=768, out_features=768, bias=True)\n",
              "              (LayerNorm): LayerNorm((768,), eps=1e-12, elementwise_affine=True)\n",
              "              (dropout): Dropout(p=0.1, inplace=False)\n",
              "            )\n",
              "          )\n",
              "          (intermediate): BertIntermediate(\n",
              "            (dense): Linear(in_features=768, out_features=3072, bias=True)\n",
              "          )\n",
              "          (output): BertOutput(\n",
              "            (dense): Linear(in_features=3072, out_features=768, bias=True)\n",
              "            (LayerNorm): LayerNorm((768,), eps=1e-12, elementwise_affine=True)\n",
              "            (dropout): Dropout(p=0.1, inplace=False)\n",
              "          )\n",
              "        )\n",
              "        (6): BertLayer(\n",
              "          (attention): BertAttention(\n",
              "            (self): BertSelfAttention(\n",
              "              (query): Linear(in_features=768, out_features=768, bias=True)\n",
              "              (key): Linear(in_features=768, out_features=768, bias=True)\n",
              "              (value): Linear(in_features=768, out_features=768, bias=True)\n",
              "              (dropout): Dropout(p=0.1, inplace=False)\n",
              "            )\n",
              "            (output): BertSelfOutput(\n",
              "              (dense): Linear(in_features=768, out_features=768, bias=True)\n",
              "              (LayerNorm): LayerNorm((768,), eps=1e-12, elementwise_affine=True)\n",
              "              (dropout): Dropout(p=0.1, inplace=False)\n",
              "            )\n",
              "          )\n",
              "          (intermediate): BertIntermediate(\n",
              "            (dense): Linear(in_features=768, out_features=3072, bias=True)\n",
              "          )\n",
              "          (output): BertOutput(\n",
              "            (dense): Linear(in_features=3072, out_features=768, bias=True)\n",
              "            (LayerNorm): LayerNorm((768,), eps=1e-12, elementwise_affine=True)\n",
              "            (dropout): Dropout(p=0.1, inplace=False)\n",
              "          )\n",
              "        )\n",
              "        (7): BertLayer(\n",
              "          (attention): BertAttention(\n",
              "            (self): BertSelfAttention(\n",
              "              (query): Linear(in_features=768, out_features=768, bias=True)\n",
              "              (key): Linear(in_features=768, out_features=768, bias=True)\n",
              "              (value): Linear(in_features=768, out_features=768, bias=True)\n",
              "              (dropout): Dropout(p=0.1, inplace=False)\n",
              "            )\n",
              "            (output): BertSelfOutput(\n",
              "              (dense): Linear(in_features=768, out_features=768, bias=True)\n",
              "              (LayerNorm): LayerNorm((768,), eps=1e-12, elementwise_affine=True)\n",
              "              (dropout): Dropout(p=0.1, inplace=False)\n",
              "            )\n",
              "          )\n",
              "          (intermediate): BertIntermediate(\n",
              "            (dense): Linear(in_features=768, out_features=3072, bias=True)\n",
              "          )\n",
              "          (output): BertOutput(\n",
              "            (dense): Linear(in_features=3072, out_features=768, bias=True)\n",
              "            (LayerNorm): LayerNorm((768,), eps=1e-12, elementwise_affine=True)\n",
              "            (dropout): Dropout(p=0.1, inplace=False)\n",
              "          )\n",
              "        )\n",
              "        (8): BertLayer(\n",
              "          (attention): BertAttention(\n",
              "            (self): BertSelfAttention(\n",
              "              (query): Linear(in_features=768, out_features=768, bias=True)\n",
              "              (key): Linear(in_features=768, out_features=768, bias=True)\n",
              "              (value): Linear(in_features=768, out_features=768, bias=True)\n",
              "              (dropout): Dropout(p=0.1, inplace=False)\n",
              "            )\n",
              "            (output): BertSelfOutput(\n",
              "              (dense): Linear(in_features=768, out_features=768, bias=True)\n",
              "              (LayerNorm): LayerNorm((768,), eps=1e-12, elementwise_affine=True)\n",
              "              (dropout): Dropout(p=0.1, inplace=False)\n",
              "            )\n",
              "          )\n",
              "          (intermediate): BertIntermediate(\n",
              "            (dense): Linear(in_features=768, out_features=3072, bias=True)\n",
              "          )\n",
              "          (output): BertOutput(\n",
              "            (dense): Linear(in_features=3072, out_features=768, bias=True)\n",
              "            (LayerNorm): LayerNorm((768,), eps=1e-12, elementwise_affine=True)\n",
              "            (dropout): Dropout(p=0.1, inplace=False)\n",
              "          )\n",
              "        )\n",
              "        (9): BertLayer(\n",
              "          (attention): BertAttention(\n",
              "            (self): BertSelfAttention(\n",
              "              (query): Linear(in_features=768, out_features=768, bias=True)\n",
              "              (key): Linear(in_features=768, out_features=768, bias=True)\n",
              "              (value): Linear(in_features=768, out_features=768, bias=True)\n",
              "              (dropout): Dropout(p=0.1, inplace=False)\n",
              "            )\n",
              "            (output): BertSelfOutput(\n",
              "              (dense): Linear(in_features=768, out_features=768, bias=True)\n",
              "              (LayerNorm): LayerNorm((768,), eps=1e-12, elementwise_affine=True)\n",
              "              (dropout): Dropout(p=0.1, inplace=False)\n",
              "            )\n",
              "          )\n",
              "          (intermediate): BertIntermediate(\n",
              "            (dense): Linear(in_features=768, out_features=3072, bias=True)\n",
              "          )\n",
              "          (output): BertOutput(\n",
              "            (dense): Linear(in_features=3072, out_features=768, bias=True)\n",
              "            (LayerNorm): LayerNorm((768,), eps=1e-12, elementwise_affine=True)\n",
              "            (dropout): Dropout(p=0.1, inplace=False)\n",
              "          )\n",
              "        )\n",
              "        (10): BertLayer(\n",
              "          (attention): BertAttention(\n",
              "            (self): BertSelfAttention(\n",
              "              (query): Linear(in_features=768, out_features=768, bias=True)\n",
              "              (key): Linear(in_features=768, out_features=768, bias=True)\n",
              "              (value): Linear(in_features=768, out_features=768, bias=True)\n",
              "              (dropout): Dropout(p=0.1, inplace=False)\n",
              "            )\n",
              "            (output): BertSelfOutput(\n",
              "              (dense): Linear(in_features=768, out_features=768, bias=True)\n",
              "              (LayerNorm): LayerNorm((768,), eps=1e-12, elementwise_affine=True)\n",
              "              (dropout): Dropout(p=0.1, inplace=False)\n",
              "            )\n",
              "          )\n",
              "          (intermediate): BertIntermediate(\n",
              "            (dense): Linear(in_features=768, out_features=3072, bias=True)\n",
              "          )\n",
              "          (output): BertOutput(\n",
              "            (dense): Linear(in_features=3072, out_features=768, bias=True)\n",
              "            (LayerNorm): LayerNorm((768,), eps=1e-12, elementwise_affine=True)\n",
              "            (dropout): Dropout(p=0.1, inplace=False)\n",
              "          )\n",
              "        )\n",
              "        (11): BertLayer(\n",
              "          (attention): BertAttention(\n",
              "            (self): BertSelfAttention(\n",
              "              (query): Linear(in_features=768, out_features=768, bias=True)\n",
              "              (key): Linear(in_features=768, out_features=768, bias=True)\n",
              "              (value): Linear(in_features=768, out_features=768, bias=True)\n",
              "              (dropout): Dropout(p=0.1, inplace=False)\n",
              "            )\n",
              "            (output): BertSelfOutput(\n",
              "              (dense): Linear(in_features=768, out_features=768, bias=True)\n",
              "              (LayerNorm): LayerNorm((768,), eps=1e-12, elementwise_affine=True)\n",
              "              (dropout): Dropout(p=0.1, inplace=False)\n",
              "            )\n",
              "          )\n",
              "          (intermediate): BertIntermediate(\n",
              "            (dense): Linear(in_features=768, out_features=3072, bias=True)\n",
              "          )\n",
              "          (output): BertOutput(\n",
              "            (dense): Linear(in_features=3072, out_features=768, bias=True)\n",
              "            (LayerNorm): LayerNorm((768,), eps=1e-12, elementwise_affine=True)\n",
              "            (dropout): Dropout(p=0.1, inplace=False)\n",
              "          )\n",
              "        )\n",
              "      )\n",
              "    )\n",
              "    (pooler): BertPooler(\n",
              "      (dense): Linear(in_features=768, out_features=768, bias=True)\n",
              "      (activation): Tanh()\n",
              "    )\n",
              "  )\n",
              "  (dropout): Dropout(p=0.1, inplace=False)\n",
              "  (classifier): Linear(in_features=768, out_features=32, bias=True)\n",
              ")"
            ]
          },
          "metadata": {
            "tags": []
          },
          "execution_count": 19
        }
      ]
    },
    {
      "cell_type": "code",
      "metadata": {
        "colab": {
          "base_uri": "https://localhost:8080/"
        },
        "id": "PGpBuwA55usP",
        "outputId": "c6603ada-bf52-42f7-b579-182416f409ad"
      },
      "source": [
        "# Get all of the model's parameters as a list of tuples.\n",
        "params = list(model.named_parameters())\n",
        "\n",
        "print('The BERT model has {:} different named parameters.\\n'.format(len(params)))\n",
        "\n",
        "print('==== Embedding Layer ====\\n')\n",
        "\n",
        "for p in params[0:5]:\n",
        "    print(\"{:<55} {:>12}\".format(p[0], str(tuple(p[1].size()))))\n",
        "\n",
        "print('\\n==== First Transformer ====\\n')\n",
        "\n",
        "for p in params[5:21]:\n",
        "    print(\"{:<55} {:>12}\".format(p[0], str(tuple(p[1].size()))))\n",
        "\n",
        "print('\\n==== Output Layer ====\\n')\n",
        "\n",
        "for p in params[-4:]:\n",
        "    print(\"{:<55} {:>12}\".format(p[0], str(tuple(p[1].size()))))"
      ],
      "execution_count": null,
      "outputs": [
        {
          "output_type": "stream",
          "text": [
            "The BERT model has 201 different named parameters.\n",
            "\n",
            "==== Embedding Layer ====\n",
            "\n",
            "bert.embeddings.word_embeddings.weight                  (30522, 768)\n",
            "bert.embeddings.position_embeddings.weight                (512, 768)\n",
            "bert.embeddings.token_type_embeddings.weight                (2, 768)\n",
            "bert.embeddings.LayerNorm.weight                              (768,)\n",
            "bert.embeddings.LayerNorm.bias                                (768,)\n",
            "\n",
            "==== First Transformer ====\n",
            "\n",
            "bert.encoder.layer.0.attention.self.query.weight          (768, 768)\n",
            "bert.encoder.layer.0.attention.self.query.bias                (768,)\n",
            "bert.encoder.layer.0.attention.self.key.weight            (768, 768)\n",
            "bert.encoder.layer.0.attention.self.key.bias                  (768,)\n",
            "bert.encoder.layer.0.attention.self.value.weight          (768, 768)\n",
            "bert.encoder.layer.0.attention.self.value.bias                (768,)\n",
            "bert.encoder.layer.0.attention.output.dense.weight        (768, 768)\n",
            "bert.encoder.layer.0.attention.output.dense.bias              (768,)\n",
            "bert.encoder.layer.0.attention.output.LayerNorm.weight        (768,)\n",
            "bert.encoder.layer.0.attention.output.LayerNorm.bias          (768,)\n",
            "bert.encoder.layer.0.intermediate.dense.weight           (3072, 768)\n",
            "bert.encoder.layer.0.intermediate.dense.bias                 (3072,)\n",
            "bert.encoder.layer.0.output.dense.weight                 (768, 3072)\n",
            "bert.encoder.layer.0.output.dense.bias                        (768,)\n",
            "bert.encoder.layer.0.output.LayerNorm.weight                  (768,)\n",
            "bert.encoder.layer.0.output.LayerNorm.bias                    (768,)\n",
            "\n",
            "==== Output Layer ====\n",
            "\n",
            "bert.pooler.dense.weight                                  (768, 768)\n",
            "bert.pooler.dense.bias                                        (768,)\n",
            "classifier.weight                                          (32, 768)\n",
            "classifier.bias                                                (32,)\n"
          ],
          "name": "stdout"
        }
      ]
    },
    {
      "cell_type": "markdown",
      "metadata": {
        "id": "JGsQuNZ66jRH"
      },
      "source": [
        "## 4.2. Optimizer & Learning Rate Scheduler"
      ]
    },
    {
      "cell_type": "markdown",
      "metadata": {
        "id": "nk1JzdZg6kYC"
      },
      "source": [
        "Now the model is loaded, we need to take the training hyperparameters from within the stored model.\n",
        "\n",
        "For the purposes of fine-tuning, the authors recommend choosing from the following values (from Appendix A.3 of the [BERT paper](https://arxiv.org/pdf/1810.04805.pdf)):\n",
        "\n",
        ">- **Batch size:** 16, 32  \n",
        "- **Learning rate (Adam):** 5e-5, 3e-5, 2e-5  \n",
        "- **Number of epochs:** 2, 3, 4 \n",
        "\n",
        "We chose:\n",
        "* Batch size: 32 (set when creating our DataLoaders)\n",
        "* Learning rate: 2e-5\n",
        "* Epochs: 3"
      ]
    },
    {
      "cell_type": "code",
      "metadata": {
        "id": "xtoy2BTV6emA"
      },
      "source": [
        "# Note: AdamW is a class from the huggingface library (as opposed to pytorch) \n",
        "# 'W' stands for 'Weight Decay fix\"\n",
        "optimizer = AdamW(model.parameters(),\n",
        "                  lr = 2e-5, # args.learning_rate - default is 5e-5, our notebook had 2e-5\n",
        "                  eps = 1e-8 # args.adam_epsilon  - default is 1e-8.\n",
        "                )"
      ],
      "execution_count": null,
      "outputs": []
    },
    {
      "cell_type": "code",
      "metadata": {
        "id": "Lv9G0l0g65JO"
      },
      "source": [
        "from transformers import get_linear_schedule_with_warmup\n",
        "\n",
        "# Number of training epochs. The BERT authors recommend between 2 and 4. \n",
        "# We chose to run for 3, after see that anything larger was over-fitting the\n",
        "# training data.\n",
        "epochs = 3\n",
        "\n",
        "# Total number of training steps is [number of batches] x [number of epochs]. \n",
        "# (This is not the same as the number of training samples).\n",
        "total_steps = len(train_dataloader) * epochs\n",
        "\n",
        "# Create the learning rate scheduler.\n",
        "scheduler = get_linear_schedule_with_warmup(optimizer, \n",
        "                                            num_warmup_steps = 0, # Default value in run_glue.py\n",
        "                                            num_training_steps = total_steps)"
      ],
      "execution_count": null,
      "outputs": []
    },
    {
      "cell_type": "markdown",
      "metadata": {
        "id": "1HckO3RO7GKZ"
      },
      "source": [
        "## 4.3. Training Loop"
      ]
    },
    {
      "cell_type": "markdown",
      "metadata": {
        "id": "KLqAhu0_7Hs6"
      },
      "source": [
        "Below is our training loop. In general, we have a training phase and a validation phase for each pass in our loop.\n",
        "\n",
        "\n",
        "**Training:**\n",
        "- Unpack our data inputs and labels\n",
        "- Load data onto the GPU for acceleration\n",
        "- Clear out the gradients calculated in the previous pass. \n",
        "    - In pytorch the gradients accumulate by default (useful for things like RNNs) unless you explicitly clear them out.\n",
        "- Forward pass (feed input data through the network)\n",
        "- Backward pass (backpropagation)\n",
        "- Tell the network to update parameters with optimizer.step()\n",
        "- Track variables for monitoring progress\n",
        "\n",
        "**Evalution:**\n",
        "- Unpack our data inputs and labels\n",
        "- Load data onto the GPU for acceleration\n",
        "- Forward pass (feed input data through the network)\n",
        "- Compute loss on our validation data and track variables for monitoring progress\n",
        "\n",
        "Pytorch hides all of the detailed calculations from us, but we've commented the code to point out which of the above steps are happening on each line."
      ]
    },
    {
      "cell_type": "markdown",
      "metadata": {
        "id": "_7wbIJY47Wa2"
      },
      "source": [
        "Define a helper function for calculating accuracy."
      ]
    },
    {
      "cell_type": "code",
      "metadata": {
        "id": "4GKMW9uv7A-C"
      },
      "source": [
        "# Function to calculate the accuracy of our predictions vs genreID\n",
        "def flat_accuracy(preds, genreID):\n",
        "    pred_flat = np.argmax(preds, axis=1).flatten()\n",
        "    genreID_flat = genreID.flatten()\n",
        "    return np.sum(pred_flat == genreID_flat) / len(genreID_flat)"
      ],
      "execution_count": null,
      "outputs": []
    },
    {
      "cell_type": "markdown",
      "metadata": {
        "id": "N8nXdzvg7uJz"
      },
      "source": [
        "Helper function for formatting elapsed times as hh:mm:ss"
      ]
    },
    {
      "cell_type": "code",
      "metadata": {
        "id": "cl1FJOlT7p5E"
      },
      "source": [
        "import time\n",
        "import datetime\n",
        "\n",
        "def format_time(elapsed):\n",
        "    '''\n",
        "    Takes a time in seconds and returns a string hh:mm:ss\n",
        "    '''\n",
        "    # Round to the nearest second.\n",
        "    elapsed_rounded = int(round((elapsed)))\n",
        "    \n",
        "    # Format as hh:mm:ss\n",
        "    return str(datetime.timedelta(seconds=elapsed_rounded))"
      ],
      "execution_count": null,
      "outputs": []
    },
    {
      "cell_type": "code",
      "metadata": {
        "colab": {
          "base_uri": "https://localhost:8080/"
        },
        "id": "KVIiIERI7y1B",
        "outputId": "c9ee4ac1-cbc7-44e7-a1e6-af44b01aff3f"
      },
      "source": [
        "import random\n",
        "\n",
        "# This training code is based on the `run_glue.py` script here:\n",
        "# https://github.com/huggingface/transformers/blob/5bfcd0485ece086ebcbed2d008813037968a9e58/examples/run_glue.py#L128\n",
        "\n",
        "# Set the seed value all over the place to make this reproducible.\n",
        "seed_val = 42\n",
        "\n",
        "random.seed(seed_val)\n",
        "np.random.seed(seed_val)\n",
        "torch.manual_seed(seed_val)\n",
        "torch.cuda.manual_seed_all(seed_val)\n",
        "\n",
        "# We'll store a number of quantities such as training and validation loss, \n",
        "# validation accuracy, and timings.\n",
        "training_stats = []\n",
        "\n",
        "# Measure the total training time for the whole run.\n",
        "total_t0 = time.time()\n",
        "\n",
        "for epoch_i in range(0, epochs):\n",
        "    \n",
        "    # ========================================\n",
        "    #               Training\n",
        "    # ========================================\n",
        "    \n",
        "    # Perform one full pass over the training set.\n",
        "\n",
        "    print(\"\")\n",
        "    print('======== Epoch {:} / {:} ========'.format(epoch_i + 1, epochs))\n",
        "    print('Training...')\n",
        "\n",
        "    # Measure how long the training epoch takes\n",
        "    t0 = time.time()\n",
        "\n",
        "    # Reset the total loss for this epoch\n",
        "    total_train_loss = 0\n",
        "\n",
        "    # Put the model into training mode. Don't be mislead--the call to \n",
        "    # `train` just changes the *mode*, it doesn't *perform* the training.\n",
        "    # `dropout` and `batchnorm` layers behave differently during training\n",
        "    # vs. test (source: https://stackoverflow.com/questions/51433378/what-does-model-train-do-in-pytorch)\n",
        "    model.train()\n",
        "\n",
        "    # For each batch of training data:\n",
        "    for step, batch in enumerate(train_dataloader):\n",
        "\n",
        "        # Progress update every 40 batches.\n",
        "        if step % 40 == 0 and not step == 0:\n",
        "            # Calculate elapsed time in minutes.\n",
        "            elapsed = format_time(time.time() - t0)\n",
        "            \n",
        "            # Report progress.\n",
        "            print('  Batch {:>5,}  of  {:>5,}.    Elapsed: {:}.'.format(step, len(train_dataloader), elapsed))\n",
        "\n",
        "        # Unpack this training batch from our dataloader. \n",
        "        #\n",
        "        # As we unpack the batch, we'll also copy each tensor to the GPU using the \n",
        "        # `to` method.\n",
        "        #\n",
        "        # `batch` contains three pytorch tensors:\n",
        "        #   [0]: input ids \n",
        "        #   [1]: attention masks\n",
        "        #   [2]: labels \n",
        "        b_input_ids = batch[0].to(device)\n",
        "        b_input_mask = batch[1].to(device)\n",
        "        b_labels = batch[2].to(device)\n",
        "\n",
        "        # Always clear any previously calculated gradients before performing a\n",
        "        # backward pass. PyTorch doesn't do this automatically because \n",
        "        # accumulating the gradients is \"convenient while training RNNs\". \n",
        "        # (source: https://stackoverflow.com/questions/48001598/why-do-we-need-to-call-zero-grad-in-pytorch)\n",
        "        model.zero_grad()        \n",
        "\n",
        "        # Perform a forward pass (evaluate the model on this training batch).\n",
        "        # The documentation for this `model` function is here: \n",
        "        # https://huggingface.co/transformers/v2.2.0/model_doc/bert.html#transformers.BertForSequenceClassification\n",
        "        # It returns different numbers of parameters depending on what arguments\n",
        "        # arge given and what flags are set. For our useage here, it returns\n",
        "        # the loss (because we provided labels) and the \"logits\"--the model\n",
        "        # outputs prior to activation.\n",
        "        loss, logits = model(b_input_ids, \n",
        "                             token_type_ids=None, \n",
        "                             attention_mask=b_input_mask, \n",
        "                             labels=b_labels)\n",
        "\n",
        "        # Accumulate the training loss over all of the batches so that we can\n",
        "        # calculate the average loss at the end. `loss` is a Tensor containing a\n",
        "        # single value; the `.item()` function just returns the Python value \n",
        "        # from the tensor.\n",
        "        total_train_loss += loss.item()\n",
        "\n",
        "        # Perform a backward pass to calculate the gradients.\n",
        "        loss.backward()\n",
        "\n",
        "        # Clip the norm of the gradients to 1.0.\n",
        "        # This is to help prevent the \"exploding gradients\" problem.\n",
        "        torch.nn.utils.clip_grad_norm_(model.parameters(), 1.0)\n",
        "\n",
        "        # Update parameters and take a step using the computed gradient.\n",
        "        # The optimizer dictates the \"update rule\"--how the parameters are\n",
        "        # modified based on their gradients, the learning rate, etc.\n",
        "        optimizer.step()\n",
        "\n",
        "        # Update the learning rate.\n",
        "        scheduler.step()\n",
        "\n",
        "    # Calculate the average loss over all of the batches.\n",
        "    avg_train_loss = total_train_loss / len(train_dataloader)            \n",
        "    \n",
        "    # Measure how long this epoch took.\n",
        "    training_time = format_time(time.time() - t0)\n",
        "\n",
        "    print(\"\")\n",
        "    print(\"  Average training loss: {0:.2f}\".format(avg_train_loss))\n",
        "    print(\"  Training epcoh took: {:}\".format(training_time))\n",
        "        \n",
        "    # ========================================\n",
        "    #               Validation\n",
        "    # ========================================\n",
        "    # After the completion of each training epoch, measure our performance on\n",
        "    # our validation set.\n",
        "\n",
        "    print(\"\")\n",
        "    print(\"Running Validation...\")\n",
        "\n",
        "    t0 = time.time()\n",
        "\n",
        "    # Put the model in evaluation mode--the dropout layers behave differently\n",
        "    # during evaluation.\n",
        "    model.eval()\n",
        "\n",
        "    # Tracking variables \n",
        "    total_eval_accuracy = 0\n",
        "    total_eval_loss = 0\n",
        "    nb_eval_steps = 0\n",
        "\n",
        "    # Evaluate data for one epoch\n",
        "    for batch in validation_dataloader:\n",
        "        \n",
        "        # Unpack this training batch from our dataloader. \n",
        "        #\n",
        "        # As we unpack the batch, we'll also copy each tensor to the GPU using \n",
        "        # the `to` method.\n",
        "        #\n",
        "        # `batch` contains three pytorch tensors:\n",
        "        #   [0]: input ids \n",
        "        #   [1]: attention masks\n",
        "        #   [2]: labels \n",
        "        b_input_ids = batch[0].to(device)\n",
        "        b_input_mask = batch[1].to(device)\n",
        "        b_labels = batch[2].to(device)\n",
        "        \n",
        "        # Tell pytorch not to bother with constructing the compute graph during\n",
        "        # the forward pass, since this is only needed for backprop (training).\n",
        "        with torch.no_grad():        \n",
        "\n",
        "            # Forward pass, calculate logit predictions.\n",
        "            # token_type_ids is the same as the \"segment ids\", which \n",
        "            # differentiates sentence 1 and 2 in 2-sentence tasks.\n",
        "            # The documentation for this `model` function is here: \n",
        "            # https://huggingface.co/transformers/v2.2.0/model_doc/bert.html#transformers.BertForSequenceClassification\n",
        "            # Get the \"logits\" output by the model. The \"logits\" are the output\n",
        "            # values prior to applying an activation function like the softmax.\n",
        "            (loss, logits) = model(b_input_ids, \n",
        "                                   token_type_ids=None, \n",
        "                                   attention_mask=b_input_mask,\n",
        "                                   labels=b_labels)\n",
        "            \n",
        "        # Accumulate the validation loss.\n",
        "        total_eval_loss += loss.item()\n",
        "\n",
        "        # Move logits and labels to CPU\n",
        "        logits = logits.detach().cpu().numpy()\n",
        "        label_ids = b_labels.to('cpu').numpy()\n",
        "\n",
        "        # Calculate the accuracy for this batch of test sentences, and\n",
        "        # accumulate it over all batches.\n",
        "        total_eval_accuracy += flat_accuracy(logits, label_ids)\n",
        "        \n",
        "\n",
        "    # Report the final accuracy for this validation run.\n",
        "    avg_val_accuracy = total_eval_accuracy / len(validation_dataloader)\n",
        "    print(\"  Accuracy: {0:.2f}\".format(avg_val_accuracy))\n",
        "\n",
        "    # Calculate the average loss over all of the batches.\n",
        "    avg_val_loss = total_eval_loss / len(validation_dataloader)\n",
        "    \n",
        "    # Measure how long the validation run took.\n",
        "    validation_time = format_time(time.time() - t0)\n",
        "    \n",
        "    print(\"  Validation Loss: {0:.2f}\".format(avg_val_loss))\n",
        "    print(\"  Validation took: {:}\".format(validation_time))\n",
        "\n",
        "    # Record all statistics from this epoch.\n",
        "    training_stats.append(\n",
        "        {\n",
        "            'epoch': epoch_i + 1,\n",
        "            'Training Loss': avg_train_loss,\n",
        "            'Valid. Loss': avg_val_loss,\n",
        "            'Valid. Accur.': avg_val_accuracy,\n",
        "            'Training Time': training_time,\n",
        "            'Validation Time': validation_time\n",
        "        }\n",
        "    )\n",
        "\n",
        "print(\"\")\n",
        "print(\"Training complete!\")\n",
        "\n",
        "print(\"Total training took {:} (h:mm:ss)\".format(format_time(time.time()-total_t0)))"
      ],
      "execution_count": null,
      "outputs": [
        {
          "output_type": "stream",
          "text": [
            "\n",
            "======== Epoch 1 / 3 ========\n",
            "Training...\n",
            "  Batch    40  of  4,152.    Elapsed: 0:00:30.\n",
            "  Batch    80  of  4,152.    Elapsed: 0:01:01.\n",
            "  Batch   120  of  4,152.    Elapsed: 0:01:33.\n",
            "  Batch   160  of  4,152.    Elapsed: 0:02:04.\n",
            "  Batch   200  of  4,152.    Elapsed: 0:02:35.\n",
            "  Batch   240  of  4,152.    Elapsed: 0:03:06.\n",
            "  Batch   280  of  4,152.    Elapsed: 0:03:37.\n",
            "  Batch   320  of  4,152.    Elapsed: 0:04:09.\n",
            "  Batch   360  of  4,152.    Elapsed: 0:04:40.\n",
            "  Batch   400  of  4,152.    Elapsed: 0:05:11.\n",
            "  Batch   440  of  4,152.    Elapsed: 0:05:42.\n",
            "  Batch   480  of  4,152.    Elapsed: 0:06:13.\n",
            "  Batch   520  of  4,152.    Elapsed: 0:06:45.\n",
            "  Batch   560  of  4,152.    Elapsed: 0:07:16.\n",
            "  Batch   600  of  4,152.    Elapsed: 0:07:47.\n",
            "  Batch   640  of  4,152.    Elapsed: 0:08:18.\n",
            "  Batch   680  of  4,152.    Elapsed: 0:08:49.\n",
            "  Batch   720  of  4,152.    Elapsed: 0:09:20.\n",
            "  Batch   760  of  4,152.    Elapsed: 0:09:52.\n",
            "  Batch   800  of  4,152.    Elapsed: 0:10:23.\n",
            "  Batch   840  of  4,152.    Elapsed: 0:10:54.\n",
            "  Batch   880  of  4,152.    Elapsed: 0:11:25.\n",
            "  Batch   920  of  4,152.    Elapsed: 0:11:57.\n",
            "  Batch   960  of  4,152.    Elapsed: 0:12:28.\n",
            "  Batch 1,000  of  4,152.    Elapsed: 0:12:59.\n",
            "  Batch 1,040  of  4,152.    Elapsed: 0:13:30.\n",
            "  Batch 1,080  of  4,152.    Elapsed: 0:14:02.\n",
            "  Batch 1,120  of  4,152.    Elapsed: 0:14:33.\n",
            "  Batch 1,160  of  4,152.    Elapsed: 0:15:04.\n",
            "  Batch 1,200  of  4,152.    Elapsed: 0:15:35.\n",
            "  Batch 1,240  of  4,152.    Elapsed: 0:16:06.\n",
            "  Batch 1,280  of  4,152.    Elapsed: 0:16:38.\n",
            "  Batch 1,320  of  4,152.    Elapsed: 0:17:09.\n",
            "  Batch 1,360  of  4,152.    Elapsed: 0:17:40.\n",
            "  Batch 1,400  of  4,152.    Elapsed: 0:18:11.\n",
            "  Batch 1,440  of  4,152.    Elapsed: 0:18:42.\n",
            "  Batch 1,480  of  4,152.    Elapsed: 0:19:14.\n",
            "  Batch 1,520  of  4,152.    Elapsed: 0:19:45.\n",
            "  Batch 1,560  of  4,152.    Elapsed: 0:20:16.\n",
            "  Batch 1,600  of  4,152.    Elapsed: 0:20:47.\n",
            "  Batch 1,640  of  4,152.    Elapsed: 0:21:18.\n",
            "  Batch 1,680  of  4,152.    Elapsed: 0:21:50.\n",
            "  Batch 1,720  of  4,152.    Elapsed: 0:22:21.\n",
            "  Batch 1,760  of  4,152.    Elapsed: 0:22:52.\n",
            "  Batch 1,800  of  4,152.    Elapsed: 0:23:23.\n",
            "  Batch 1,840  of  4,152.    Elapsed: 0:23:54.\n",
            "  Batch 1,880  of  4,152.    Elapsed: 0:24:25.\n",
            "  Batch 1,920  of  4,152.    Elapsed: 0:24:57.\n",
            "  Batch 1,960  of  4,152.    Elapsed: 0:25:28.\n",
            "  Batch 2,000  of  4,152.    Elapsed: 0:25:59.\n",
            "  Batch 2,040  of  4,152.    Elapsed: 0:26:30.\n",
            "  Batch 2,080  of  4,152.    Elapsed: 0:27:02.\n",
            "  Batch 2,120  of  4,152.    Elapsed: 0:27:33.\n",
            "  Batch 2,160  of  4,152.    Elapsed: 0:28:04.\n",
            "  Batch 2,200  of  4,152.    Elapsed: 0:28:35.\n",
            "  Batch 2,240  of  4,152.    Elapsed: 0:29:06.\n",
            "  Batch 2,280  of  4,152.    Elapsed: 0:29:38.\n",
            "  Batch 2,320  of  4,152.    Elapsed: 0:30:09.\n",
            "  Batch 2,360  of  4,152.    Elapsed: 0:30:40.\n",
            "  Batch 2,400  of  4,152.    Elapsed: 0:31:11.\n",
            "  Batch 2,440  of  4,152.    Elapsed: 0:31:42.\n",
            "  Batch 2,480  of  4,152.    Elapsed: 0:32:14.\n",
            "  Batch 2,520  of  4,152.    Elapsed: 0:32:45.\n",
            "  Batch 2,560  of  4,152.    Elapsed: 0:33:16.\n",
            "  Batch 2,600  of  4,152.    Elapsed: 0:33:47.\n",
            "  Batch 2,640  of  4,152.    Elapsed: 0:34:18.\n",
            "  Batch 2,680  of  4,152.    Elapsed: 0:34:50.\n",
            "  Batch 2,720  of  4,152.    Elapsed: 0:35:21.\n",
            "  Batch 2,760  of  4,152.    Elapsed: 0:35:52.\n",
            "  Batch 2,800  of  4,152.    Elapsed: 0:36:23.\n",
            "  Batch 2,840  of  4,152.    Elapsed: 0:36:54.\n",
            "  Batch 2,880  of  4,152.    Elapsed: 0:37:25.\n",
            "  Batch 2,920  of  4,152.    Elapsed: 0:37:57.\n",
            "  Batch 2,960  of  4,152.    Elapsed: 0:38:28.\n",
            "  Batch 3,000  of  4,152.    Elapsed: 0:38:59.\n",
            "  Batch 3,040  of  4,152.    Elapsed: 0:39:31.\n",
            "  Batch 3,080  of  4,152.    Elapsed: 0:40:02.\n",
            "  Batch 3,120  of  4,152.    Elapsed: 0:40:33.\n",
            "  Batch 3,160  of  4,152.    Elapsed: 0:41:04.\n",
            "  Batch 3,200  of  4,152.    Elapsed: 0:41:35.\n",
            "  Batch 3,240  of  4,152.    Elapsed: 0:42:07.\n",
            "  Batch 3,280  of  4,152.    Elapsed: 0:42:38.\n",
            "  Batch 3,320  of  4,152.    Elapsed: 0:43:09.\n",
            "  Batch 3,360  of  4,152.    Elapsed: 0:43:40.\n",
            "  Batch 3,400  of  4,152.    Elapsed: 0:44:12.\n",
            "  Batch 3,440  of  4,152.    Elapsed: 0:44:43.\n",
            "  Batch 3,480  of  4,152.    Elapsed: 0:45:14.\n",
            "  Batch 3,520  of  4,152.    Elapsed: 0:45:45.\n",
            "  Batch 3,560  of  4,152.    Elapsed: 0:46:16.\n",
            "  Batch 3,600  of  4,152.    Elapsed: 0:46:47.\n",
            "  Batch 3,640  of  4,152.    Elapsed: 0:47:19.\n",
            "  Batch 3,680  of  4,152.    Elapsed: 0:47:50.\n",
            "  Batch 3,720  of  4,152.    Elapsed: 0:48:21.\n",
            "  Batch 3,760  of  4,152.    Elapsed: 0:48:52.\n",
            "  Batch 3,800  of  4,152.    Elapsed: 0:49:24.\n",
            "  Batch 3,840  of  4,152.    Elapsed: 0:49:55.\n",
            "  Batch 3,880  of  4,152.    Elapsed: 0:50:26.\n",
            "  Batch 3,920  of  4,152.    Elapsed: 0:50:57.\n",
            "  Batch 3,960  of  4,152.    Elapsed: 0:51:28.\n",
            "  Batch 4,000  of  4,152.    Elapsed: 0:51:59.\n",
            "  Batch 4,040  of  4,152.    Elapsed: 0:52:31.\n",
            "  Batch 4,080  of  4,152.    Elapsed: 0:53:02.\n",
            "  Batch 4,120  of  4,152.    Elapsed: 0:53:33.\n",
            "\n",
            "  Average training loss: 1.49\n",
            "  Training epcoh took: 0:53:57\n",
            "\n",
            "Running Validation...\n",
            "  Accuracy: 0.67\n",
            "  Validation Loss: 1.19\n",
            "  Validation took: 0:04:55\n",
            "\n",
            "======== Epoch 2 / 3 ========\n",
            "Training...\n",
            "  Batch    40  of  4,152.    Elapsed: 0:00:31.\n",
            "  Batch    80  of  4,152.    Elapsed: 0:01:02.\n",
            "  Batch   120  of  4,152.    Elapsed: 0:01:34.\n",
            "  Batch   160  of  4,152.    Elapsed: 0:02:05.\n",
            "  Batch   200  of  4,152.    Elapsed: 0:02:36.\n",
            "  Batch   240  of  4,152.    Elapsed: 0:03:07.\n",
            "  Batch   280  of  4,152.    Elapsed: 0:03:38.\n",
            "  Batch   320  of  4,152.    Elapsed: 0:04:09.\n",
            "  Batch   360  of  4,152.    Elapsed: 0:04:41.\n",
            "  Batch   400  of  4,152.    Elapsed: 0:05:12.\n",
            "  Batch   440  of  4,152.    Elapsed: 0:05:43.\n",
            "  Batch   480  of  4,152.    Elapsed: 0:06:14.\n",
            "  Batch   520  of  4,152.    Elapsed: 0:06:46.\n",
            "  Batch   560  of  4,152.    Elapsed: 0:07:17.\n",
            "  Batch   600  of  4,152.    Elapsed: 0:07:48.\n",
            "  Batch   640  of  4,152.    Elapsed: 0:08:19.\n",
            "  Batch   680  of  4,152.    Elapsed: 0:08:50.\n",
            "  Batch   720  of  4,152.    Elapsed: 0:09:21.\n",
            "  Batch   760  of  4,152.    Elapsed: 0:09:53.\n",
            "  Batch   800  of  4,152.    Elapsed: 0:10:24.\n",
            "  Batch   840  of  4,152.    Elapsed: 0:10:55.\n",
            "  Batch   880  of  4,152.    Elapsed: 0:11:26.\n",
            "  Batch   920  of  4,152.    Elapsed: 0:11:57.\n",
            "  Batch   960  of  4,152.    Elapsed: 0:12:29.\n",
            "  Batch 1,000  of  4,152.    Elapsed: 0:13:00.\n",
            "  Batch 1,040  of  4,152.    Elapsed: 0:13:31.\n",
            "  Batch 1,080  of  4,152.    Elapsed: 0:14:02.\n",
            "  Batch 1,120  of  4,152.    Elapsed: 0:14:33.\n",
            "  Batch 1,160  of  4,152.    Elapsed: 0:15:04.\n",
            "  Batch 1,200  of  4,152.    Elapsed: 0:15:36.\n",
            "  Batch 1,240  of  4,152.    Elapsed: 0:16:07.\n",
            "  Batch 1,280  of  4,152.    Elapsed: 0:16:38.\n",
            "  Batch 1,320  of  4,152.    Elapsed: 0:17:09.\n",
            "  Batch 1,360  of  4,152.    Elapsed: 0:17:40.\n",
            "  Batch 1,400  of  4,152.    Elapsed: 0:18:11.\n",
            "  Batch 1,440  of  4,152.    Elapsed: 0:18:43.\n",
            "  Batch 1,480  of  4,152.    Elapsed: 0:19:14.\n",
            "  Batch 1,520  of  4,152.    Elapsed: 0:19:45.\n",
            "  Batch 1,560  of  4,152.    Elapsed: 0:20:16.\n",
            "  Batch 1,600  of  4,152.    Elapsed: 0:20:47.\n",
            "  Batch 1,640  of  4,152.    Elapsed: 0:21:19.\n",
            "  Batch 1,680  of  4,152.    Elapsed: 0:21:50.\n",
            "  Batch 1,720  of  4,152.    Elapsed: 0:22:21.\n",
            "  Batch 1,760  of  4,152.    Elapsed: 0:22:52.\n",
            "  Batch 1,800  of  4,152.    Elapsed: 0:23:23.\n",
            "  Batch 1,840  of  4,152.    Elapsed: 0:23:54.\n",
            "  Batch 1,880  of  4,152.    Elapsed: 0:24:26.\n",
            "  Batch 1,920  of  4,152.    Elapsed: 0:24:57.\n",
            "  Batch 1,960  of  4,152.    Elapsed: 0:25:28.\n",
            "  Batch 2,000  of  4,152.    Elapsed: 0:25:59.\n",
            "  Batch 2,040  of  4,152.    Elapsed: 0:26:31.\n",
            "  Batch 2,080  of  4,152.    Elapsed: 0:27:02.\n",
            "  Batch 2,120  of  4,152.    Elapsed: 0:27:33.\n",
            "  Batch 2,160  of  4,152.    Elapsed: 0:28:04.\n",
            "  Batch 2,200  of  4,152.    Elapsed: 0:28:36.\n",
            "  Batch 2,240  of  4,152.    Elapsed: 0:29:07.\n",
            "  Batch 2,280  of  4,152.    Elapsed: 0:29:38.\n",
            "  Batch 2,320  of  4,152.    Elapsed: 0:30:09.\n",
            "  Batch 2,360  of  4,152.    Elapsed: 0:30:40.\n",
            "  Batch 2,400  of  4,152.    Elapsed: 0:31:11.\n",
            "  Batch 2,440  of  4,152.    Elapsed: 0:31:43.\n",
            "  Batch 2,480  of  4,152.    Elapsed: 0:32:14.\n",
            "  Batch 2,520  of  4,152.    Elapsed: 0:32:45.\n",
            "  Batch 2,560  of  4,152.    Elapsed: 0:33:16.\n",
            "  Batch 2,600  of  4,152.    Elapsed: 0:33:47.\n",
            "  Batch 2,640  of  4,152.    Elapsed: 0:34:19.\n",
            "  Batch 2,680  of  4,152.    Elapsed: 0:34:50.\n",
            "  Batch 2,720  of  4,152.    Elapsed: 0:35:21.\n",
            "  Batch 2,760  of  4,152.    Elapsed: 0:35:52.\n",
            "  Batch 2,800  of  4,152.    Elapsed: 0:36:24.\n",
            "  Batch 2,840  of  4,152.    Elapsed: 0:36:55.\n",
            "  Batch 2,880  of  4,152.    Elapsed: 0:37:26.\n",
            "  Batch 2,920  of  4,152.    Elapsed: 0:37:57.\n",
            "  Batch 2,960  of  4,152.    Elapsed: 0:38:28.\n",
            "  Batch 3,000  of  4,152.    Elapsed: 0:39:00.\n",
            "  Batch 3,040  of  4,152.    Elapsed: 0:39:31.\n",
            "  Batch 3,080  of  4,152.    Elapsed: 0:40:02.\n",
            "  Batch 3,120  of  4,152.    Elapsed: 0:40:33.\n",
            "  Batch 3,160  of  4,152.    Elapsed: 0:41:04.\n",
            "  Batch 3,200  of  4,152.    Elapsed: 0:41:35.\n",
            "  Batch 3,240  of  4,152.    Elapsed: 0:42:07.\n",
            "  Batch 3,280  of  4,152.    Elapsed: 0:42:38.\n",
            "  Batch 3,320  of  4,152.    Elapsed: 0:43:09.\n",
            "  Batch 3,360  of  4,152.    Elapsed: 0:43:40.\n",
            "  Batch 3,400  of  4,152.    Elapsed: 0:44:12.\n",
            "  Batch 3,440  of  4,152.    Elapsed: 0:44:43.\n",
            "  Batch 3,480  of  4,152.    Elapsed: 0:45:14.\n",
            "  Batch 3,520  of  4,152.    Elapsed: 0:45:45.\n",
            "  Batch 3,560  of  4,152.    Elapsed: 0:46:16.\n",
            "  Batch 3,600  of  4,152.    Elapsed: 0:46:47.\n",
            "  Batch 3,640  of  4,152.    Elapsed: 0:47:19.\n",
            "  Batch 3,680  of  4,152.    Elapsed: 0:47:50.\n",
            "  Batch 3,720  of  4,152.    Elapsed: 0:48:21.\n",
            "  Batch 3,760  of  4,152.    Elapsed: 0:48:52.\n",
            "  Batch 3,800  of  4,152.    Elapsed: 0:49:23.\n",
            "  Batch 3,840  of  4,152.    Elapsed: 0:49:54.\n",
            "  Batch 3,880  of  4,152.    Elapsed: 0:50:26.\n",
            "  Batch 3,920  of  4,152.    Elapsed: 0:50:57.\n",
            "  Batch 3,960  of  4,152.    Elapsed: 0:51:28.\n",
            "  Batch 4,000  of  4,152.    Elapsed: 0:51:59.\n",
            "  Batch 4,040  of  4,152.    Elapsed: 0:52:31.\n",
            "  Batch 4,080  of  4,152.    Elapsed: 0:53:02.\n",
            "  Batch 4,120  of  4,152.    Elapsed: 0:53:33.\n",
            "\n",
            "  Average training loss: 1.03\n",
            "  Training epcoh took: 0:53:57\n",
            "\n",
            "Running Validation...\n",
            "  Accuracy: 0.69\n",
            "  Validation Loss: 1.12\n",
            "  Validation took: 0:04:54\n",
            "\n",
            "======== Epoch 3 / 3 ========\n",
            "Training...\n",
            "  Batch    40  of  4,152.    Elapsed: 0:00:31.\n",
            "  Batch    80  of  4,152.    Elapsed: 0:01:02.\n",
            "  Batch   120  of  4,152.    Elapsed: 0:01:34.\n",
            "  Batch   160  of  4,152.    Elapsed: 0:02:05.\n",
            "  Batch   200  of  4,152.    Elapsed: 0:02:36.\n",
            "  Batch   240  of  4,152.    Elapsed: 0:03:07.\n",
            "  Batch   280  of  4,152.    Elapsed: 0:03:38.\n",
            "  Batch   320  of  4,152.    Elapsed: 0:04:10.\n",
            "  Batch   360  of  4,152.    Elapsed: 0:04:41.\n",
            "  Batch   400  of  4,152.    Elapsed: 0:05:12.\n",
            "  Batch   440  of  4,152.    Elapsed: 0:05:43.\n",
            "  Batch   480  of  4,152.    Elapsed: 0:06:14.\n",
            "  Batch   520  of  4,152.    Elapsed: 0:06:45.\n",
            "  Batch   560  of  4,152.    Elapsed: 0:07:17.\n",
            "  Batch   600  of  4,152.    Elapsed: 0:07:48.\n",
            "  Batch   640  of  4,152.    Elapsed: 0:08:19.\n",
            "  Batch   680  of  4,152.    Elapsed: 0:08:50.\n",
            "  Batch   720  of  4,152.    Elapsed: 0:09:21.\n",
            "  Batch   760  of  4,152.    Elapsed: 0:09:53.\n",
            "  Batch   800  of  4,152.    Elapsed: 0:10:24.\n",
            "  Batch   840  of  4,152.    Elapsed: 0:10:55.\n",
            "  Batch   880  of  4,152.    Elapsed: 0:11:26.\n",
            "  Batch   920  of  4,152.    Elapsed: 0:11:57.\n",
            "  Batch   960  of  4,152.    Elapsed: 0:12:28.\n",
            "  Batch 1,000  of  4,152.    Elapsed: 0:13:00.\n",
            "  Batch 1,040  of  4,152.    Elapsed: 0:13:31.\n",
            "  Batch 1,080  of  4,152.    Elapsed: 0:14:02.\n",
            "  Batch 1,120  of  4,152.    Elapsed: 0:14:33.\n",
            "  Batch 1,160  of  4,152.    Elapsed: 0:15:04.\n",
            "  Batch 1,200  of  4,152.    Elapsed: 0:15:36.\n",
            "  Batch 1,240  of  4,152.    Elapsed: 0:16:07.\n",
            "  Batch 1,280  of  4,152.    Elapsed: 0:16:38.\n",
            "  Batch 1,320  of  4,152.    Elapsed: 0:17:09.\n",
            "  Batch 1,360  of  4,152.    Elapsed: 0:17:41.\n",
            "  Batch 1,400  of  4,152.    Elapsed: 0:18:12.\n",
            "  Batch 1,440  of  4,152.    Elapsed: 0:18:43.\n",
            "  Batch 1,480  of  4,152.    Elapsed: 0:19:14.\n",
            "  Batch 1,520  of  4,152.    Elapsed: 0:19:45.\n",
            "  Batch 1,560  of  4,152.    Elapsed: 0:20:16.\n",
            "  Batch 1,600  of  4,152.    Elapsed: 0:20:48.\n",
            "  Batch 1,640  of  4,152.    Elapsed: 0:21:19.\n",
            "  Batch 1,680  of  4,152.    Elapsed: 0:21:50.\n",
            "  Batch 1,720  of  4,152.    Elapsed: 0:22:21.\n",
            "  Batch 1,760  of  4,152.    Elapsed: 0:22:52.\n",
            "  Batch 1,800  of  4,152.    Elapsed: 0:23:24.\n",
            "  Batch 1,840  of  4,152.    Elapsed: 0:23:55.\n",
            "  Batch 1,880  of  4,152.    Elapsed: 0:24:26.\n",
            "  Batch 1,920  of  4,152.    Elapsed: 0:24:57.\n",
            "  Batch 1,960  of  4,152.    Elapsed: 0:25:29.\n",
            "  Batch 2,000  of  4,152.    Elapsed: 0:26:00.\n",
            "  Batch 2,040  of  4,152.    Elapsed: 0:26:31.\n",
            "  Batch 2,080  of  4,152.    Elapsed: 0:27:02.\n",
            "  Batch 2,120  of  4,152.    Elapsed: 0:27:33.\n",
            "  Batch 2,160  of  4,152.    Elapsed: 0:28:04.\n",
            "  Batch 2,200  of  4,152.    Elapsed: 0:28:36.\n",
            "  Batch 2,240  of  4,152.    Elapsed: 0:29:07.\n",
            "  Batch 2,280  of  4,152.    Elapsed: 0:29:38.\n",
            "  Batch 2,320  of  4,152.    Elapsed: 0:30:09.\n",
            "  Batch 2,360  of  4,152.    Elapsed: 0:30:40.\n",
            "  Batch 2,400  of  4,152.    Elapsed: 0:31:11.\n",
            "  Batch 2,440  of  4,152.    Elapsed: 0:31:43.\n",
            "  Batch 2,480  of  4,152.    Elapsed: 0:32:14.\n",
            "  Batch 2,520  of  4,152.    Elapsed: 0:32:45.\n",
            "  Batch 2,560  of  4,152.    Elapsed: 0:33:16.\n",
            "  Batch 2,600  of  4,152.    Elapsed: 0:33:47.\n",
            "  Batch 2,640  of  4,152.    Elapsed: 0:34:19.\n",
            "  Batch 2,680  of  4,152.    Elapsed: 0:34:50.\n",
            "  Batch 2,720  of  4,152.    Elapsed: 0:35:21.\n",
            "  Batch 2,760  of  4,152.    Elapsed: 0:35:52.\n",
            "  Batch 2,800  of  4,152.    Elapsed: 0:36:23.\n",
            "  Batch 2,840  of  4,152.    Elapsed: 0:36:54.\n",
            "  Batch 2,880  of  4,152.    Elapsed: 0:37:25.\n",
            "  Batch 2,920  of  4,152.    Elapsed: 0:37:57.\n",
            "  Batch 2,960  of  4,152.    Elapsed: 0:38:28.\n",
            "  Batch 3,000  of  4,152.    Elapsed: 0:38:59.\n",
            "  Batch 3,040  of  4,152.    Elapsed: 0:39:30.\n",
            "  Batch 3,080  of  4,152.    Elapsed: 0:40:01.\n",
            "  Batch 3,120  of  4,152.    Elapsed: 0:40:32.\n",
            "  Batch 3,160  of  4,152.    Elapsed: 0:41:03.\n",
            "  Batch 3,200  of  4,152.    Elapsed: 0:41:35.\n",
            "  Batch 3,240  of  4,152.    Elapsed: 0:42:06.\n",
            "  Batch 3,280  of  4,152.    Elapsed: 0:42:37.\n",
            "  Batch 3,320  of  4,152.    Elapsed: 0:43:08.\n",
            "  Batch 3,360  of  4,152.    Elapsed: 0:43:39.\n",
            "  Batch 3,400  of  4,152.    Elapsed: 0:44:10.\n",
            "  Batch 3,440  of  4,152.    Elapsed: 0:44:42.\n",
            "  Batch 3,480  of  4,152.    Elapsed: 0:45:13.\n",
            "  Batch 3,520  of  4,152.    Elapsed: 0:45:44.\n",
            "  Batch 3,560  of  4,152.    Elapsed: 0:46:15.\n",
            "  Batch 3,600  of  4,152.    Elapsed: 0:46:46.\n",
            "  Batch 3,640  of  4,152.    Elapsed: 0:47:17.\n",
            "  Batch 3,680  of  4,152.    Elapsed: 0:47:49.\n",
            "  Batch 3,720  of  4,152.    Elapsed: 0:48:20.\n",
            "  Batch 3,760  of  4,152.    Elapsed: 0:48:51.\n",
            "  Batch 3,800  of  4,152.    Elapsed: 0:49:22.\n",
            "  Batch 3,840  of  4,152.    Elapsed: 0:49:53.\n",
            "  Batch 3,880  of  4,152.    Elapsed: 0:50:24.\n",
            "  Batch 3,920  of  4,152.    Elapsed: 0:50:56.\n",
            "  Batch 3,960  of  4,152.    Elapsed: 0:51:27.\n",
            "  Batch 4,000  of  4,152.    Elapsed: 0:51:58.\n",
            "  Batch 4,040  of  4,152.    Elapsed: 0:52:29.\n",
            "  Batch 4,080  of  4,152.    Elapsed: 0:53:00.\n",
            "  Batch 4,120  of  4,152.    Elapsed: 0:53:31.\n",
            "\n",
            "  Average training loss: 0.83\n",
            "  Training epcoh took: 0:53:56\n",
            "\n",
            "Running Validation...\n",
            "  Accuracy: 0.69\n",
            "  Validation Loss: 1.13\n",
            "  Validation took: 0:04:55\n",
            "\n",
            "Training complete!\n",
            "Total training took 2:56:35 (h:mm:ss)\n"
          ],
          "name": "stdout"
        }
      ]
    },
    {
      "cell_type": "markdown",
      "metadata": {
        "id": "DG-Yz6fKDmeM"
      },
      "source": [
        "Let's view the summary of the training process."
      ]
    },
    {
      "cell_type": "code",
      "metadata": {
        "id": "cmjgaoOY8w2y",
        "colab": {
          "base_uri": "https://localhost:8080/",
          "height": 173
        },
        "outputId": "34b3bca6-8e8d-40fc-f131-fcabf83fcdef"
      },
      "source": [
        "import pandas as pd\n",
        "\n",
        "# Display floats with two decimal places.\n",
        "pd.set_option('precision', 2)\n",
        "\n",
        "# Create a DataFrame from our training statistics.\n",
        "df_stats = pd.DataFrame(data=training_stats)\n",
        "\n",
        "# Use the 'epoch' as the row index.\n",
        "df_stats = df_stats.set_index('epoch')\n",
        "\n",
        "# A hack to force the column headers to wrap.\n",
        "df = df.style.set_table_styles([dict(selector=\"th\",props=[('max-width', '70px')])])\n",
        "\n",
        "# Display the table.\n",
        "df_stats"
      ],
      "execution_count": null,
      "outputs": [
        {
          "output_type": "execute_result",
          "data": {
            "text/html": [
              "<div>\n",
              "<style scoped>\n",
              "    .dataframe tbody tr th:only-of-type {\n",
              "        vertical-align: middle;\n",
              "    }\n",
              "\n",
              "    .dataframe tbody tr th {\n",
              "        vertical-align: top;\n",
              "    }\n",
              "\n",
              "    .dataframe thead th {\n",
              "        text-align: right;\n",
              "    }\n",
              "</style>\n",
              "<table border=\"1\" class=\"dataframe\">\n",
              "  <thead>\n",
              "    <tr style=\"text-align: right;\">\n",
              "      <th></th>\n",
              "      <th>Training Loss</th>\n",
              "      <th>Valid. Loss</th>\n",
              "      <th>Valid. Accur.</th>\n",
              "      <th>Training Time</th>\n",
              "      <th>Validation Time</th>\n",
              "    </tr>\n",
              "    <tr>\n",
              "      <th>epoch</th>\n",
              "      <th></th>\n",
              "      <th></th>\n",
              "      <th></th>\n",
              "      <th></th>\n",
              "      <th></th>\n",
              "    </tr>\n",
              "  </thead>\n",
              "  <tbody>\n",
              "    <tr>\n",
              "      <th>1</th>\n",
              "      <td>1.49</td>\n",
              "      <td>1.19</td>\n",
              "      <td>0.67</td>\n",
              "      <td>0:53:57</td>\n",
              "      <td>0:04:55</td>\n",
              "    </tr>\n",
              "    <tr>\n",
              "      <th>2</th>\n",
              "      <td>1.03</td>\n",
              "      <td>1.12</td>\n",
              "      <td>0.69</td>\n",
              "      <td>0:53:57</td>\n",
              "      <td>0:04:54</td>\n",
              "    </tr>\n",
              "    <tr>\n",
              "      <th>3</th>\n",
              "      <td>0.83</td>\n",
              "      <td>1.13</td>\n",
              "      <td>0.69</td>\n",
              "      <td>0:53:56</td>\n",
              "      <td>0:04:55</td>\n",
              "    </tr>\n",
              "  </tbody>\n",
              "</table>\n",
              "</div>"
            ],
            "text/plain": [
              "       Training Loss  Valid. Loss  Valid. Accur. Training Time Validation Time\n",
              "epoch                                                                         \n",
              "1               1.49         1.19           0.67       0:53:57         0:04:55\n",
              "2               1.03         1.12           0.69       0:53:57         0:04:54\n",
              "3               0.83         1.13           0.69       0:53:56         0:04:55"
            ]
          },
          "metadata": {
            "tags": []
          },
          "execution_count": 29
        }
      ]
    },
    {
      "cell_type": "code",
      "metadata": {
        "colab": {
          "base_uri": "https://localhost:8080/",
          "height": 427
        },
        "id": "ghMpe3CCDq13",
        "outputId": "cc4ae7f3-617e-4758-c960-383b7311e7c3"
      },
      "source": [
        "import matplotlib.pyplot as plt\n",
        "% matplotlib inline\n",
        "import seaborn as sns\n",
        "\n",
        "# Use plot styling from seaborn.\n",
        "sns.set(style='darkgrid')\n",
        "\n",
        "# Increase the plot size and font size.\n",
        "sns.set(font_scale=1.5)\n",
        "plt.rcParams[\"figure.figsize\"] = (12,6)\n",
        "\n",
        "# Plot the learning curve.\n",
        "plt.plot(df_stats['Training Loss'], 'b-o', label=\"Training\")\n",
        "plt.plot(df_stats['Valid. Loss'], 'g-o', label=\"Validation\")\n",
        "\n",
        "# Label the plot.\n",
        "plt.title(\"Training & Validation Loss\")\n",
        "plt.xlabel(\"Epoch\")\n",
        "plt.ylabel(\"Loss\")\n",
        "plt.legend()\n",
        "plt.xticks([1, 2,3,4])\n",
        "\n",
        "plt.show()"
      ],
      "execution_count": null,
      "outputs": [
        {
          "output_type": "display_data",
          "data": {
            "image/png": "[encoded data removed]",
            "text/plain": [
              "<Figure size 864x432 with 1 Axes>"
            ]
          },
          "metadata": {
            "tags": []
          }
        }
      ]
    },
    {
      "cell_type": "markdown",
      "metadata": {
        "id": "1XpyYH-CEXO6"
      },
      "source": [
        "# 5. Performance On Test Set"
      ]
    },
    {
      "cell_type": "markdown",
      "metadata": {
        "id": "-guNz9TLEY62"
      },
      "source": [
        "Now we'll load the holdout dataset and prepare inputs just as we did with the training set. Then we'll evaluate predictions using Matthew's correlation coefficient because this is the metric used by the wider NLP community to evaluate performance on CoLA. With this metric, +1 is the best score, and -1 is the worst score. This way, we can see how well we perform against the state of the art models for this specific task."
      ]
    },
    {
      "cell_type": "markdown",
      "metadata": {
        "id": "4S4gzPtUElAX"
      },
      "source": [
        "### 5.1. Data Preparation"
      ]
    },
    {
      "cell_type": "markdown",
      "metadata": {
        "id": "3PeNKT46Emgm"
      },
      "source": [
        "We'll need to apply all of the same steps that we did for the training data to prepare our test data set."
      ]
    },
    {
      "cell_type": "code",
      "metadata": {
        "id": "V1pWQdbkWwi1"
      },
      "source": [
        "# import test dataset\n",
        "df = pd.read_csv('/drive/My Drive/BERTtrain.csv',encoding='latin1')"
      ],
      "execution_count": null,
      "outputs": []
    },
    {
      "cell_type": "code",
      "metadata": {
        "colab": {
          "base_uri": "https://localhost:8080/"
        },
        "id": "WsxAklXBpI1l",
        "outputId": "eca8841a-d2e6-4995-f057-ab8eeb4ef0fc"
      },
      "source": [
        "# Report the number of titles.\n",
        "print('Number of test titles: {:,}\\n'.format(df.shape[0]))\n",
        "\n",
        "\n",
        "# Create titles and genreID lists\n",
        "titles = df['Title'].values \n",
        "genreID = df['GenreID'].values\n",
        "\n",
        "# Tokenize all of the titles and map the tokens to thier word IDs.\n",
        "input_ids = []\n",
        "attention_masks = []\n",
        "\n",
        "# For every titles...\n",
        "for title in titles:\n",
        "    # `encode_plus` will:\n",
        "    #   (1) Tokenize the title.\n",
        "    #   (2) Prepend the `[CLS]` token to the start.\n",
        "    #   (3) Append the `[SEP]` token to the end.\n",
        "    #   (4) Map tokens to their IDs.\n",
        "    #   (5) Pad or truncate the title to `max_length`\n",
        "    #   (6) Create attention masks for [PAD] tokens.\n",
        "    encoded_dict = tokenizer.encode_plus(\n",
        "                        title,                      # Sentence to encode.\n",
        "                        add_special_tokens = True, # Add '[CLS]' and '[SEP]'\n",
        "                        max_length = 140,           # Pad & truncate all titles.\n",
        "                        pad_to_max_length = True,\n",
        "                        return_attention_mask = True,   # Construct attn. masks.\n",
        "                        return_tensors = 'pt',     # Return pytorch tensors.\n",
        "                   )\n",
        "\n",
        "    # Add the encoded title to the list.    \n",
        "    input_ids.append(encoded_dict['input_ids'])\n",
        "    \n",
        "    # And its attention mask (simply differentiates padding from non-padding).\n",
        "    attention_masks.append(encoded_dict['attention_mask'])\n",
        "\n",
        "# Convert the lists into tensors.\n",
        "input_ids = torch.cat(input_ids, dim=0)\n",
        "attention_masks = torch.cat(attention_masks, dim=0)\n",
        "genreID = torch.tensor(genreID)\n",
        "\n",
        "# Set the batch size.  \n",
        "batch_size = 32  \n",
        "\n",
        "# Create the DataLoader.\n",
        "prediction_data = TensorDataset(input_ids, attention_masks, genreID)\n",
        "prediction_sampler = SequentialSampler(prediction_data)\n",
        "prediction_dataloader = DataLoader(prediction_data, sampler=prediction_sampler, batch_size=batch_size)"
      ],
      "execution_count": null,
      "outputs": [
        {
          "output_type": "stream",
          "text": [
            "Number of test titles: 41,518\n",
            "\n"
          ],
          "name": "stdout"
        },
        {
          "output_type": "stream",
          "text": [
            "/usr/local/lib/python3.6/dist-packages/transformers/tokenization_utils_base.py:2022: FutureWarning: The `pad_to_max_length` argument is deprecated and will be removed in a future version, use `padding=True` or `padding='longest'` to pad to the longest sequence in the batch, or use `padding='max_length'` to pad to a max length. In this case, you can give a specific length with `max_length` (e.g. `max_length=45`) or leave max_length to None to pad to the maximal input size of the model (e.g. 512 for Bert).\n",
            "  FutureWarning,\n"
          ],
          "name": "stderr"
        }
      ]
    },
    {
      "cell_type": "markdown",
      "metadata": {
        "id": "Qalq6NBntco4"
      },
      "source": [
        "## 5.2. Evaluate on Test Set\n"
      ]
    },
    {
      "cell_type": "markdown",
      "metadata": {
        "id": "WYSLHKUvteKK"
      },
      "source": [
        "With the test set prepared, we can apply our fine-tuned model to generate predictions on the test set."
      ]
    },
    {
      "cell_type": "code",
      "metadata": {
        "colab": {
          "base_uri": "https://localhost:8080/"
        },
        "id": "ugCmK0iNsXdD",
        "outputId": "f5f0c861-c1ee-4249-9401-a235ae62c710"
      },
      "source": [
        "# Prediction on test set\n",
        "\n",
        "print('Predicting labels for {:,} test sentences...'.format(len(input_ids)))\n",
        "\n",
        "# Put model in evaluation mode\n",
        "model.eval()\n",
        "\n",
        "# Tracking variables \n",
        "predictions , true_labels = [], []\n",
        "\n",
        "# Predict \n",
        "for batch in prediction_dataloader:\n",
        "  # Add batch to GPU\n",
        "  batch = tuple(t.to(device) for t in batch)\n",
        "  \n",
        "  # Unpack the inputs from our dataloader\n",
        "  b_input_ids, b_input_mask, b_labels = batch\n",
        "  \n",
        "  # Telling the model not to compute or store gradients, saving memory and \n",
        "  # speeding up prediction\n",
        "  with torch.no_grad():\n",
        "      # Forward pass, calculate logit predictions\n",
        "      outputs = model(b_input_ids, token_type_ids=None, \n",
        "                      attention_mask=b_input_mask)\n",
        "\n",
        "  logits = outputs[0]\n",
        "\n",
        "  # Move logits and labels to CPU\n",
        "  logits = logits.detach().cpu().numpy()\n",
        "  label_ids = b_labels.to('cpu').numpy()\n",
        "  \n",
        "  # Store predictions and true labels\n",
        "  predictions.append(logits)\n",
        "  true_labels.append(label_ids)\n",
        "\n",
        "print('    DONE.')"
      ],
      "execution_count": null,
      "outputs": [
        {
          "output_type": "stream",
          "text": [
            "Predicting labels for 41,518 test sentences...\n",
            "    DONE.\n"
          ],
          "name": "stdout"
        }
      ]
    },
    {
      "cell_type": "code",
      "metadata": {
        "id": "hFfHGdrFeU2B"
      },
      "source": [
        "# Combine the results across all batches. \n",
        "flat_predictions = np.concatenate(predictions, axis=0)\n",
        "\n",
        "# For each sample, pick the genre (1-32) with the higher score.\n",
        "flat_predictions = np.argmax(flat_predictions, axis=1).flatten()\n",
        "\n",
        "# Combine the correct labels (genres) for each batch into a single list.\n",
        "flat_true_labels = np.concatenate(true_labels, axis=0)"
      ],
      "execution_count": null,
      "outputs": []
    },
    {
      "cell_type": "code",
      "metadata": {
        "id": "eBiRw8PXOdJd",
        "colab": {
          "base_uri": "https://localhost:8080/"
        },
        "outputId": "0a2c65d8-6b08-4a51-d5de-a3447c0d01f5"
      },
      "source": [
        "# compute overall accuracy, precision, recall, f1 scores\n",
        "from sklearn.metrics import accuracy_score\n",
        "from sklearn.metrics import precision_score\n",
        "from sklearn.metrics import recall_score\n",
        "from sklearn.metrics import f1_score\n",
        "\n",
        "# weighted = same as macroaveraging but with auto weights\n",
        "print('Accuracy: ', accuracy_score(flat_true_labels, flat_predictions))\n",
        "print('Precision: ', precision_score(flat_true_labels, flat_predictions, average='weighted', zero_division=1))\n",
        "print('Recall: ', recall_score(flat_true_labels, flat_predictions, average='weighted', zero_division=1))\n",
        "print('F1:', f1_score(flat_true_labels, flat_predictions, average='weighted'))"
      ],
      "execution_count": null,
      "outputs": [
        {
          "output_type": "stream",
          "text": [
            "Accuracy:  0.6864251649886796\n",
            "Precision:  0.68431838387638\n",
            "Recall:  0.6864251649886796\n",
            "F1: 0.6845730322123129\n"
          ],
          "name": "stdout"
        }
      ]
    },
    {
      "cell_type": "code",
      "metadata": {
        "colab": {
          "base_uri": "https://localhost:8080/"
        },
        "id": "-WjzjuLjdtWY",
        "outputId": "5b6970da-3fc1-49cd-b264-eaf82202216d"
      },
      "source": [
        "# compute precision, recall, fscore, support scores by genre\n",
        "from sklearn.metrics import precision_recall_fscore_support as score\n",
        "\n",
        "predicted = flat_predictions\n",
        "y_test = flat_true_labels\n",
        "\n",
        "# precision, recall, fscore, support separated by genre\n",
        "precision, recall, fscore, support = score(y_test, predicted)\n",
        "\n",
        "df_acc = pd.DataFrame()\n",
        "df_acc['precision']=pd.Series(precision)\n",
        "df_acc['recall']=pd.Series(recall)\n",
        "df_acc['fscore']=pd.Series(fscore)\n",
        "df_acc['support']=pd.Series(support)\n",
        "\n",
        "print(df_acc)\n",
        "# indexing corresponds to genre ID (e.g. 0=Arts & Photography)"
      ],
      "execution_count": null,
      "outputs": [
        {
          "output_type": "stream",
          "text": [
            "                              precision  recall  fscore  support\n",
            "Calendars                          0.60    0.60    0.60     1329\n",
            "Comics & Graphic Novels            0.40    0.39    0.40      848\n",
            "Test Preparation                   0.72    0.74    0.73     1962\n",
            "Mystery, Thriller & Suspense       0.90    0.96    0.93      565\n",
            "Science Fiction & Fantasy          0.65    0.74    0.69     2727\n",
            "Humor & Entertainment              0.64    0.60    0.62      572\n",
            "Literature & Fiction               0.82    0.85    0.84     1564\n",
            "Gay & Lesbian                      0.85    0.88    0.86     1720\n",
            "Engineering & Transportation       0.77    0.76    0.77     1967\n",
            "Romance                            0.69    0.74    0.72     1769\n",
            "Crafts, Hobbies & Home             0.61    0.50    0.55      514\n",
            "Education & Teaching               0.72    0.70    0.71     2407\n",
            "Parenting & Relationships          0.64    0.66    0.65     1385\n",
            "Self-Help                          0.57    0.54    0.56     1344\n",
            "Computers & Technology             0.79    0.77    0.78     1459\n",
            "Medical Books                      0.50    0.54    0.52     1503\n",
            "Science & Math                     0.76    0.79    0.78     2433\n",
            "Health, Fitness & Dieting          0.66    0.53    0.59      434\n",
            "Business & Money                   0.55    0.53    0.54      498\n",
            "Law                                0.43    0.36    0.39      724\n",
            "Biographies & Memoirs              0.56    0.51    0.53      621\n",
            "History                            0.66    0.63    0.64     1521\n",
            "Politics & Social Sciences         0.56    0.60    0.58      877\n",
            "Reference                          0.71    0.69    0.70     1906\n",
            "Christian Books & Bibles           0.63    0.55    0.59      767\n",
            "Religion & Spirituality            0.45    0.44    0.44      599\n",
            "Sports & Outdoors                  0.68    0.66    0.67     1116\n",
            "Teen & Young Adult                 0.50    0.47    0.49     1557\n",
            "Children's Books                   0.84    0.79    0.81      593\n",
            "Travel                             0.84    0.86    0.85     3652\n",
            "Arts & Photography                 0.64    0.46    0.53      279\n",
            "Cookbooks, Food & Wine             0.53    0.57    0.55      306\n"
          ],
          "name": "stdout"
        }
      ]
    },
    {
      "cell_type": "code",
      "metadata": {
        "id": "3388t8bUpiPm"
      },
      "source": [
        "# save model evaluation as csv file in Google Drive\n",
        "df_acc.to_csv('/drive/My Drive/BERT_model_eval.csv')"
      ],
      "execution_count": null,
      "outputs": []
    },
    {
      "cell_type": "code",
      "metadata": {
        "id": "4zLohTxSKwWv"
      },
      "source": [
        ""
      ],
      "execution_count": null,
      "outputs": []
    }
  ]
}