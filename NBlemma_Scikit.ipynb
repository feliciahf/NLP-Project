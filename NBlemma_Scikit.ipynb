{
  "nbformat": 4,
  "nbformat_minor": 0,
  "metadata": {
    "colab": {
      "name": "NBlemma_Scikit.ipynb",
      "provenance": [],
      "collapsed_sections": [],
      "authorship_tag": "ABX9TyOFNHTNdSpDjdBMaZbLKcqS",
      "include_colab_link": true
    },
    "kernelspec": {
      "name": "python3",
      "display_name": "Python 3"
    }
  },
  "cells": [
    {
      "cell_type": "markdown",
      "metadata": {
        "id": "view-in-github",
        "colab_type": "text"
      },
      "source": [
        "<a href=\"https://colab.research.google.com/github/feliciahf/NLP-Project/blob/main/NBlemma_Scikit.ipynb\" target=\"_parent\"><img src=\"https://colab.research.google.com/assets/colab-badge.svg\" alt=\"Open In Colab\"/></a>"
      ]
    },
    {
      "cell_type": "markdown",
      "metadata": {
        "id": "5jCbiyarkF-T"
      },
      "source": [
        "# Lemmatization"
      ]
    },
    {
      "cell_type": "markdown",
      "metadata": {
        "id": "oWgc64umoGCx"
      },
      "source": [
        "## Importing Data"
      ]
    },
    {
      "cell_type": "code",
      "metadata": {
        "colab": {
          "base_uri": "https://localhost:8080/"
        },
        "id": "kWhS3JSpjfM_",
        "outputId": "7aca69bf-8133-45ab-9c27-bc0f9d56be06"
      },
      "source": [
        "# mount Google Drive\n",
        "from google.colab import  drive\n",
        "drive.mount('/drive')"
      ],
      "execution_count": 1,
      "outputs": [
        {
          "output_type": "stream",
          "text": [
            "Mounted at /drive\n"
          ],
          "name": "stdout"
        }
      ]
    },
    {
      "cell_type": "code",
      "metadata": {
        "id": "10ZUSaWNkLgK"
      },
      "source": [
        "# import file from Google Drive\n",
        "import pandas as pd\n",
        "df = pd.read_csv('/drive/My Drive/book32listing.csv',encoding='latin1', header=None)"
      ],
      "execution_count": 2,
      "outputs": []
    },
    {
      "cell_type": "code",
      "metadata": {
        "colab": {
          "base_uri": "https://localhost:8080/"
        },
        "id": "6Usxgc-WkOb1",
        "outputId": "792a3132-6d16-460c-8cdd-07009f1da0d6"
      },
      "source": [
        "# drop columns that are not needed\n",
        "#df = pd.read_csv(\"book32listing.csv\", encoding='latin1', header=None)\n",
        "df1 = df[[3,6,5]] # only columns with titles and genres\n",
        "df1.columns = ['title', 'genre', 'label']\n",
        "print(df1)"
      ],
      "execution_count": 11,
      "outputs": [
        {
          "output_type": "stream",
          "text": [
            "                                                    title      genre  label\n",
            "0                         Mom's Family Wall Calendar 2016  Calendars      3\n",
            "1                         Doug the Pug 2016 Wall Calendar  Calendars      3\n",
            "2       Moleskine 2016 Weekly Notebook, 12M, Large, Bl...  Calendars      3\n",
            "3                 365 Cats Color Page-A-Day Calendar 2016  Calendars      3\n",
            "4                    Sierra Club Engagement Calendar 2016  Calendars      3\n",
            "...                                                   ...        ...    ...\n",
            "207567  ADC the Map People Washington D.C.: Street Map...     Travel     29\n",
            "207568  Washington, D.C., Then and Now: 69 Sites Photo...     Travel     29\n",
            "207569  The Unofficial Guide to Washington, D.C. (Unof...     Travel     29\n",
            "207570      Washington, D.C. For Dummies (Dummies Travel)     Travel     29\n",
            "207571  Fodor's Where to Weekend Around Boston, 1st Ed...     Travel     29\n",
            "\n",
            "[207572 rows x 3 columns]\n"
          ],
          "name": "stdout"
        }
      ]
    },
    {
      "cell_type": "code",
      "metadata": {
        "colab": {
          "base_uri": "https://localhost:8080/"
        },
        "id": "kIDwjm92kPBQ",
        "outputId": "fbd153ea-949e-4d00-fe9b-7ee291de4010"
      },
      "source": [
        "titles = df1['title'] # list of all titles\n",
        "titles1 = titles.values.tolist() # change to list of strings\n",
        "print(titles1[0:6]) # test whether it worked"
      ],
      "execution_count": 4,
      "outputs": [
        {
          "output_type": "stream",
          "text": [
            "[\"Mom's Family Wall Calendar 2016\", 'Doug the Pug 2016 Wall Calendar', 'Moleskine 2016 Weekly Notebook, 12M, Large, Black, Soft Cover (5 x 8.25)', '365 Cats Color Page-A-Day Calendar 2016', 'Sierra Club Engagement Calendar 2016', 'Sierra Club Wilderness Calendar 2016']\n"
          ],
          "name": "stdout"
        }
      ]
    },
    {
      "cell_type": "code",
      "metadata": {
        "id": "cDeEYA8RkW0I"
      },
      "source": [
        "genres = df1['genre']\n",
        "genres = genres.values.tolist()\n",
        "genres = pd.DataFrame(genres)"
      ],
      "execution_count": 5,
      "outputs": []
    },
    {
      "cell_type": "code",
      "metadata": {
        "id": "i3Uc42dRmUqh"
      },
      "source": [
        "labels = df1['label']"
      ],
      "execution_count": 13,
      "outputs": []
    },
    {
      "cell_type": "markdown",
      "metadata": {
        "id": "An9VSuJcoIvo"
      },
      "source": [
        "## Preprocessing"
      ]
    },
    {
      "cell_type": "code",
      "metadata": {
        "colab": {
          "base_uri": "https://localhost:8080/"
        },
        "id": "jtOO0D9zmueI",
        "outputId": "43f8e54a-992e-4e45-f310-45976b43159a"
      },
      "source": [
        "# case collapsing\n",
        "df1['title'] = df1.title.map(lambda x: x.lower())"
      ],
      "execution_count": 18,
      "outputs": [
        {
          "output_type": "stream",
          "text": [
            "/usr/local/lib/python3.6/dist-packages/ipykernel_launcher.py:1: SettingWithCopyWarning: \n",
            "A value is trying to be set on a copy of a slice from a DataFrame.\n",
            "Try using .loc[row_indexer,col_indexer] = value instead\n",
            "\n",
            "See the caveats in the documentation: https://pandas.pydata.org/pandas-docs/stable/user_guide/indexing.html#returning-a-view-versus-a-copy\n",
            "  \"\"\"Entry point for launching an IPython kernel.\n"
          ],
          "name": "stderr"
        }
      ]
    },
    {
      "cell_type": "code",
      "metadata": {
        "colab": {
          "base_uri": "https://localhost:8080/"
        },
        "id": "sK6QVs2Cm6wU",
        "outputId": "2a1da649-d6dc-40a0-ae78-7a863973cc4b"
      },
      "source": [
        "# remove punctuation\n",
        "df1['title'] = df1.title.str.replace('[^\\w\\s]', '')"
      ],
      "execution_count": 19,
      "outputs": [
        {
          "output_type": "stream",
          "text": [
            "/usr/local/lib/python3.6/dist-packages/ipykernel_launcher.py:2: SettingWithCopyWarning: \n",
            "A value is trying to be set on a copy of a slice from a DataFrame.\n",
            "Try using .loc[row_indexer,col_indexer] = value instead\n",
            "\n",
            "See the caveats in the documentation: https://pandas.pydata.org/pandas-docs/stable/user_guide/indexing.html#returning-a-view-versus-a-copy\n",
            "  \n"
          ],
          "name": "stderr"
        }
      ]
    },
    {
      "cell_type": "code",
      "metadata": {
        "id": "tOtjrHIGnJZn"
      },
      "source": [
        "import nltk\n",
        "from nltk.tokenize import word_tokenize\n",
        "nltk.download('punkt')"
      ],
      "execution_count": null,
      "outputs": []
    },
    {
      "cell_type": "code",
      "metadata": {
        "colab": {
          "base_uri": "https://localhost:8080/"
        },
        "id": "Kqg87HeunKsm",
        "outputId": "c7fec835-6d4b-43da-8c90-9da13c77d30d"
      },
      "source": [
        "# tokenization\n",
        "df1['title'] = df1['title'].apply(nltk.word_tokenize)"
      ],
      "execution_count": 21,
      "outputs": [
        {
          "output_type": "stream",
          "text": [
            "/usr/local/lib/python3.6/dist-packages/ipykernel_launcher.py:1: SettingWithCopyWarning: \n",
            "A value is trying to be set on a copy of a slice from a DataFrame.\n",
            "Try using .loc[row_indexer,col_indexer] = value instead\n",
            "\n",
            "See the caveats in the documentation: https://pandas.pydata.org/pandas-docs/stable/user_guide/indexing.html#returning-a-view-versus-a-copy\n",
            "  \"\"\"Entry point for launching an IPython kernel.\n"
          ],
          "name": "stderr"
        }
      ]
    },
    {
      "cell_type": "code",
      "metadata": {
        "colab": {
          "base_uri": "https://localhost:8080/"
        },
        "id": "LSn4XTI0nbNP",
        "outputId": "c3a8f93b-d275-4b00-ed5a-1e423bb784bb"
      },
      "source": [
        "# lemmatization\n",
        "from nltk.stem import WordNetLemmatizer\n",
        "\n",
        "lemmatizer = WordNetLemmatizer()\n",
        " \n",
        "df1['title'] = df1['title'].apply(lambda x: [lemmatizer.lemmatize(y) for y in x])"
      ],
      "execution_count": 22,
      "outputs": [
        {
          "output_type": "stream",
          "text": [
            "/usr/local/lib/python3.6/dist-packages/ipykernel_launcher.py:6: SettingWithCopyWarning: \n",
            "A value is trying to be set on a copy of a slice from a DataFrame.\n",
            "Try using .loc[row_indexer,col_indexer] = value instead\n",
            "\n",
            "See the caveats in the documentation: https://pandas.pydata.org/pandas-docs/stable/user_guide/indexing.html#returning-a-view-versus-a-copy\n",
            "  \n"
          ],
          "name": "stderr"
        }
      ]
    },
    {
      "cell_type": "code",
      "metadata": {
        "colab": {
          "base_uri": "https://localhost:8080/"
        },
        "id": "YFMMtuN_nwlF",
        "outputId": "1d8dd3e9-fedd-483c-8154-8ae9821b1f06"
      },
      "source": [
        "# transform data into occurrences\n",
        "from sklearn.feature_extraction.text import CountVectorizer\n",
        "\n",
        "# This converts the list of words into space-separated strings\n",
        "df1['title'] = df1['title'].apply(lambda x: ' '.join(x))\n",
        "\n",
        "count_vect = CountVectorizer()\n",
        "counts = count_vect.fit_transform(df1['title'])"
      ],
      "execution_count": 23,
      "outputs": [
        {
          "output_type": "stream",
          "text": [
            "/usr/local/lib/python3.6/dist-packages/ipykernel_launcher.py:5: SettingWithCopyWarning: \n",
            "A value is trying to be set on a copy of a slice from a DataFrame.\n",
            "Try using .loc[row_indexer,col_indexer] = value instead\n",
            "\n",
            "See the caveats in the documentation: https://pandas.pydata.org/pandas-docs/stable/user_guide/indexing.html#returning-a-view-versus-a-copy\n",
            "  \"\"\"\n"
          ],
          "name": "stderr"
        }
      ]
    },
    {
      "cell_type": "code",
      "metadata": {
        "id": "yBTLWpMXn8zW"
      },
      "source": [
        "# tf-idf\n",
        "from sklearn.feature_extraction.text import TfidfTransformer\n",
        "\n",
        "transformer = TfidfTransformer().fit(counts)\n",
        "\n",
        "counts = transformer.transform(counts)"
      ],
      "execution_count": 24,
      "outputs": []
    },
    {
      "cell_type": "markdown",
      "metadata": {
        "id": "LnPdMjc_oAo-"
      },
      "source": [
        "## Training NB Model"
      ]
    },
    {
      "cell_type": "code",
      "metadata": {
        "id": "kBeA4Hekn-WU"
      },
      "source": [
        "# split data into train (80%) and test (20%)\n",
        "from sklearn.model_selection import train_test_split\n",
        "\n",
        "X_train, X_test, y_train, y_test = train_test_split(counts, df1['label'], test_size=0.2, random_state=69)"
      ],
      "execution_count": 26,
      "outputs": []
    },
    {
      "cell_type": "code",
      "metadata": {
        "id": "guqCm4hmoNVU"
      },
      "source": [
        "from sklearn.naive_bayes import MultinomialNB\n",
        "\n",
        "model = MultinomialNB().fit(X_train, y_train)"
      ],
      "execution_count": 27,
      "outputs": []
    },
    {
      "cell_type": "markdown",
      "metadata": {
        "id": "G7aGg7RqobWU"
      },
      "source": [
        "## Evaluating NB Model"
      ]
    },
    {
      "cell_type": "code",
      "metadata": {
        "colab": {
          "base_uri": "https://localhost:8080/"
        },
        "id": "L_jLzz1UoZLe",
        "outputId": "3e740642-4811-468a-d601-e65be77bbc63"
      },
      "source": [
        "# accuracy\n",
        "import numpy as np\n",
        "\n",
        "predicted = model.predict(X_test)\n",
        "\n",
        "print(np.mean(predicted == y_test))"
      ],
      "execution_count": 28,
      "outputs": [
        {
          "output_type": "stream",
          "text": [
            "0.5445501625918343\n"
          ],
          "name": "stdout"
        }
      ]
    },
    {
      "cell_type": "code",
      "metadata": {
        "colab": {
          "base_uri": "https://localhost:8080/"
        },
        "id": "H8VqPrMQodw-",
        "outputId": "b61feccf-4fbf-49f9-ff6a-0cdb340223d0"
      },
      "source": [
        "# confusion matrix\n",
        "from sklearn.metrics import confusion_matrix\n",
        "\n",
        "print(confusion_matrix(y_test, predicted))"
      ],
      "execution_count": 29,
      "outputs": [
        {
          "output_type": "stream",
          "text": [
            "[[ 341    0   61 ...  258    0    0]\n",
            " [   4   31   25 ...  257    0    0]\n",
            " [   5    0 1505 ...   92    0    0]\n",
            " ...\n",
            " [   3    0   22 ... 3419    0    0]\n",
            " [   3    0   12 ...   57    1    0]\n",
            " [   0    0   89 ...   13    0    5]]\n"
          ],
          "name": "stdout"
        }
      ]
    },
    {
      "cell_type": "code",
      "metadata": {
        "id": "VdStjJxzokxN"
      },
      "source": [
        ""
      ],
      "execution_count": null,
      "outputs": []
    }
  ]
}